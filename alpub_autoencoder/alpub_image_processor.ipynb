{
 "cells": [
  {
   "cell_type": "code",
   "execution_count": 1,
   "metadata": {
    "collapsed": true
   },
   "outputs": [],
   "source": [
    "import numpy as np\n",
    "import matplotlib.pyplot as plt\n",
    "\n",
    "from alpub_autoencoder.autoencoder_utils import read_alpub_data\n",
    "from PIL import Image\n",
    "\n",
    "%matplotlib inline\n",
    "\n",
    "%load_ext autoreload\n",
    "%autoreload 2"
   ]
  },
  {
   "cell_type": "code",
   "execution_count": 2,
   "outputs": [],
   "source": [
    "ALPUB_PATH = '../../Datasets/alpub_v2/images'"
   ],
   "metadata": {
    "collapsed": false,
    "pycharm": {
     "name": "#%%\n"
    }
   }
  },
  {
   "cell_type": "code",
   "execution_count": 3,
   "outputs": [
    {
     "name": "stdout",
     "output_type": "stream",
     "text": [
      "Processing Alpha\n",
      "Processing Beta\n",
      "Processing Chi\n",
      "Processing Delta\n",
      "Processing Epsilon\n",
      "Processing Eta\n",
      "Processing Gamma\n",
      "Processing Iota\n",
      "Processing Kappa\n",
      "Processing Lambda\n",
      "Processing LunateSigma\n",
      "Processing Mu\n",
      "Processing Nu\n",
      "Processing Omega\n",
      "Processing Omicron\n",
      "Processing Phi\n",
      "Processing Pi\n",
      "Processing Psi\n",
      "Processing Rho\n",
      "Processing Tau\n",
      "Processing Theta\n",
      "Processing Upsilon\n",
      "Processing Xi\n",
      "Processing Zeta\n"
     ]
    }
   ],
   "source": [
    "X,Y = read_alpub_data(path=ALPUB_PATH)"
   ],
   "metadata": {
    "collapsed": false,
    "pycharm": {
     "name": "#%%\n"
    }
   }
  },
  {
   "cell_type": "code",
   "execution_count": 4,
   "outputs": [
    {
     "data": {
      "text/plain": "(205797, 24)"
     },
     "execution_count": 4,
     "metadata": {},
     "output_type": "execute_result"
    }
   ],
   "source": [
    "Y.shape"
   ],
   "metadata": {
    "collapsed": false,
    "pycharm": {
     "name": "#%%\n"
    }
   }
  },
  {
   "cell_type": "code",
   "execution_count": 5,
   "outputs": [
    {
     "data": {
      "text/plain": "(205797, 70, 70, 3)"
     },
     "execution_count": 5,
     "metadata": {},
     "output_type": "execute_result"
    }
   ],
   "source": [
    "X.shape"
   ],
   "metadata": {
    "collapsed": false,
    "pycharm": {
     "name": "#%%\n"
    }
   }
  },
  {
   "cell_type": "code",
   "execution_count": 6,
   "outputs": [],
   "source": [
    "# Convert the RGB images to grayscale\n",
    "X_gray = []\n",
    "for img in X:\n",
    "    image_gray = Image.fromarray(img).convert(\"L\")\n",
    "    X_gray.append(np.array(image_gray))"
   ],
   "metadata": {
    "collapsed": false,
    "pycharm": {
     "name": "#%%\n"
    }
   }
  },
  {
   "cell_type": "code",
   "execution_count": 290,
   "outputs": [],
   "source": [
    "# Load the greyscaled image\n",
    "\n",
    "image_no = 126456\n",
    "image = X_gray[image_no]"
   ],
   "metadata": {
    "collapsed": false,
    "pycharm": {
     "name": "#%%\n"
    }
   }
  },
  {
   "cell_type": "code",
   "execution_count": 291,
   "outputs": [
    {
     "data": {
      "text/plain": "<Figure size 640x480 with 1 Axes>",
      "image/png": "[encoded data removed]"
     },
     "metadata": {},
     "output_type": "display_data"
    }
   ],
   "source": [
    "# Display the grayscale image\n",
    "plt.imshow(image, cmap=\"gray\")\n",
    "plt.axis(\"off\")\n",
    "plt.show()"
   ],
   "metadata": {
    "collapsed": false,
    "pycharm": {
     "name": "#%%\n"
    }
   }
  },
  {
   "cell_type": "code",
   "execution_count": 292,
   "outputs": [],
   "source": [
    "import cv2"
   ],
   "metadata": {
    "collapsed": false,
    "pycharm": {
     "name": "#%%\n"
    }
   }
  },
  {
   "cell_type": "code",
   "execution_count": 293,
   "outputs": [],
   "source": [
    "# Apply median smoothing\n",
    "\n",
    "image = cv2.medianBlur(image, 3)\n",
    "\n",
    "# Apply Gaussian smoothing\n",
    "image = cv2.GaussianBlur(image, (3, 3), 0)"
   ],
   "metadata": {
    "collapsed": false,
    "pycharm": {
     "name": "#%%\n"
    }
   }
  },
  {
   "cell_type": "code",
   "execution_count": 294,
   "outputs": [
    {
     "data": {
      "text/plain": "<Figure size 640x480 with 1 Axes>",
      "image/png": "[encoded data removed]"
     },
     "metadata": {},
     "output_type": "display_data"
    }
   ],
   "source": [
    "# Apply global thresholding\n",
    "\n",
    "threshold_value = 75  # Threshold value\n",
    "max_value = 255  # Maximum value after thresholding\n",
    "_, thresholded_image = cv2.threshold(image, threshold_value, max_value, cv2.THRESH_BINARY)\n",
    "\n",
    "# Display the thresholded image\n",
    "plt.imshow(thresholded_image, cmap=\"gray\")\n",
    "plt.axis(\"off\")\n",
    "plt.show()"
   ],
   "metadata": {
    "collapsed": false,
    "pycharm": {
     "name": "#%%\n"
    }
   }
  },
  {
   "cell_type": "code",
   "execution_count": 295,
   "outputs": [
    {
     "data": {
      "text/plain": "<Figure size 640x480 with 1 Axes>",
      "image/png": "[encoded data removed]"
     },
     "metadata": {},
     "output_type": "display_data"
    }
   ],
   "source": [
    "# Apply adaptive thresholding\n",
    "\n",
    "# Set the blockSize and C parameters as per your requirements\n",
    "adapt_thresholded_image = cv2.adaptiveThreshold(image, 255, cv2.ADAPTIVE_THRESH_MEAN_C, cv2.THRESH_BINARY, blockSize=11, C=2)\n",
    "\n",
    "adapt_thresholded_image = cv2.bitwise_not(adapt_thresholded_image)\n",
    "\n",
    "# Display the thresholded image\n",
    "plt.imshow(adapt_thresholded_image, cmap=\"gray\")\n",
    "plt.axis(\"off\")\n",
    "plt.show()"
   ],
   "metadata": {
    "collapsed": false,
    "pycharm": {
     "name": "#%%\n"
    }
   }
  },
  {
   "cell_type": "code",
   "execution_count": 296,
   "outputs": [
    {
     "data": {
      "text/plain": "<Figure size 640x480 with 1 Axes>",
      "image/png": "[encoded data removed]"
     },
     "metadata": {},
     "output_type": "display_data"
    }
   ],
   "source": [
    "# Define the structuring element for erosion and dilation\n",
    "kernel = np.ones((3, 3), np.uint8)\n",
    "\n",
    "# Perform dilation\n",
    "seg_image = cv2.dilate(adapt_thresholded_image, kernel, iterations=1)\n",
    "\n",
    "# Perform erosion\n",
    "seg_image = cv2.erode(seg_image, kernel, iterations=1)\n",
    "\n",
    "# Display the segmented image\n",
    "plt.imshow(seg_image, cmap=\"gray\")\n",
    "plt.axis(\"off\")\n",
    "plt.show()"
   ],
   "metadata": {
    "collapsed": false,
    "pycharm": {
     "name": "#%%\n"
    }
   }
  },
  {
   "cell_type": "code",
   "execution_count": 297,
   "outputs": [
    {
     "data": {
      "text/plain": "<Figure size 640x480 with 1 Axes>",
      "image/png": "[encoded data removed]"
     },
     "metadata": {},
     "output_type": "display_data"
    }
   ],
   "source": [
    "#Remove disconnected regions\n",
    "\n",
    "# Perform connected component analysis\n",
    "num_labels, labels, stats, centroids = cv2.connectedComponentsWithStats(seg_image)\n",
    "\n",
    "# Remove small disconnected regions\n",
    "min_region_size = 200  # Minimum region size to keep\n",
    "\n",
    "# Create a mask to filter out small regions\n",
    "mask = np.zeros_like(seg_image, dtype=np.uint8)\n",
    "\n",
    "for label in range(1, num_labels):\n",
    "\n",
    "    region_size = stats[label, cv2.CC_STAT_AREA]\n",
    "\n",
    "    if region_size >= min_region_size:\n",
    "        mask[labels == label] = 255\n",
    "\n",
    "# Apply the mask to the segmented image\n",
    "filtered_image = cv2.bitwise_and(seg_image, mask)\n",
    "\n",
    "# Display the filtered image\n",
    "plt.imshow(filtered_image, cmap=\"gray\")\n",
    "plt.axis(\"off\")\n",
    "plt.show()"
   ],
   "metadata": {
    "collapsed": false,
    "pycharm": {
     "name": "#%%\n"
    }
   }
  },
  {
   "cell_type": "code",
   "execution_count": 298,
   "outputs": [
    {
     "data": {
      "text/plain": "<Figure size 640x480 with 1 Axes>",
      "image/png": "[encoded data removed]"
     },
     "metadata": {},
     "output_type": "display_data"
    }
   ],
   "source": [
    "#Otsu's thresholding\n",
    "\n",
    "# Find the threshold value using Otsu's method\n",
    "_, threshold_value = cv2.threshold(image, 0, 255, cv2.THRESH_BINARY + cv2.THRESH_OTSU)\n",
    "\n",
    "# Apply the thresholding\n",
    "thresholded_image = np.where(image > threshold_value, 255, 0).astype(np.uint8)\n",
    "\n",
    "# Display the thresholded image\n",
    "plt.imshow(thresholded_image, cmap=\"gray\")\n",
    "plt.axis(\"off\")\n",
    "plt.show()"
   ],
   "metadata": {
    "collapsed": false,
    "pycharm": {
     "name": "#%%\n"
    }
   }
  },
  {
   "cell_type": "code",
   "execution_count": 299,
   "outputs": [
    {
     "data": {
      "text/plain": "<Figure size 640x480 with 1 Axes>",
      "image/png": "[encoded data removed]"
     },
     "metadata": {},
     "output_type": "display_data"
    }
   ],
   "source": [
    "# Perform erosion and dialation\n",
    "\n",
    "# Define the structuring element for erosion and dilation\n",
    "kernel = np.ones((3, 3), np.uint8)\n",
    "\n",
    "# Perform dilation\n",
    "seg_image = cv2.dilate(thresholded_image, kernel, iterations=1)\n",
    "\n",
    "# Perform erosion\n",
    "seg_image = cv2.erode(seg_image, kernel, iterations=1)\n",
    "\n",
    "\n",
    "\n",
    "# Display the segmented image\n",
    "plt.imshow(seg_image, cmap=\"gray\")\n",
    "plt.axis(\"off\")\n",
    "plt.show()"
   ],
   "metadata": {
    "collapsed": false,
    "pycharm": {
     "name": "#%%\n"
    }
   }
  },
  {
   "cell_type": "code",
   "execution_count": 300,
   "outputs": [
    {
     "data": {
      "text/plain": "<Figure size 640x480 with 1 Axes>",
      "image/png": "[encoded data removed]"
     },
     "metadata": {},
     "output_type": "display_data"
    }
   ],
   "source": [
    "#Remove disconnected regions\n",
    "\n",
    "# Perform connected component analysis\n",
    "num_labels, labels, stats, centroids = cv2.connectedComponentsWithStats(seg_image)\n",
    "\n",
    "# Remove small disconnected regions\n",
    "min_region_size = 200  # Minimum region size to keep\n",
    "\n",
    "# Create a mask to filter out small regions\n",
    "mask = np.zeros_like(seg_image, dtype=np.uint8)\n",
    "\n",
    "for label in range(1, num_labels):\n",
    "\n",
    "    region_size = stats[label, cv2.CC_STAT_AREA]\n",
    "\n",
    "    if region_size >= min_region_size:\n",
    "        mask[labels == label] = 255\n",
    "\n",
    "# Apply the mask to the segmented image\n",
    "filtered_image = cv2.bitwise_and(seg_image, mask)\n",
    "\n",
    "# Display the filtered image\n",
    "plt.imshow(filtered_image, cmap=\"gray\")\n",
    "plt.axis(\"off\")\n",
    "plt.show()"
   ],
   "metadata": {
    "collapsed": false,
    "pycharm": {
     "name": "#%%\n"
    }
   }
  },
  {
   "cell_type": "code",
   "execution_count": 25,
   "outputs": [
    {
     "name": "stdout",
     "output_type": "stream",
     "text": [
      "[[0 0 0 ... 0 0 0]\n",
      " [0 0 0 ... 0 0 0]\n",
      " [0 0 0 ... 0 0 0]\n",
      " ...\n",
      " [0 0 0 ... 0 0 0]\n",
      " [0 0 0 ... 0 0 0]\n",
      " [0 0 0 ... 0 0 0]]\n"
     ]
    }
   ],
   "source": [
    "print(filtered_image)"
   ],
   "metadata": {
    "collapsed": false,
    "pycharm": {
     "name": "#%%\n"
    }
   }
  },
  {
   "cell_type": "code",
   "execution_count": null,
   "outputs": [],
   "source": [],
   "metadata": {
    "collapsed": false,
    "pycharm": {
     "name": "#%%\n"
    }
   }
  }
 ],
 "metadata": {
  "kernelspec": {
   "display_name": "Python 3",
   "language": "python",
   "name": "python3"
  },
  "language_info": {
   "codemirror_mode": {
    "name": "ipython",
    "version": 2
   },
   "file_extension": ".py",
   "mimetype": "text/x-python",
   "name": "python",
   "nbconvert_exporter": "python",
   "pygments_lexer": "ipython2",
   "version": "2.7.6"
  }
 },
 "nbformat": 4,
 "nbformat_minor": 0
}