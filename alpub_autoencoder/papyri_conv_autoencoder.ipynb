{
 "cells": [
  {
   "cell_type": "code",
   "execution_count": 2,
   "metadata": {
    "collapsed": true
   },
   "outputs": [],
   "source": [
    "import numpy as np\n",
    "import matplotlib.pyplot as plt\n",
    "\n",
    "from autoencoder_utils import read_payri_images\n",
    "\n",
    "from PIL import Image\n",
    "\n",
    "%matplotlib inline\n",
    "\n",
    "%load_ext autoreload\n",
    "%autoreload 2"
   ]
  },
  {
   "cell_type": "code",
   "execution_count": 3,
   "outputs": [],
   "source": [
    "PAPYRI_BASE= '../../Datasets/alpub_v2/papyri_images/seg_mask_otsu_256_200'"
   ],
   "metadata": {
    "collapsed": false,
    "pycharm": {
     "name": "#%%\n"
    }
   }
  },
  {
   "cell_type": "code",
   "execution_count": 10,
   "outputs": [],
   "source": [
    "import torch\n",
    "import torchvision.transforms as transforms\n",
    "from torchvision.datasets import ImageFolder\n",
    "from torch.utils.data import DataLoader, random_split"
   ],
   "metadata": {
    "collapsed": false,
    "pycharm": {
     "name": "#%%\n"
    }
   }
  },
  {
   "cell_type": "code",
   "execution_count": 12,
   "outputs": [],
   "source": [
    "# Define transformations to be applied to the images (if needed)\n",
    "# You can customize these transformations based on your specific requirements\n",
    "transform = transforms.Compose([\n",
    "    transforms.Resize((256, 256)),  # Resize the image to a fixed size (e.g., 256x256)\n",
    "    transforms.ToTensor(),         # Convert the image to a PyTorch tensor\n",
    "])\n",
    "\n",
    "# Create the ImageFolder dataset\n",
    "dataset = ImageFolder(root=PAPYRI_BASE, transform=transform)\n",
    "\n",
    "# Define the ratio of data to be used for training, validation, and testing\n",
    "train_ratio = 0.8\n",
    "val_ratio = 0.1\n",
    "test_ratio = 0.1\n",
    "\n",
    "# Calculate the number of samples for each set based on the ratios\n",
    "num_samples = len(dataset)\n",
    "num_train_samples = int(train_ratio * num_samples)\n",
    "num_val_samples = int(val_ratio * num_samples)\n",
    "num_test_samples = num_samples - num_train_samples - num_val_samples\n",
    "\n",
    "# Use random_split to split the dataset into training, validation, and test sets\n",
    "train_set, val_set, test_set = random_split(dataset, [num_train_samples, num_val_samples, num_test_samples])\n",
    "\n",
    "# Create the DataLoaders for each set\n",
    "batch_size = 32\n",
    "train_loader = DataLoader(train_set, batch_size=batch_size, shuffle=True)\n",
    "val_loader = DataLoader(val_set, batch_size=batch_size, shuffle=False)\n",
    "test_loader = DataLoader(test_set, batch_size=batch_size, shuffle=False)"
   ],
   "metadata": {
    "collapsed": false,
    "pycharm": {
     "name": "#%%\n"
    }
   }
  },
  {
   "cell_type": "code",
   "execution_count": 15,
   "outputs": [
    {
     "name": "stdout",
     "output_type": "stream",
     "text": [
      "Number of batches: 1089\n",
      "Batch size: 32\n",
      "Total number of samples: 34848\n"
     ]
    }
   ],
   "source": [
    "# Assuming you have already created the DataLoader (train_loader, val_loader, or test_loader)\n",
    "\n",
    "# Get the number of batches in the DataLoader\n",
    "num_batches = len(train_loader)  # Change 'train_loader' to 'val_loader' or 'test_loader' as needed\n",
    "\n",
    "# Get the batch size used in the DataLoader\n",
    "batch_size = train_loader.batch_size  # Change 'train_loader' to 'val_loader' or 'test_loader' as needed\n",
    "\n",
    "# Calculate the total number of samples in the DataLoader\n",
    "total_samples = num_batches * batch_size\n",
    "\n",
    "print(\"Number of batches:\", num_batches)\n",
    "print(\"Batch size:\", batch_size)\n",
    "print(\"Total number of samples:\", total_samples)"
   ],
   "metadata": {
    "collapsed": false,
    "pycharm": {
     "name": "#%%\n"
    }
   }
  },
  {
   "cell_type": "code",
   "execution_count": 17,
   "outputs": [],
   "source": [
    "#UNet Implementation\n",
    "\n",
    "import torch.nn as nn\n",
    "import torch.optim as optim\n",
    "import torch.nn.functional as func\n",
    "\n",
    "from torch.utils.data import DataLoader, Dataset, Subset"
   ],
   "metadata": {
    "collapsed": false,
    "pycharm": {
     "name": "#%%\n"
    }
   }
  },
  {
   "cell_type": "code",
   "execution_count": 18,
   "outputs": [],
   "source": [
    "#Simple UNet Model without skip connections. Works with 512x512 image size\n",
    "\n",
    "class UNetWithoutSkipConnections(nn.Module):\n",
    "    def __init__(self, in_channels, out_channels, dropout_prob):\n",
    "        super(UNetWithoutSkipConnections, self).__init__()\n",
    "\n",
    "        # Encoder\n",
    "        self.encoder = nn.Sequential(\n",
    "\n",
    "            nn.Conv2d(in_channels, 16, kernel_size=3, stride=1, padding=1),#256x256x16\n",
    "            nn.ReLU(),\n",
    "            nn.Conv2d(16, 16, kernel_size=3, stride=1, padding=1), #256x256x16\n",
    "            nn.BatchNorm2d(16),\n",
    "            nn.ReLU(),\n",
    "            nn.MaxPool2d(kernel_size=2, stride=2),  #128x128x16\n",
    "\n",
    "            nn.Conv2d(16, 32, kernel_size=3, stride=1, padding=1),#128x128x32\n",
    "            nn.ReLU(),\n",
    "            nn.Conv2d(32, 32, kernel_size=3, stride=1, padding=1), #128x128x32\n",
    "            nn.BatchNorm2d(32),\n",
    "            nn.ReLU(),\n",
    "            nn.MaxPool2d(kernel_size=2, stride=2),  #64x64x32\n",
    "\n",
    "            nn.Conv2d(32, 64, kernel_size=3, stride=1, padding=1),#64x64x64\n",
    "            nn.ReLU(),\n",
    "            nn.Conv2d(64, 64, kernel_size=3, stride=1, padding=1), #64x64x64\n",
    "            nn.BatchNorm2d(64),\n",
    "            nn.ReLU(),\n",
    "            nn.MaxPool2d(kernel_size=2, stride=2),  #32x32x64\n",
    "\n",
    "            nn.Conv2d(64, 128, kernel_size=3, stride=1, padding=1),#32x32x128\n",
    "            nn.ReLU(),\n",
    "            nn.Conv2d(128, 128, kernel_size=3, stride=1, padding=1), #32x32x128\n",
    "            nn.BatchNorm2d(128),\n",
    "            nn.ReLU(),\n",
    "            nn.MaxPool2d(kernel_size=2, stride=2),  #16x16x128\n",
    "\n",
    "            nn.Conv2d(128, 256, kernel_size=3, stride=1, padding=1),#16x16x256\n",
    "            nn.ReLU(),\n",
    "            nn.Conv2d(256, 256, kernel_size=3, stride=1, padding=1), #16x16x256\n",
    "            nn.BatchNorm2d(256),\n",
    "            nn.ReLU(),\n",
    "            nn.MaxPool2d(kernel_size=2, stride=2),  #8x8x256\n",
    "\n",
    "            nn.Conv2d(256, 512, kernel_size=3, stride=1, padding=1),#8x8x512\n",
    "            nn.ReLU(),\n",
    "            nn.Conv2d(512, 512, kernel_size=3, stride=1, padding=1), #8x8x512\n",
    "            nn.BatchNorm2d(512),\n",
    "            nn.ReLU(),\n",
    "            nn.MaxPool2d(kernel_size=2, stride=2),  #4x4x512\n",
    "        )\n",
    "\n",
    "        # Decoder\n",
    "        self.decoder = nn.Sequential(\n",
    "\n",
    "            nn.Conv2d(512, 512, kernel_size=3, stride=1, padding=1), #4x4x512\n",
    "            nn.Upsample(scale_factor=2),#8x8x512\n",
    "            nn.ReLU(),\n",
    "            nn.Dropout2d(p=dropout_prob),\n",
    "\n",
    "            nn.Conv2d(512, 256, kernel_size=3, stride=1, padding=1), #8x8x256\n",
    "            nn.Upsample(scale_factor=2),#16x16x256\n",
    "            nn.ReLU(),\n",
    "            nn.Dropout2d(p=dropout_prob),\n",
    "\n",
    "            nn.Conv2d(256, 128, kernel_size=3, stride=1, padding=1),#16x16x128\n",
    "            nn.Upsample(scale_factor=2),#32x32x128\n",
    "            nn.ReLU(),\n",
    "            nn.Dropout2d(p=dropout_prob),\n",
    "\n",
    "            nn.Conv2d(128, 64, kernel_size=3, stride=1, padding=1),#32x32x64\n",
    "            nn.Upsample(scale_factor=2), #64x64x64\n",
    "            nn.ReLU(),\n",
    "            nn.Dropout2d(p=dropout_prob),\n",
    "\n",
    "            nn.Conv2d(64, 32, kernel_size=3, stride=1, padding=1),#64x64x32\n",
    "            nn.Upsample(scale_factor=2), #128x128x32\n",
    "            nn.ReLU(),\n",
    "            nn.Dropout2d(p=dropout_prob),\n",
    "\n",
    "            nn.Conv2d(32, 16, kernel_size=3, stride=1, padding=1),#128x128x16\n",
    "            nn.Upsample(scale_factor=2), #256x256x16\n",
    "            nn.ReLU(),\n",
    "            nn.Dropout2d(p=dropout_prob),\n",
    "\n",
    "            nn.Conv2d(16, out_channels, kernel_size=3, stride=1, padding=1), #256x256x1\n",
    "            nn.Sigmoid()\n",
    "        )\n",
    "\n",
    "    def forward(self, x):\n",
    "        #print(x.shape)\n",
    "        x = self.encoder(x)\n",
    "        #print(x.shape)\n",
    "        x = self.decoder(x)\n",
    "        #print(x.shape)\n",
    "        return x"
   ],
   "metadata": {
    "collapsed": false,
    "pycharm": {
     "name": "#%%\n"
    }
   }
  },
  {
   "cell_type": "code",
   "execution_count": null,
   "outputs": [],
   "source": [],
   "metadata": {
    "collapsed": false,
    "pycharm": {
     "name": "#%%\n"
    }
   }
  }
 ],
 "metadata": {
  "kernelspec": {
   "display_name": "Python 3",
   "language": "python",
   "name": "python3"
  },
  "language_info": {
   "codemirror_mode": {
    "name": "ipython",
    "version": 2
   },
   "file_extension": ".py",
   "mimetype": "text/x-python",
   "name": "python",
   "nbconvert_exporter": "python",
   "pygments_lexer": "ipython2",
   "version": "2.7.6"
  }
 },
 "nbformat": 4,
 "nbformat_minor": 0
}