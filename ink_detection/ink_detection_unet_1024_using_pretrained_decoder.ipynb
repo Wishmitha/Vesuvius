{
 "cells": [
  {
   "cell_type": "code",
   "execution_count": 47,
   "metadata": {
    "collapsed": true
   },
   "outputs": [],
   "source": [
    "import os\n",
    "from PIL import Image\n",
    "import torch\n",
    "from torch.utils.data import Dataset, DataLoader"
   ]
  },
  {
   "cell_type": "code",
   "execution_count": 56,
   "outputs": [],
   "source": [
    "class LazyLoadDataset(Dataset):\n",
    "    def __init__(self, root_dir, transform=None):\n",
    "        self.root_dir = root_dir\n",
    "        self.transform = transform\n",
    "        self.samples = []  # To store tuples of (X_paths, Y_path)\n",
    "\n",
    "        for class_name in os.listdir(root_dir):\n",
    "            class_dir = os.path.join(root_dir, class_name)\n",
    "            if os.path.isdir(class_dir):\n",
    "                ink_label_dir = os.path.join(class_dir, \"inklabel_crops\")\n",
    "                surface_volume_dir = os.path.join(class_dir, \"surface_volume\")\n",
    "                mask_path = os.path.join(class_dir, \"mask.png\")\n",
    "\n",
    "                for i in range(65):  # Assuming there are 65 crop images\n",
    "                    Y_path = os.path.join(ink_label_dir, f\"crop_{i}.png\")\n",
    "                    X_paths = [\n",
    "                        os.path.join(surface_volume_dir, f\"{j:02d}_crops\", f\"crop_{i}.png\")\n",
    "                        for j in range(65)\n",
    "                    ]\n",
    "                    self.samples.append((X_paths, Y_path))\n",
    "\n",
    "    def __len__(self):\n",
    "        return len(self.samples)\n",
    "\n",
    "    def __getitem__(self, idx):\n",
    "        X_paths, Y_path = self.samples[idx]\n",
    "\n",
    "        return X_paths, Y_path"
   ],
   "metadata": {
    "collapsed": false,
    "pycharm": {
     "name": "#%%\n"
    }
   }
  },
  {
   "cell_type": "code",
   "execution_count": 57,
   "outputs": [
    {
     "name": "stdout",
     "output_type": "stream",
     "text": [
      "X paths: [('../../Datasets/vesuvius-challenge-ink-detection/cropped_train_1024\\\\3\\\\surface_volume\\\\00_crops\\\\crop_50.png',), ('../../Datasets/vesuvius-challenge-ink-detection/cropped_train_1024\\\\3\\\\surface_volume\\\\01_crops\\\\crop_50.png',), ('../../Datasets/vesuvius-challenge-ink-detection/cropped_train_1024\\\\3\\\\surface_volume\\\\02_crops\\\\crop_50.png',), ('../../Datasets/vesuvius-challenge-ink-detection/cropped_train_1024\\\\3\\\\surface_volume\\\\03_crops\\\\crop_50.png',), ('../../Datasets/vesuvius-challenge-ink-detection/cropped_train_1024\\\\3\\\\surface_volume\\\\04_crops\\\\crop_50.png',), ('../../Datasets/vesuvius-challenge-ink-detection/cropped_train_1024\\\\3\\\\surface_volume\\\\05_crops\\\\crop_50.png',), ('../../Datasets/vesuvius-challenge-ink-detection/cropped_train_1024\\\\3\\\\surface_volume\\\\06_crops\\\\crop_50.png',), ('../../Datasets/vesuvius-challenge-ink-detection/cropped_train_1024\\\\3\\\\surface_volume\\\\07_crops\\\\crop_50.png',), ('../../Datasets/vesuvius-challenge-ink-detection/cropped_train_1024\\\\3\\\\surface_volume\\\\08_crops\\\\crop_50.png',), ('../../Datasets/vesuvius-challenge-ink-detection/cropped_train_1024\\\\3\\\\surface_volume\\\\09_crops\\\\crop_50.png',), ('../../Datasets/vesuvius-challenge-ink-detection/cropped_train_1024\\\\3\\\\surface_volume\\\\10_crops\\\\crop_50.png',), ('../../Datasets/vesuvius-challenge-ink-detection/cropped_train_1024\\\\3\\\\surface_volume\\\\11_crops\\\\crop_50.png',), ('../../Datasets/vesuvius-challenge-ink-detection/cropped_train_1024\\\\3\\\\surface_volume\\\\12_crops\\\\crop_50.png',), ('../../Datasets/vesuvius-challenge-ink-detection/cropped_train_1024\\\\3\\\\surface_volume\\\\13_crops\\\\crop_50.png',), ('../../Datasets/vesuvius-challenge-ink-detection/cropped_train_1024\\\\3\\\\surface_volume\\\\14_crops\\\\crop_50.png',), ('../../Datasets/vesuvius-challenge-ink-detection/cropped_train_1024\\\\3\\\\surface_volume\\\\15_crops\\\\crop_50.png',), ('../../Datasets/vesuvius-challenge-ink-detection/cropped_train_1024\\\\3\\\\surface_volume\\\\16_crops\\\\crop_50.png',), ('../../Datasets/vesuvius-challenge-ink-detection/cropped_train_1024\\\\3\\\\surface_volume\\\\17_crops\\\\crop_50.png',), ('../../Datasets/vesuvius-challenge-ink-detection/cropped_train_1024\\\\3\\\\surface_volume\\\\18_crops\\\\crop_50.png',), ('../../Datasets/vesuvius-challenge-ink-detection/cropped_train_1024\\\\3\\\\surface_volume\\\\19_crops\\\\crop_50.png',), ('../../Datasets/vesuvius-challenge-ink-detection/cropped_train_1024\\\\3\\\\surface_volume\\\\20_crops\\\\crop_50.png',), ('../../Datasets/vesuvius-challenge-ink-detection/cropped_train_1024\\\\3\\\\surface_volume\\\\21_crops\\\\crop_50.png',), ('../../Datasets/vesuvius-challenge-ink-detection/cropped_train_1024\\\\3\\\\surface_volume\\\\22_crops\\\\crop_50.png',), ('../../Datasets/vesuvius-challenge-ink-detection/cropped_train_1024\\\\3\\\\surface_volume\\\\23_crops\\\\crop_50.png',), ('../../Datasets/vesuvius-challenge-ink-detection/cropped_train_1024\\\\3\\\\surface_volume\\\\24_crops\\\\crop_50.png',), ('../../Datasets/vesuvius-challenge-ink-detection/cropped_train_1024\\\\3\\\\surface_volume\\\\25_crops\\\\crop_50.png',), ('../../Datasets/vesuvius-challenge-ink-detection/cropped_train_1024\\\\3\\\\surface_volume\\\\26_crops\\\\crop_50.png',), ('../../Datasets/vesuvius-challenge-ink-detection/cropped_train_1024\\\\3\\\\surface_volume\\\\27_crops\\\\crop_50.png',), ('../../Datasets/vesuvius-challenge-ink-detection/cropped_train_1024\\\\3\\\\surface_volume\\\\28_crops\\\\crop_50.png',), ('../../Datasets/vesuvius-challenge-ink-detection/cropped_train_1024\\\\3\\\\surface_volume\\\\29_crops\\\\crop_50.png',), ('../../Datasets/vesuvius-challenge-ink-detection/cropped_train_1024\\\\3\\\\surface_volume\\\\30_crops\\\\crop_50.png',), ('../../Datasets/vesuvius-challenge-ink-detection/cropped_train_1024\\\\3\\\\surface_volume\\\\31_crops\\\\crop_50.png',), ('../../Datasets/vesuvius-challenge-ink-detection/cropped_train_1024\\\\3\\\\surface_volume\\\\32_crops\\\\crop_50.png',), ('../../Datasets/vesuvius-challenge-ink-detection/cropped_train_1024\\\\3\\\\surface_volume\\\\33_crops\\\\crop_50.png',), ('../../Datasets/vesuvius-challenge-ink-detection/cropped_train_1024\\\\3\\\\surface_volume\\\\34_crops\\\\crop_50.png',), ('../../Datasets/vesuvius-challenge-ink-detection/cropped_train_1024\\\\3\\\\surface_volume\\\\35_crops\\\\crop_50.png',), ('../../Datasets/vesuvius-challenge-ink-detection/cropped_train_1024\\\\3\\\\surface_volume\\\\36_crops\\\\crop_50.png',), ('../../Datasets/vesuvius-challenge-ink-detection/cropped_train_1024\\\\3\\\\surface_volume\\\\37_crops\\\\crop_50.png',), ('../../Datasets/vesuvius-challenge-ink-detection/cropped_train_1024\\\\3\\\\surface_volume\\\\38_crops\\\\crop_50.png',), ('../../Datasets/vesuvius-challenge-ink-detection/cropped_train_1024\\\\3\\\\surface_volume\\\\39_crops\\\\crop_50.png',), ('../../Datasets/vesuvius-challenge-ink-detection/cropped_train_1024\\\\3\\\\surface_volume\\\\40_crops\\\\crop_50.png',), ('../../Datasets/vesuvius-challenge-ink-detection/cropped_train_1024\\\\3\\\\surface_volume\\\\41_crops\\\\crop_50.png',), ('../../Datasets/vesuvius-challenge-ink-detection/cropped_train_1024\\\\3\\\\surface_volume\\\\42_crops\\\\crop_50.png',), ('../../Datasets/vesuvius-challenge-ink-detection/cropped_train_1024\\\\3\\\\surface_volume\\\\43_crops\\\\crop_50.png',), ('../../Datasets/vesuvius-challenge-ink-detection/cropped_train_1024\\\\3\\\\surface_volume\\\\44_crops\\\\crop_50.png',), ('../../Datasets/vesuvius-challenge-ink-detection/cropped_train_1024\\\\3\\\\surface_volume\\\\45_crops\\\\crop_50.png',), ('../../Datasets/vesuvius-challenge-ink-detection/cropped_train_1024\\\\3\\\\surface_volume\\\\46_crops\\\\crop_50.png',), ('../../Datasets/vesuvius-challenge-ink-detection/cropped_train_1024\\\\3\\\\surface_volume\\\\47_crops\\\\crop_50.png',), ('../../Datasets/vesuvius-challenge-ink-detection/cropped_train_1024\\\\3\\\\surface_volume\\\\48_crops\\\\crop_50.png',), ('../../Datasets/vesuvius-challenge-ink-detection/cropped_train_1024\\\\3\\\\surface_volume\\\\49_crops\\\\crop_50.png',), ('../../Datasets/vesuvius-challenge-ink-detection/cropped_train_1024\\\\3\\\\surface_volume\\\\50_crops\\\\crop_50.png',), ('../../Datasets/vesuvius-challenge-ink-detection/cropped_train_1024\\\\3\\\\surface_volume\\\\51_crops\\\\crop_50.png',), ('../../Datasets/vesuvius-challenge-ink-detection/cropped_train_1024\\\\3\\\\surface_volume\\\\52_crops\\\\crop_50.png',), ('../../Datasets/vesuvius-challenge-ink-detection/cropped_train_1024\\\\3\\\\surface_volume\\\\53_crops\\\\crop_50.png',), ('../../Datasets/vesuvius-challenge-ink-detection/cropped_train_1024\\\\3\\\\surface_volume\\\\54_crops\\\\crop_50.png',), ('../../Datasets/vesuvius-challenge-ink-detection/cropped_train_1024\\\\3\\\\surface_volume\\\\55_crops\\\\crop_50.png',), ('../../Datasets/vesuvius-challenge-ink-detection/cropped_train_1024\\\\3\\\\surface_volume\\\\56_crops\\\\crop_50.png',), ('../../Datasets/vesuvius-challenge-ink-detection/cropped_train_1024\\\\3\\\\surface_volume\\\\57_crops\\\\crop_50.png',), ('../../Datasets/vesuvius-challenge-ink-detection/cropped_train_1024\\\\3\\\\surface_volume\\\\58_crops\\\\crop_50.png',), ('../../Datasets/vesuvius-challenge-ink-detection/cropped_train_1024\\\\3\\\\surface_volume\\\\59_crops\\\\crop_50.png',), ('../../Datasets/vesuvius-challenge-ink-detection/cropped_train_1024\\\\3\\\\surface_volume\\\\60_crops\\\\crop_50.png',), ('../../Datasets/vesuvius-challenge-ink-detection/cropped_train_1024\\\\3\\\\surface_volume\\\\61_crops\\\\crop_50.png',), ('../../Datasets/vesuvius-challenge-ink-detection/cropped_train_1024\\\\3\\\\surface_volume\\\\62_crops\\\\crop_50.png',), ('../../Datasets/vesuvius-challenge-ink-detection/cropped_train_1024\\\\3\\\\surface_volume\\\\63_crops\\\\crop_50.png',), ('../../Datasets/vesuvius-challenge-ink-detection/cropped_train_1024\\\\3\\\\surface_volume\\\\64_crops\\\\crop_50.png',)]\n",
      "Y path: ('../../Datasets/vesuvius-challenge-ink-detection/cropped_train_1024\\\\3\\\\inklabel_crops\\\\crop_50.png',)\n"
     ]
    }
   ],
   "source": [
    "# Example usage\n",
    "root_dir = \"../../Datasets/vesuvius-challenge-ink-detection/cropped_train_1024\"\n",
    "transform = None  # You can add transformations if needed\n",
    "\n",
    "dataset = LazyLoadDataset(root_dir=root_dir)\n",
    "data_loader = torch.utils.data.DataLoader(dataset, batch_size=1, shuffle=True)\n",
    "\n",
    "for batch in data_loader:\n",
    "    X_paths, Y_path = batch\n",
    "    print(\"X paths:\", X_paths)\n",
    "    print(\"Y path:\", Y_path)\n",
    "    break  # Print the first batch for demonstration"
   ],
   "metadata": {
    "collapsed": false,
    "pycharm": {
     "name": "#%%\n"
    }
   }
  },
  {
   "cell_type": "code",
   "execution_count": 58,
   "outputs": [
    {
     "data": {
      "text/plain": "('../../Datasets/vesuvius-challenge-ink-detection/cropped_train_1024\\\\3\\\\surface_volume\\\\64_crops\\\\crop_50.png',)"
     },
     "execution_count": 58,
     "metadata": {},
     "output_type": "execute_result"
    }
   ],
   "source": [
    "X_paths[64]"
   ],
   "metadata": {
    "collapsed": false,
    "pycharm": {
     "name": "#%%\n"
    }
   }
  },
  {
   "cell_type": "code",
   "execution_count": 59,
   "outputs": [
    {
     "data": {
      "text/plain": "'../../Datasets/vesuvius-challenge-ink-detection/cropped_train_1024\\\\3\\\\inklabel_crops\\\\crop_50.png'"
     },
     "execution_count": 59,
     "metadata": {},
     "output_type": "execute_result"
    }
   ],
   "source": [
    "Y_path[0]"
   ],
   "metadata": {
    "collapsed": false,
    "pycharm": {
     "name": "#%%\n"
    }
   }
  },
  {
   "cell_type": "code",
   "execution_count": 68,
   "outputs": [],
   "source": [
    "class CustomImageLoader(Dataset):\n",
    "    def __init__(self, samples, transform=None):\n",
    "        self.samples = samples\n",
    "        self.transform = transform\n",
    "\n",
    "    def __len__(self):\n",
    "        return len(self.samples)\n",
    "\n",
    "    def __getitem__(self, idx):\n",
    "        x_paths, ink_label_path = self.samples[idx]\n",
    "\n",
    "        # Load Y (inklabel crop image)\n",
    "        print(x_paths)\n",
    "        x_images = [Image.open(path) for path in x_paths]\n",
    "\n",
    "        # Load X (list of crop images from subfolders)\n",
    "        x_images = []\n",
    "        for subfolder_paths in x_paths:\n",
    "            x_images.append([Image.open(path) for path in subfolder_paths])\n",
    "\n",
    "        # Apply transformations if specified\n",
    "        if self.transform:\n",
    "            ink_label_images = [self.transform(image) for image in ink_label_images]\n",
    "            x_images = [[self.transform(image) for image in subfolder] for subfolder in x_images]\n",
    "\n",
    "        return ink_label_images, x_images"
   ],
   "metadata": {
    "collapsed": false,
    "pycharm": {
     "name": "#%%\n"
    }
   }
  },
  {
   "cell_type": "code",
   "execution_count": 69,
   "outputs": [],
   "source": [
    "# Create LazyLoadDataset\n",
    "lazy_loader = LazyLoadDataset(root_dir=root_dir)\n",
    "\n",
    "# Create CustomImageLoader using the samples from LazyLoadDataset\n",
    "custom_loader = CustomImageLoader(samples=lazy_loader.samples, transform=transform)\n",
    "\n",
    "# Create DataLoader for batch processing\n",
    "batch_size = 1  # Adjust as needed\n",
    "data_loader = DataLoader(custom_loader, batch_size=batch_size, shuffle=True)"
   ],
   "metadata": {
    "collapsed": false,
    "pycharm": {
     "name": "#%%\n"
    }
   }
  },
  {
   "cell_type": "code",
   "execution_count": 70,
   "outputs": [
    {
     "name": "stdout",
     "output_type": "stream",
     "text": [
      "../../Datasets/vesuvius-challenge-ink-detection/cropped_train_1024\\2\\inklabel_crops\\crop_47.png\n"
     ]
    },
    {
     "ename": "PermissionError",
     "evalue": "[Errno 13] Permission denied: '.'",
     "output_type": "error",
     "traceback": [
      "\u001B[1;31m---------------------------------------------------------------------------\u001B[0m",
      "\u001B[1;31mPermissionError\u001B[0m                           Traceback (most recent call last)",
      "\u001B[1;32m~\\AppData\\Local\\Temp\\ipykernel_27580\\1024631301.py\u001B[0m in \u001B[0;36m<module>\u001B[1;34m\u001B[0m\n\u001B[1;32m----> 1\u001B[1;33m \u001B[1;32mfor\u001B[0m \u001B[0mbatch_idx\u001B[0m\u001B[1;33m,\u001B[0m \u001B[1;33m(\u001B[0m\u001B[0mink_label_batch\u001B[0m\u001B[1;33m,\u001B[0m \u001B[0mx_batch\u001B[0m\u001B[1;33m)\u001B[0m \u001B[1;32min\u001B[0m \u001B[0menumerate\u001B[0m\u001B[1;33m(\u001B[0m\u001B[0mdata_loader\u001B[0m\u001B[1;33m)\u001B[0m\u001B[1;33m:\u001B[0m\u001B[1;33m\u001B[0m\u001B[1;33m\u001B[0m\u001B[0m\n\u001B[0m\u001B[0;32m      2\u001B[0m    \u001B[0mprint\u001B[0m\u001B[1;33m(\u001B[0m\u001B[0mink_label_batch\u001B[0m\u001B[1;33m.\u001B[0m\u001B[0mshape\u001B[0m\u001B[1;33m)\u001B[0m\u001B[1;33m\u001B[0m\u001B[1;33m\u001B[0m\u001B[0m\n",
      "\u001B[1;32m~\\anaconda3\\envs\\msc-env\\lib\\site-packages\\torch\\utils\\data\\dataloader.py\u001B[0m in \u001B[0;36m__next__\u001B[1;34m(self)\u001B[0m\n\u001B[0;32m    626\u001B[0m                 \u001B[1;31m# TODO(https://github.com/pytorch/pytorch/issues/76750)\u001B[0m\u001B[1;33m\u001B[0m\u001B[1;33m\u001B[0m\u001B[1;33m\u001B[0m\u001B[0m\n\u001B[0;32m    627\u001B[0m                 \u001B[0mself\u001B[0m\u001B[1;33m.\u001B[0m\u001B[0m_reset\u001B[0m\u001B[1;33m(\u001B[0m\u001B[1;33m)\u001B[0m  \u001B[1;31m# type: ignore[call-arg]\u001B[0m\u001B[1;33m\u001B[0m\u001B[1;33m\u001B[0m\u001B[0m\n\u001B[1;32m--> 628\u001B[1;33m             \u001B[0mdata\u001B[0m \u001B[1;33m=\u001B[0m \u001B[0mself\u001B[0m\u001B[1;33m.\u001B[0m\u001B[0m_next_data\u001B[0m\u001B[1;33m(\u001B[0m\u001B[1;33m)\u001B[0m\u001B[1;33m\u001B[0m\u001B[1;33m\u001B[0m\u001B[0m\n\u001B[0m\u001B[0;32m    629\u001B[0m             \u001B[0mself\u001B[0m\u001B[1;33m.\u001B[0m\u001B[0m_num_yielded\u001B[0m \u001B[1;33m+=\u001B[0m \u001B[1;36m1\u001B[0m\u001B[1;33m\u001B[0m\u001B[1;33m\u001B[0m\u001B[0m\n\u001B[0;32m    630\u001B[0m             \u001B[1;32mif\u001B[0m \u001B[0mself\u001B[0m\u001B[1;33m.\u001B[0m\u001B[0m_dataset_kind\u001B[0m \u001B[1;33m==\u001B[0m \u001B[0m_DatasetKind\u001B[0m\u001B[1;33m.\u001B[0m\u001B[0mIterable\u001B[0m \u001B[1;32mand\u001B[0m\u001B[0;31m \u001B[0m\u001B[0;31m\\\u001B[0m\u001B[1;33m\u001B[0m\u001B[1;33m\u001B[0m\u001B[0m\n",
      "\u001B[1;32m~\\anaconda3\\envs\\msc-env\\lib\\site-packages\\torch\\utils\\data\\dataloader.py\u001B[0m in \u001B[0;36m_next_data\u001B[1;34m(self)\u001B[0m\n\u001B[0;32m    669\u001B[0m     \u001B[1;32mdef\u001B[0m \u001B[0m_next_data\u001B[0m\u001B[1;33m(\u001B[0m\u001B[0mself\u001B[0m\u001B[1;33m)\u001B[0m\u001B[1;33m:\u001B[0m\u001B[1;33m\u001B[0m\u001B[1;33m\u001B[0m\u001B[0m\n\u001B[0;32m    670\u001B[0m         \u001B[0mindex\u001B[0m \u001B[1;33m=\u001B[0m \u001B[0mself\u001B[0m\u001B[1;33m.\u001B[0m\u001B[0m_next_index\u001B[0m\u001B[1;33m(\u001B[0m\u001B[1;33m)\u001B[0m  \u001B[1;31m# may raise StopIteration\u001B[0m\u001B[1;33m\u001B[0m\u001B[1;33m\u001B[0m\u001B[0m\n\u001B[1;32m--> 671\u001B[1;33m         \u001B[0mdata\u001B[0m \u001B[1;33m=\u001B[0m \u001B[0mself\u001B[0m\u001B[1;33m.\u001B[0m\u001B[0m_dataset_fetcher\u001B[0m\u001B[1;33m.\u001B[0m\u001B[0mfetch\u001B[0m\u001B[1;33m(\u001B[0m\u001B[0mindex\u001B[0m\u001B[1;33m)\u001B[0m  \u001B[1;31m# may raise StopIteration\u001B[0m\u001B[1;33m\u001B[0m\u001B[1;33m\u001B[0m\u001B[0m\n\u001B[0m\u001B[0;32m    672\u001B[0m         \u001B[1;32mif\u001B[0m \u001B[0mself\u001B[0m\u001B[1;33m.\u001B[0m\u001B[0m_pin_memory\u001B[0m\u001B[1;33m:\u001B[0m\u001B[1;33m\u001B[0m\u001B[1;33m\u001B[0m\u001B[0m\n\u001B[0;32m    673\u001B[0m             \u001B[0mdata\u001B[0m \u001B[1;33m=\u001B[0m \u001B[0m_utils\u001B[0m\u001B[1;33m.\u001B[0m\u001B[0mpin_memory\u001B[0m\u001B[1;33m.\u001B[0m\u001B[0mpin_memory\u001B[0m\u001B[1;33m(\u001B[0m\u001B[0mdata\u001B[0m\u001B[1;33m,\u001B[0m \u001B[0mself\u001B[0m\u001B[1;33m.\u001B[0m\u001B[0m_pin_memory_device\u001B[0m\u001B[1;33m)\u001B[0m\u001B[1;33m\u001B[0m\u001B[1;33m\u001B[0m\u001B[0m\n",
      "\u001B[1;32m~\\anaconda3\\envs\\msc-env\\lib\\site-packages\\torch\\utils\\data\\_utils\\fetch.py\u001B[0m in \u001B[0;36mfetch\u001B[1;34m(self, possibly_batched_index)\u001B[0m\n\u001B[0;32m     56\u001B[0m                 \u001B[0mdata\u001B[0m \u001B[1;33m=\u001B[0m \u001B[0mself\u001B[0m\u001B[1;33m.\u001B[0m\u001B[0mdataset\u001B[0m\u001B[1;33m.\u001B[0m\u001B[0m__getitems__\u001B[0m\u001B[1;33m(\u001B[0m\u001B[0mpossibly_batched_index\u001B[0m\u001B[1;33m)\u001B[0m\u001B[1;33m\u001B[0m\u001B[1;33m\u001B[0m\u001B[0m\n\u001B[0;32m     57\u001B[0m             \u001B[1;32melse\u001B[0m\u001B[1;33m:\u001B[0m\u001B[1;33m\u001B[0m\u001B[1;33m\u001B[0m\u001B[0m\n\u001B[1;32m---> 58\u001B[1;33m                 \u001B[0mdata\u001B[0m \u001B[1;33m=\u001B[0m \u001B[1;33m[\u001B[0m\u001B[0mself\u001B[0m\u001B[1;33m.\u001B[0m\u001B[0mdataset\u001B[0m\u001B[1;33m[\u001B[0m\u001B[0midx\u001B[0m\u001B[1;33m]\u001B[0m \u001B[1;32mfor\u001B[0m \u001B[0midx\u001B[0m \u001B[1;32min\u001B[0m \u001B[0mpossibly_batched_index\u001B[0m\u001B[1;33m]\u001B[0m\u001B[1;33m\u001B[0m\u001B[1;33m\u001B[0m\u001B[0m\n\u001B[0m\u001B[0;32m     59\u001B[0m         \u001B[1;32melse\u001B[0m\u001B[1;33m:\u001B[0m\u001B[1;33m\u001B[0m\u001B[1;33m\u001B[0m\u001B[0m\n\u001B[0;32m     60\u001B[0m             \u001B[0mdata\u001B[0m \u001B[1;33m=\u001B[0m \u001B[0mself\u001B[0m\u001B[1;33m.\u001B[0m\u001B[0mdataset\u001B[0m\u001B[1;33m[\u001B[0m\u001B[0mpossibly_batched_index\u001B[0m\u001B[1;33m]\u001B[0m\u001B[1;33m\u001B[0m\u001B[1;33m\u001B[0m\u001B[0m\n",
      "\u001B[1;32m~\\anaconda3\\envs\\msc-env\\lib\\site-packages\\torch\\utils\\data\\_utils\\fetch.py\u001B[0m in \u001B[0;36m<listcomp>\u001B[1;34m(.0)\u001B[0m\n\u001B[0;32m     56\u001B[0m                 \u001B[0mdata\u001B[0m \u001B[1;33m=\u001B[0m \u001B[0mself\u001B[0m\u001B[1;33m.\u001B[0m\u001B[0mdataset\u001B[0m\u001B[1;33m.\u001B[0m\u001B[0m__getitems__\u001B[0m\u001B[1;33m(\u001B[0m\u001B[0mpossibly_batched_index\u001B[0m\u001B[1;33m)\u001B[0m\u001B[1;33m\u001B[0m\u001B[1;33m\u001B[0m\u001B[0m\n\u001B[0;32m     57\u001B[0m             \u001B[1;32melse\u001B[0m\u001B[1;33m:\u001B[0m\u001B[1;33m\u001B[0m\u001B[1;33m\u001B[0m\u001B[0m\n\u001B[1;32m---> 58\u001B[1;33m                 \u001B[0mdata\u001B[0m \u001B[1;33m=\u001B[0m \u001B[1;33m[\u001B[0m\u001B[0mself\u001B[0m\u001B[1;33m.\u001B[0m\u001B[0mdataset\u001B[0m\u001B[1;33m[\u001B[0m\u001B[0midx\u001B[0m\u001B[1;33m]\u001B[0m \u001B[1;32mfor\u001B[0m \u001B[0midx\u001B[0m \u001B[1;32min\u001B[0m \u001B[0mpossibly_batched_index\u001B[0m\u001B[1;33m]\u001B[0m\u001B[1;33m\u001B[0m\u001B[1;33m\u001B[0m\u001B[0m\n\u001B[0m\u001B[0;32m     59\u001B[0m         \u001B[1;32melse\u001B[0m\u001B[1;33m:\u001B[0m\u001B[1;33m\u001B[0m\u001B[1;33m\u001B[0m\u001B[0m\n\u001B[0;32m     60\u001B[0m             \u001B[0mdata\u001B[0m \u001B[1;33m=\u001B[0m \u001B[0mself\u001B[0m\u001B[1;33m.\u001B[0m\u001B[0mdataset\u001B[0m\u001B[1;33m[\u001B[0m\u001B[0mpossibly_batched_index\u001B[0m\u001B[1;33m]\u001B[0m\u001B[1;33m\u001B[0m\u001B[1;33m\u001B[0m\u001B[0m\n",
      "\u001B[1;32m~\\AppData\\Local\\Temp\\ipykernel_27580\\3805280591.py\u001B[0m in \u001B[0;36m__getitem__\u001B[1;34m(self, idx)\u001B[0m\n\u001B[0;32m     17\u001B[0m         \u001B[0mx_images\u001B[0m \u001B[1;33m=\u001B[0m \u001B[1;33m[\u001B[0m\u001B[1;33m]\u001B[0m\u001B[1;33m\u001B[0m\u001B[1;33m\u001B[0m\u001B[0m\n\u001B[0;32m     18\u001B[0m         \u001B[1;32mfor\u001B[0m \u001B[0msubfolder_paths\u001B[0m \u001B[1;32min\u001B[0m \u001B[0mx_paths\u001B[0m\u001B[1;33m:\u001B[0m\u001B[1;33m\u001B[0m\u001B[1;33m\u001B[0m\u001B[0m\n\u001B[1;32m---> 19\u001B[1;33m             \u001B[0mx_images\u001B[0m\u001B[1;33m.\u001B[0m\u001B[0mappend\u001B[0m\u001B[1;33m(\u001B[0m\u001B[1;33m[\u001B[0m\u001B[0mImage\u001B[0m\u001B[1;33m.\u001B[0m\u001B[0mopen\u001B[0m\u001B[1;33m(\u001B[0m\u001B[0mpath\u001B[0m\u001B[1;33m)\u001B[0m \u001B[1;32mfor\u001B[0m \u001B[0mpath\u001B[0m \u001B[1;32min\u001B[0m \u001B[0msubfolder_paths\u001B[0m\u001B[1;33m]\u001B[0m\u001B[1;33m)\u001B[0m\u001B[1;33m\u001B[0m\u001B[1;33m\u001B[0m\u001B[0m\n\u001B[0m\u001B[0;32m     20\u001B[0m \u001B[1;33m\u001B[0m\u001B[0m\n\u001B[0;32m     21\u001B[0m         \u001B[1;31m# Apply transformations if specified\u001B[0m\u001B[1;33m\u001B[0m\u001B[1;33m\u001B[0m\u001B[1;33m\u001B[0m\u001B[0m\n",
      "\u001B[1;32m~\\AppData\\Local\\Temp\\ipykernel_27580\\3805280591.py\u001B[0m in \u001B[0;36m<listcomp>\u001B[1;34m(.0)\u001B[0m\n\u001B[0;32m     17\u001B[0m         \u001B[0mx_images\u001B[0m \u001B[1;33m=\u001B[0m \u001B[1;33m[\u001B[0m\u001B[1;33m]\u001B[0m\u001B[1;33m\u001B[0m\u001B[1;33m\u001B[0m\u001B[0m\n\u001B[0;32m     18\u001B[0m         \u001B[1;32mfor\u001B[0m \u001B[0msubfolder_paths\u001B[0m \u001B[1;32min\u001B[0m \u001B[0mx_paths\u001B[0m\u001B[1;33m:\u001B[0m\u001B[1;33m\u001B[0m\u001B[1;33m\u001B[0m\u001B[0m\n\u001B[1;32m---> 19\u001B[1;33m             \u001B[0mx_images\u001B[0m\u001B[1;33m.\u001B[0m\u001B[0mappend\u001B[0m\u001B[1;33m(\u001B[0m\u001B[1;33m[\u001B[0m\u001B[0mImage\u001B[0m\u001B[1;33m.\u001B[0m\u001B[0mopen\u001B[0m\u001B[1;33m(\u001B[0m\u001B[0mpath\u001B[0m\u001B[1;33m)\u001B[0m \u001B[1;32mfor\u001B[0m \u001B[0mpath\u001B[0m \u001B[1;32min\u001B[0m \u001B[0msubfolder_paths\u001B[0m\u001B[1;33m]\u001B[0m\u001B[1;33m)\u001B[0m\u001B[1;33m\u001B[0m\u001B[1;33m\u001B[0m\u001B[0m\n\u001B[0m\u001B[0;32m     20\u001B[0m \u001B[1;33m\u001B[0m\u001B[0m\n\u001B[0;32m     21\u001B[0m         \u001B[1;31m# Apply transformations if specified\u001B[0m\u001B[1;33m\u001B[0m\u001B[1;33m\u001B[0m\u001B[1;33m\u001B[0m\u001B[0m\n",
      "\u001B[1;32m~\\anaconda3\\envs\\msc-env\\lib\\site-packages\\PIL\\Image.py\u001B[0m in \u001B[0;36mopen\u001B[1;34m(fp, mode, formats)\u001B[0m\n\u001B[0;32m   3090\u001B[0m \u001B[1;33m\u001B[0m\u001B[0m\n\u001B[0;32m   3091\u001B[0m     \u001B[1;32mif\u001B[0m \u001B[0mfilename\u001B[0m\u001B[1;33m:\u001B[0m\u001B[1;33m\u001B[0m\u001B[1;33m\u001B[0m\u001B[0m\n\u001B[1;32m-> 3092\u001B[1;33m         \u001B[0mfp\u001B[0m \u001B[1;33m=\u001B[0m \u001B[0mbuiltins\u001B[0m\u001B[1;33m.\u001B[0m\u001B[0mopen\u001B[0m\u001B[1;33m(\u001B[0m\u001B[0mfilename\u001B[0m\u001B[1;33m,\u001B[0m \u001B[1;34m\"rb\"\u001B[0m\u001B[1;33m)\u001B[0m\u001B[1;33m\u001B[0m\u001B[1;33m\u001B[0m\u001B[0m\n\u001B[0m\u001B[0;32m   3093\u001B[0m         \u001B[0mexclusive_fp\u001B[0m \u001B[1;33m=\u001B[0m \u001B[1;32mTrue\u001B[0m\u001B[1;33m\u001B[0m\u001B[1;33m\u001B[0m\u001B[0m\n\u001B[0;32m   3094\u001B[0m \u001B[1;33m\u001B[0m\u001B[0m\n",
      "\u001B[1;31mPermissionError\u001B[0m: [Errno 13] Permission denied: '.'"
     ]
    }
   ],
   "source": [
    "for batch_idx, (ink_label_batch, x_batch) in enumerate(data_loader):\n",
    "   print(ink_label_batch.shape)"
   ],
   "metadata": {
    "collapsed": false,
    "pycharm": {
     "name": "#%%\n"
    }
   }
  },
  {
   "cell_type": "code",
   "execution_count": null,
   "outputs": [],
   "source": [],
   "metadata": {
    "collapsed": false,
    "pycharm": {
     "name": "#%%\n"
    }
   }
  }
 ],
 "metadata": {
  "kernelspec": {
   "display_name": "Python 3",
   "language": "python",
   "name": "python3"
  },
  "language_info": {
   "codemirror_mode": {
    "name": "ipython",
    "version": 2
   },
   "file_extension": ".py",
   "mimetype": "text/x-python",
   "name": "python",
   "nbconvert_exporter": "python",
   "pygments_lexer": "ipython2",
   "version": "2.7.6"
  }
 },
 "nbformat": 4,
 "nbformat_minor": 0
}