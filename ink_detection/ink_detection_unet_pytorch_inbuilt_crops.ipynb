{
 "cells": [
  {
   "cell_type": "code",
   "execution_count": 1,
   "metadata": {
    "collapsed": true
   },
   "outputs": [],
   "source": [
    "import numpy as np\n",
    "import matplotlib.pyplot as plt\n",
    "import copy\n",
    "import os\n",
    "\n",
    "from ink_detection_utils import load_dataset\n",
    "from ink_detection_utils import get_crop_numer_list\n",
    "from ink_detection_utils import stitch_crops\n",
    "from ink_detection_utils import load_volumes\n",
    "\n",
    "from PIL import Image\n",
    "from typing import Dict, List, Optional, Tuple\n",
    "from pathlib import Path\n",
    "from collections import OrderedDict\n",
    "\n",
    "%matplotlib inline\n",
    "\n",
    "%load_ext autoreload\n",
    "%autoreload 2"
   ]
  },
  {
   "cell_type": "code",
   "execution_count": 28,
   "outputs": [],
   "source": [
    "#UNet Implementation\n",
    "\n",
    "import torch\n",
    "import torch.nn as nn\n",
    "import torch.optim as optim\n",
    "import torch.nn.functional as func\n",
    "\n",
    "import random\n",
    "\n",
    "from torch.utils.data import DataLoader, Dataset, Subset\n",
    "from torchvision import transforms"
   ],
   "metadata": {
    "collapsed": false,
    "pycharm": {
     "name": "#%%\n"
    }
   }
  },
  {
   "cell_type": "code",
   "execution_count": 111,
   "outputs": [],
   "source": [
    "# test_img_1 = '../../Datasets/vesuvius-challenge-ink-detection/train/1/inkLabels.png'\n",
    "# test_img_2 = '../../Datasets/vesuvius-challenge-ink-detection/train/1/ir.png'\n",
    "#\n",
    "# image_1 = Image.open(test_img_1)\n",
    "# image_2 = Image.open(test_img_2)"
   ],
   "metadata": {
    "collapsed": false,
    "pycharm": {
     "name": "#%%\n"
    }
   }
  },
  {
   "cell_type": "code",
   "execution_count": 112,
   "outputs": [],
   "source": [
    "# transform = transforms.Compose([\n",
    "#     transforms.RandomCrop(4000),\n",
    "#     transforms.RandomHorizontalFlip(),\n",
    "#     transforms.RandomVerticalFlip(),\n",
    "# ])"
   ],
   "metadata": {
    "collapsed": false,
    "pycharm": {
     "name": "#%%\n"
    }
   }
  },
  {
   "cell_type": "code",
   "execution_count": 113,
   "outputs": [],
   "source": [
    "# seed = np.random.randint(2147483647) # make a seed with numpy generator\n",
    "# random.seed(seed) # apply this seed to img tranfsorms\n",
    "# torch.manual_seed(seed) # needed for torchvision 0.7\n",
    "#\n",
    "# transformed_image_1 = transform(image_1)"
   ],
   "metadata": {
    "collapsed": false,
    "pycharm": {
     "name": "#%%\n"
    }
   }
  },
  {
   "cell_type": "code",
   "execution_count": 114,
   "outputs": [],
   "source": [
    "# random.seed(seed) # apply this seed to target tranfsorms\n",
    "# torch.manual_seed(seed) # needed for torchvision 0.7\n",
    "#\n",
    "# transformed_image_2 = transform(image_2)"
   ],
   "metadata": {
    "collapsed": false,
    "pycharm": {
     "name": "#%%\n"
    }
   }
  },
  {
   "cell_type": "code",
   "execution_count": 115,
   "outputs": [],
   "source": [
    "# plt.imshow(transformed_image_1, cmap=\"gray\") #last [] is the layer\n",
    "# plt.axis(\"off\")\n",
    "# plt.show()"
   ],
   "metadata": {
    "collapsed": false,
    "pycharm": {
     "name": "#%%\n"
    }
   }
  },
  {
   "cell_type": "code",
   "execution_count": 116,
   "outputs": [],
   "source": [
    "# plt.imshow(transformed_image_2, cmap=\"gray\") #last [] is the layer\n",
    "# plt.axis(\"off\")\n",
    "# plt.show()"
   ],
   "metadata": {
    "collapsed": false,
    "pycharm": {
     "name": "#%%\n"
    }
   }
  },
  {
   "cell_type": "code",
   "execution_count": 5,
   "outputs": [],
   "source": [
    "VESUVIUS_DATA_PATH = '../../Datasets/vesuvius-challenge-ink-detection/train/'"
   ],
   "metadata": {
    "collapsed": false,
    "pycharm": {
     "name": "#%%\n"
    }
   }
  },
  {
   "cell_type": "code",
   "execution_count": 6,
   "outputs": [],
   "source": [
    "volume_paths = [VESUVIUS_DATA_PATH+'1/surface_volume/',VESUVIUS_DATA_PATH+'2/surface_volume/',VESUVIUS_DATA_PATH+'3/surface_volume/']\n",
    "seg_paths = [VESUVIUS_DATA_PATH+'1/inkLabels.png',VESUVIUS_DATA_PATH+'2/inkLabels.png',VESUVIUS_DATA_PATH+'3/inkLabels.png']\n",
    "mask_paths = [VESUVIUS_DATA_PATH+'1/mask.png',VESUVIUS_DATA_PATH+'2/mask.png',VESUVIUS_DATA_PATH+'3/mask.png']\n",
    "\n",
    "voxel_size = (48, 512, 512)"
   ],
   "metadata": {
    "collapsed": false,
    "pycharm": {
     "name": "#%%\n"
    }
   }
  },
  {
   "cell_type": "code",
   "execution_count": 7,
   "outputs": [],
   "source": [
    "class FragmentDataset(Dataset):\n",
    "    def __init__(self, fragments: List[Path], voxel_shape: Tuple[int, int, int],load_inklabels: bool = True,filter_edge_pixels: bool = False,):\n",
    "\n",
    "        self.fragments = sorted(map(lambda path: path.resolve(), fragments))\n",
    "        self.voxel_shape = voxel_shape\n",
    "        self.load_inklabels = load_inklabels\n",
    "        self.filter_edge_pixels = filter_edge_pixels\n",
    "\n",
    "        # Load sequentially\n",
    "        labels = []\n",
    "        image_stacks = []\n",
    "        valid_pixels = []\n",
    "        for fragment_id, fragment_path in enumerate(self.fragments):\n",
    "            fragment_path = fragment_path.resolve()  # absolute path\n",
    "            mask = np.array(Image.open(str(fragment_path / \"mask.png\")).convert(\"1\"))\n",
    "\n",
    "            surface_volume_paths = sorted(\n",
    "                (fragment_path / \"surface_volume\").rglob(\"*.tif\")\n",
    "            )\n",
    "            z_dim, y_dim, x_dim = voxel_shape\n",
    "\n",
    "            z_mid = len(surface_volume_paths) // 2\n",
    "            z_start, z_end = z_mid - z_dim // 2, z_mid + z_dim // 2\n",
    "\n",
    "            # we don't convert to torch since it doesn't support uint16\n",
    "            images = [\n",
    "                np.array(Image.open(fn)) for fn in surface_volume_paths[z_start:z_end]\n",
    "            ]\n",
    "            image_stack = np.stack(images, axis=0)\n",
    "            image_stacks.append(image_stack)\n",
    "\n",
    "            pixels = np.stack(np.where(mask == 1), axis=1).astype(np.uint16)\n",
    "            if filter_edge_pixels:\n",
    "                height, width = mask.shape\n",
    "                mask_y = np.logical_or(\n",
    "                    pixels[:, 0] < y_dim // 2, pixels[:, 0] >= height - y_dim // 2\n",
    "                )\n",
    "                mask_x = np.logical_or(\n",
    "                    pixels[:, 1] < x_dim // 2, pixels[:, 1] >= width - x_dim // 2\n",
    "                )\n",
    "                pixel_mask = np.logical_or(mask_y, mask_x)\n",
    "                pixels = pixels[~pixel_mask]\n",
    "            # encode fragment ID\n",
    "            fragment_ids = np.full_like(pixels[:, 0:1], fragment_id)\n",
    "            pixels = np.concatenate((pixels, fragment_ids), axis=1)\n",
    "            valid_pixels.append(pixels)\n",
    "\n",
    "            if load_inklabels:\n",
    "                # binary mask can be stored as np.bool\n",
    "                inklabels = np.array(Image.open(str(fragment_path / \"inklabels.png\")))\n",
    "                labels.append(inklabels)\n",
    "\n",
    "            print(f\"Loaded fragment {fragment_path} on {os.getpid()}\")\n",
    "\n",
    "        self.labels = labels\n",
    "        self.image_stacks = image_stacks\n",
    "        self.pixels = np.concatenate(valid_pixels).reshape(\n",
    "            -1, valid_pixels[0].shape[-1]\n",
    "        )\n",
    "\n",
    "    def __len__(self):\n",
    "        return len(self.pixels)\n",
    "\n",
    "    def __getitem__(self, index):\n",
    "        center_y, center_x, fragment_id = self.pixels[index]\n",
    "        z_dim, y_dim, x_dim = self.voxel_shape\n",
    "        image_stack = self.image_stacks[fragment_id]\n",
    "        _, height, width = image_stack.shape\n",
    "        labels = self.labels[fragment_id]\n",
    "\n",
    "        # pad with zeros if necessary\n",
    "        if (\n",
    "            center_y < y_dim // 2\n",
    "            or center_x < x_dim // 2\n",
    "            or center_y + y_dim // 2 >= height\n",
    "            or center_x + x_dim // 2 >= width\n",
    "        ):\n",
    "            # calculate the upper-left corner of the sub-volume\n",
    "            y_start = max(center_y - y_dim // 2, 0)\n",
    "            x_start = max(center_x - x_dim // 2, 0)\n",
    "\n",
    "            # calculate the lower-right corner of the sub-volume\n",
    "            y_end = min(center_y + y_dim // 2, height)\n",
    "            x_end = min(center_x + x_dim // 2, width)\n",
    "\n",
    "            subvolume = np.zeros(self.voxel_shape, dtype=np.float32)\n",
    "            inklabel = np.zeros(self.voxel_shape, dtype=np.float32)\n",
    "\n",
    "            pad_y_start = max(y_dim // 2 - center_y, 0)\n",
    "            pad_x_start = max(x_dim // 2 - center_x, 0)\n",
    "\n",
    "            pad_y_end = min(height + y_dim // 2 - center_y, y_dim)\n",
    "            pad_x_end = min(width + x_dim // 2 - center_x, x_dim)\n",
    "\n",
    "            subvolume[:, pad_y_start:pad_y_end, pad_x_start:pad_x_end] = (\n",
    "                image_stack[:, y_start:y_end, x_start:x_end].astype(np.float32) / 65535\n",
    "            )\n",
    "\n",
    "            if self.load_inklabels:\n",
    "                inklabel[:, pad_y_start:pad_y_end, pad_x_start:pad_x_end] = (\n",
    "                    labels[y_start:y_end, x_start:x_end].astype(np.float32)\n",
    "                )\n",
    "            else:\n",
    "                inklabel = np.ones(self.voxel_shape, dtype=np.float32)*-1\n",
    "\n",
    "        else:\n",
    "            subvolume = (\n",
    "                image_stack[\n",
    "                    :,\n",
    "                    center_y - y_dim // 2 : center_y + y_dim // 2,\n",
    "                    center_x - x_dim // 2 : center_x + x_dim // 2,\n",
    "                ]\n",
    "            ).astype(np.float32) / 65535\n",
    "\n",
    "            if self.load_inklabels:\n",
    "                inklabel = (\n",
    "                    labels[\n",
    "                        center_y - y_dim // 2 : center_y + y_dim // 2,\n",
    "                        center_x - x_dim // 2 : center_x + x_dim // 2,\n",
    "                    ]\n",
    "                ).astype(np.float32)\n",
    "            else:\n",
    "                inklabel = np.ones(self.voxel_shape, dtype=np.float32)*-1\n",
    "\n",
    "\n",
    "        return torch.from_numpy(subvolume), torch.FloatTensor(inklabel).unsqueeze(0)\n",
    "\n",
    "    def plot_label(self, index, **kwargs):\n",
    "        pixel = self.pixels[index]\n",
    "        label = self.labels[pixel[-1]]\n",
    "\n",
    "        print(\"Index:\", index)\n",
    "        print(\"Pixel:\", pixel)\n",
    "\n",
    "        if isinstance(label, torch.Tensor):\n",
    "            label = label.numpy()\n",
    "\n",
    "        fig, ax = plt.subplots(**kwargs)\n",
    "        ax.imshow(label, cmap=\"gray\")\n",
    "\n",
    "        y, x, _ = pixel\n",
    "        _, y_dim, x_dim = self.voxel_shape\n",
    "        x_min = x - (x_dim // 2)\n",
    "        x_max = x + (x_dim // 2)\n",
    "        y_min = y - (y_dim // 2)\n",
    "        y_max = y + (y_dim // 2)\n",
    "\n",
    "        rect = plt.Rectangle(\n",
    "            (x_min, y_min), x_dim, y_dim, linewidth=2, edgecolor=\"y\", facecolor=\"none\"\n",
    "        )\n",
    "        ax.add_patch(rect)\n",
    "        plt.show()"
   ],
   "metadata": {
    "collapsed": false,
    "pycharm": {
     "name": "#%%\n"
    }
   }
  },
  {
   "cell_type": "code",
   "execution_count": 8,
   "outputs": [
    {
     "name": "stdout",
     "output_type": "stream",
     "text": [
      "All fragments: ['1', '2', '3']\n"
     ]
    },
    {
     "data": {
      "text/plain": "[WindowsPath('../../Datasets/vesuvius-challenge-ink-detection/train/1')]"
     },
     "execution_count": 8,
     "metadata": {},
     "output_type": "execute_result"
    }
   ],
   "source": [
    "base_path = Path(\"../../Datasets/vesuvius-challenge-ink-detection/\")\n",
    "train_path = base_path / \"train\"\n",
    "all_fragments = sorted([f.name for f in train_path.iterdir()])\n",
    "print(\"All fragments:\", all_fragments)\n",
    "# Due to limited memory on Kaggle, we can only load 1 full fragment\n",
    "train_fragments = [train_path / fragment_name for fragment_name in ['1']]\n",
    "train_fragments"
   ],
   "metadata": {
    "collapsed": false,
    "pycharm": {
     "name": "#%%\n"
    }
   }
  },
  {
   "cell_type": "code",
   "execution_count": 9,
   "outputs": [
    {
     "name": "stdout",
     "output_type": "stream",
     "text": [
      "Loaded fragment D:\\MSc - Birmingham\\MSc Project\\Datasets\\vesuvius-challenge-ink-detection\\train\\1 on 26620\n",
      "Num items (pixels) 28208880\n",
      "Wall time: 15.3 s\n"
     ]
    }
   ],
   "source": [
    "%%time\n",
    "train_dset = FragmentDataset(fragments=train_fragments, voxel_shape=voxel_size, filter_edge_pixels=True)\n",
    "print(\"Num items (pixels)\", len(train_dset))"
   ],
   "metadata": {
    "collapsed": false,
    "pycharm": {
     "name": "#%%\n"
    }
   }
  },
  {
   "cell_type": "code",
   "execution_count": 11,
   "outputs": [
    {
     "name": "stdout",
     "output_type": "stream",
     "text": [
      "Index: 1000\n",
      "Pixel: [ 256 5368    0]\n"
     ]
    },
    {
     "data": {
      "text/plain": "<Figure size 1600x1000 with 1 Axes>",
      "image/png": "[encoded data removed]"
     },
     "metadata": {},
     "output_type": "display_data"
    }
   ],
   "source": [
    "idx = 1000\n",
    "train_dset.plot_label(idx, figsize=(16, 10))"
   ],
   "metadata": {
    "collapsed": false,
    "pycharm": {
     "name": "#%%\n"
    }
   }
  },
  {
   "cell_type": "code",
   "execution_count": 12,
   "outputs": [
    {
     "name": "stdout",
     "output_type": "stream",
     "text": [
      "Volume shape: torch.Size([48, 512, 512])\n",
      "Segment shape: torch.Size([1, 512, 512])\n"
     ]
    }
   ],
   "source": [
    "# Get an item from the dataset\n",
    "volume, label = train_dset[idx]\n",
    "\n",
    "# Print the shapes\n",
    "print(\"Volume shape:\", volume.shape)\n",
    "print(\"Segment shape:\", label.shape)"
   ],
   "metadata": {
    "collapsed": false,
    "pycharm": {
     "name": "#%%\n"
    }
   }
  },
  {
   "cell_type": "code",
   "execution_count": 13,
   "outputs": [
    {
     "name": "stdout",
     "output_type": "stream",
     "text": [
      "Loaded fragment D:\\MSc - Birmingham\\MSc Project\\Datasets\\vesuvius-challenge-ink-detection\\train\\3 on 26620\n"
     ]
    }
   ],
   "source": [
    "val_fragments = [train_path / fragment_name for fragment_name in ['3']]\n",
    "val_dset = FragmentDataset(fragments=val_fragments, voxel_shape=voxel_size, filter_edge_pixels=True)"
   ],
   "metadata": {
    "collapsed": false,
    "pycharm": {
     "name": "#%%\n"
    }
   }
  },
  {
   "cell_type": "code",
   "execution_count": 26,
   "outputs": [
    {
     "name": "stdout",
     "output_type": "stream",
     "text": [
      "Index: 17560000\n",
      "Pixel: [5213 1972    0]\n"
     ]
    },
    {
     "data": {
      "text/plain": "<Figure size 1600x1000 with 1 Axes>",
      "image/png": "[encoded data removed]"
     },
     "metadata": {},
     "output_type": "display_data"
    }
   ],
   "source": [
    "idx = 17560000\n",
    "val_dset.plot_label(idx, figsize=(16, 10))"
   ],
   "metadata": {
    "collapsed": false,
    "pycharm": {
     "name": "#%%\n"
    }
   }
  },
  {
   "cell_type": "code",
   "execution_count": 13,
   "outputs": [
    {
     "name": "stdout",
     "output_type": "stream",
     "text": [
      "All fragments: ['a', 'b']\n",
      "Loaded fragment D:\\MSc - Birmingham\\MSc Project\\Datasets\\vesuvius-challenge-ink-detection\\train\\3 on 14948\n"
     ]
    }
   ],
   "source": [
    "# test_path = base_path / \"test\"\n",
    "# all_fragments = sorted([f.name for f in test_path.iterdir()])\n",
    "# print(\"All fragments:\", all_fragments)\n",
    "# # Due to limited memory on Kaggle, we can only load 1 full fragment\n",
    "# test_fragments = [test_path / fragment_name for fragment_name in ['a']]\n",
    "# test_dset = FragmentDataset(fragments=val_fragments, voxel_shape=voxel_size, filter_edge_pixels=True, load_inklabels=False)"
   ],
   "metadata": {
    "collapsed": false,
    "pycharm": {
     "name": "#%%\n"
    }
   }
  },
  {
   "cell_type": "code",
   "execution_count": 110,
   "outputs": [],
   "source": [
    "# class FragmentDataset(Dataset):\n",
    "#     def __init__(self, volume_paths, seg_paths, mask_paths, transform=None):\n",
    "#         self.volume_paths = volume_paths\n",
    "#         self.seg_paths = seg_paths\n",
    "#         self.mask_paths = mask_paths\n",
    "#         self.transform = transform\n",
    "#\n",
    "#     def __len__(self):\n",
    "#         return len(self.volume_paths)\n",
    "#\n",
    "#     def __getitem__(self, idx):\n",
    "#         volume_path = self.volume_paths[idx]\n",
    "#         seg_path = self.seg_paths[idx]\n",
    "#         mask_path = self.mask_paths[idx]\n",
    "#\n",
    "#         image_paths = [os.path.join(volume_path, file) for file in os.listdir(volume_path) if file.endswith('.tif')]\n",
    "#\n",
    "#         volume = []\n",
    "#\n",
    "#         seed = np.random.randint(2147483647) # make a seed with numpy generator\n",
    "#\n",
    "#         for image_path in image_paths:\n",
    "#             image = Image.open(image_path)\n",
    "#             if self.transform is not None:\n",
    "#\n",
    "#                 random.seed(seed)\n",
    "#                 torch.manual_seed(seed)\n",
    "#\n",
    "#                 image = self.transform(image)\n",
    "#             image_array = np.array(image)\n",
    "#             volume.append(image_array)\n",
    "#\n",
    "#         volume = np.stack(volume)\n",
    "#\n",
    "#         volume = torch.from_numpy(volume.reshape(volume.shape[0],volume.shape[2],volume.shape[3]))\n",
    "#\n",
    "#\n",
    "#\n",
    "#         seg = np.array(Image.open(seg_path))\n",
    "#         if self.transform is not None:\n",
    "#\n",
    "#             random.seed(seed)\n",
    "#             torch.manual_seed(seed)\n",
    "#\n",
    "#             seg = self.transform(seg)\n",
    "#\n",
    "#         mask = np.array(Image.open(mask_path))\n",
    "#         if self.transform is not None:\n",
    "#\n",
    "#             random.seed(seed)\n",
    "#             torch.manual_seed(seed)\n",
    "#\n",
    "#             mask = self.transform(mask)\n",
    "#\n",
    "#\n",
    "#         return volume ,seg, mask"
   ],
   "metadata": {
    "collapsed": false,
    "pycharm": {
     "name": "#%%\n"
    }
   }
  },
  {
   "cell_type": "code",
   "execution_count": 105,
   "outputs": [],
   "source": [
    "# transform = transforms.Compose([\n",
    "#     transforms.ToTensor(),\n",
    "#     transforms.RandomCrop(70),\n",
    "#     transforms.RandomHorizontalFlip(),\n",
    "#     transforms.RandomVerticalFlip(),\n",
    "# ])\n",
    "#\n",
    "# # Create an instance of the FragmentDataset with the transformations\n",
    "# frag_data = FragmentDataset(volume_paths, seg_paths, mask_paths, transform=transform)"
   ],
   "metadata": {
    "collapsed": false,
    "pycharm": {
     "name": "#%%\n"
    }
   }
  },
  {
   "cell_type": "code",
   "execution_count": 106,
   "outputs": [],
   "source": [
    "# # Get an item from the dataset\n",
    "# idx = 0\n",
    "# volume, seg, mask = frag_data[idx]\n",
    "#\n",
    "# # Print the shapes\n",
    "# print(\"Volume shape:\", volume.shape)\n",
    "# print(\"Segment shape:\", seg.shape)\n",
    "# print(\"Mask shape:\", mask.shape)"
   ],
   "metadata": {
    "collapsed": false,
    "pycharm": {
     "name": "#%%\n"
    }
   }
  },
  {
   "cell_type": "code",
   "execution_count": 107,
   "outputs": [],
   "source": [
    "# plt.imshow(volume[0], cmap=\"gray\") #last [] is the layer\n",
    "# plt.axis(\"off\")\n",
    "# plt.show()"
   ],
   "metadata": {
    "collapsed": false,
    "pycharm": {
     "name": "#%%\n"
    }
   }
  },
  {
   "cell_type": "code",
   "execution_count": 108,
   "outputs": [],
   "source": [
    "# plt.imshow(seg[0], cmap=\"gray\")\n",
    "# plt.axis(\"off\")\n",
    "# plt.show()"
   ],
   "metadata": {
    "collapsed": false,
    "pycharm": {
     "name": "#%%\n"
    }
   }
  },
  {
   "cell_type": "code",
   "execution_count": 109,
   "outputs": [],
   "source": [
    "# plt.imshow(mask[0], cmap=\"gray\")\n",
    "# plt.axis(\"off\")\n",
    "# plt.show()"
   ],
   "metadata": {
    "collapsed": false,
    "pycharm": {
     "name": "#%%\n"
    }
   }
  },
  {
   "cell_type": "code",
   "execution_count": null,
   "outputs": [],
   "source": [],
   "metadata": {
    "collapsed": false,
    "pycharm": {
     "name": "#%%\n"
    }
   }
  },
  {
   "cell_type": "code",
   "execution_count": 31,
   "outputs": [],
   "source": [
    "#Simple UNet Model without skip connections. Works with 512x512 image size\n",
    "\n",
    "class UNetWithoutSkipConnections(nn.Module):\n",
    "    def __init__(self, in_channels, out_channels):\n",
    "        super(UNetWithoutSkipConnections, self).__init__()\n",
    "\n",
    "        # Encoder\n",
    "        self.encoder = nn.Sequential(\n",
    "            nn.Conv2d(in_channels, 16, kernel_size=3, stride=1, padding=1),#512x512x16\n",
    "            nn.Conv2d(16, 16, kernel_size=3, stride=1, padding=1), #512x512x16\n",
    "            nn.ReLU(),\n",
    "            nn.MaxPool2d(kernel_size=2, stride=2),  #256x256x16\n",
    "\n",
    "            nn.Conv2d(16, 32, kernel_size=3, stride=1, padding=1),#256x256x32\n",
    "            nn.Conv2d(32, 32, kernel_size=3, stride=1, padding=1), #256x256x32\n",
    "            nn.ReLU(),\n",
    "            nn.MaxPool2d(kernel_size=2, stride=2),  #128x128x32\n",
    "\n",
    "            nn.Conv2d(32, 64, kernel_size=3, stride=1, padding=1),#128x128x64\n",
    "            nn.Conv2d(64, 64, kernel_size=3, stride=1, padding=1), #128x128x64\n",
    "            nn.ReLU(),\n",
    "            nn.MaxPool2d(kernel_size=2, stride=2),  #64x64x64\n",
    "\n",
    "            nn.Conv2d(64, 128, kernel_size=3, stride=1, padding=1),#64x64x128\n",
    "            nn.Conv2d(128, 128, kernel_size=3, stride=1, padding=1), #64x64x128\n",
    "            nn.ReLU(),\n",
    "            nn.MaxPool2d(kernel_size=2, stride=2),  #32x32x128\n",
    "\n",
    "            nn.Conv2d(128, 256, kernel_size=3, stride=1, padding=1),#32x32x256\n",
    "            nn.Conv2d(256, 256, kernel_size=3, stride=1, padding=1), #32x32x256\n",
    "            nn.ReLU(),\n",
    "            nn.MaxPool2d(kernel_size=2, stride=2),  #16x16x256\n",
    "\n",
    "            nn.Conv2d(256, 256, kernel_size=3, stride=1, padding=1),#16x16x256\n",
    "            nn.Conv2d(256, 256, kernel_size=3, stride=1, padding=1), #16x16x256\n",
    "            nn.ReLU(),\n",
    "            nn.MaxPool2d(kernel_size=2, stride=2),  #8x8x256\n",
    "        )\n",
    "\n",
    "        # Decoder\n",
    "        self.decoder = nn.Sequential(\n",
    "\n",
    "            nn.ConvTranspose2d(256, 256, kernel_size=2, stride=2),#16x16x256\n",
    "            nn.ReLU(),\n",
    "            nn.ConvTranspose2d(256, 256, kernel_size=2, stride=2),#32x32x256\n",
    "            nn.ReLU(),\n",
    "            nn.ConvTranspose2d(256, 128, kernel_size=2, stride=2),#64x64x128\n",
    "            nn.ReLU(),\n",
    "            nn.ConvTranspose2d(128, 64, kernel_size=2, stride=2), #128x128x64\n",
    "            nn.ReLU(),\n",
    "            nn.ConvTranspose2d(64, 32, kernel_size=2, stride=2), #256x256x32\n",
    "            nn.ReLU(),\n",
    "            nn.ConvTranspose2d(32, 16, kernel_size=2, stride=2), #512x512x16\n",
    "            nn.ReLU(),\n",
    "            nn.ConvTranspose2d(16, 1, kernel_size=1, stride=1), #512x512x1\n",
    "            nn.Sigmoid()\n",
    "        )\n",
    "\n",
    "    def forward(self, x):\n",
    "        #print(x.shape)\n",
    "        x = self.encoder(x)\n",
    "        #print(x.shape)\n",
    "        x = self.decoder(x)\n",
    "        #print(x.shape)\n",
    "        return x"
   ],
   "metadata": {
    "collapsed": false,
    "pycharm": {
     "name": "#%%\n"
    }
   }
  },
  {
   "cell_type": "code",
   "execution_count": 276,
   "outputs": [],
   "source": [
    "# class UNet(nn.Module):\n",
    "#\n",
    "#     def __init__(self, in_channels=3, out_channels=1, init_features=32):\n",
    "#         super(UNet, self).__init__()\n",
    "#\n",
    "#         features = init_features\n",
    "#         self.encoder1 = UNet._block(in_channels, features, name=\"enc1\")\n",
    "#         self.pool1 = nn.MaxPool2d(kernel_size=2, stride=2)\n",
    "#         self.encoder2 = UNet._block(features, features * 2, name=\"enc2\")\n",
    "#         self.pool2 = nn.MaxPool2d(kernel_size=2, stride=2)\n",
    "#         self.encoder3 = UNet._block(features * 2, features * 4, name=\"enc3\")\n",
    "#         self.pool3 = nn.MaxPool2d(kernel_size=2, stride=2)\n",
    "#         self.encoder4 = UNet._block(features * 4, features * 8, name=\"enc4\")\n",
    "#         self.pool4 = nn.MaxPool2d(kernel_size=2, stride=2)\n",
    "#\n",
    "#         self.bottleneck = UNet._block(features * 8, features * 16, name=\"bottleneck\")\n",
    "#\n",
    "#         self.upconv4 = nn.ConvTranspose2d(\n",
    "#             features * 16, features * 8, kernel_size=2, stride=2\n",
    "#         )\n",
    "#         self.decoder4 = UNet._block((features * 8) * 2, features * 8, name=\"dec4\")\n",
    "#         self.upconv3 = nn.ConvTranspose2d(\n",
    "#             features * 8, features * 4, kernel_size=2, stride=2\n",
    "#         )\n",
    "#         self.decoder3 = UNet._block((features * 4) * 2, features * 4, name=\"dec3\")\n",
    "#         self.upconv2 = nn.ConvTranspose2d(\n",
    "#             features * 4, features * 2, kernel_size=2, stride=2\n",
    "#         )\n",
    "#         self.decoder2 = UNet._block((features * 2) * 2, features * 2, name=\"dec2\")\n",
    "#         self.upconv1 = nn.ConvTranspose2d(\n",
    "#             features * 2, features, kernel_size=2, stride=2\n",
    "#         )\n",
    "#         self.decoder1 = UNet._block(features * 2, features, name=\"dec1\")\n",
    "#\n",
    "#         self.conv = nn.Conv2d(\n",
    "#             in_channels=features, out_channels=out_channels, kernel_size=1\n",
    "#         )\n",
    "#\n",
    "#     def forward(self, x):\n",
    "#         enc1 = self.encoder1(x)\n",
    "#         print(enc1.shape)\n",
    "#         enc2 = self.encoder2(self.pool1(enc1))\n",
    "#         print(enc2.shape)\n",
    "#         enc3 = self.encoder3(self.pool2(enc2))\n",
    "#         print(enc3.shape)\n",
    "#         enc4 = self.encoder4(self.pool3(enc3))\n",
    "#         print(enc4.shape)\n",
    "#\n",
    "#         #bottleneck = self.bottleneck(self.pool4(enc4))\n",
    "#         #print(bottleneck.shape)\n",
    "#\n",
    "#         #dec4 = self.upconv4(bottleneck)\n",
    "#         #dec4 = torch.cat((dec4, enc4), dim=1)\n",
    "#         #dec4 = self.decoder4(dec4)\n",
    "#         dec3 = self.upconv3(enc4)\n",
    "#         #dec3 = torch.cat((dec3, enc3), dim=1)\n",
    "#         dec3 = self.decoder3(dec3)\n",
    "#         dec2 = self.upconv2(dec3)\n",
    "#         #dec2 = torch.cat((dec2, enc2), dim=1)\n",
    "#         dec2 = self.decoder2(dec2)\n",
    "#         dec1 = self.upconv1(dec2)\n",
    "#         #dec1 = torch.cat((dec1, enc1), dim=1)\n",
    "#         dec1 = self.decoder1(dec1)\n",
    "#         return torch.sigmoid(self.conv(dec1))\n",
    "#\n",
    "#     @staticmethod\n",
    "#     def _block(in_channels, features, name):\n",
    "#         return nn.Sequential(\n",
    "#             OrderedDict(\n",
    "#                 [\n",
    "#                     (\n",
    "#                         name + \"conv1\",\n",
    "#                         nn.Conv2d(\n",
    "#                             in_channels=in_channels,\n",
    "#                             out_channels=features,\n",
    "#                             kernel_size=3,\n",
    "#                             padding=1,\n",
    "#                             bias=False,\n",
    "#                         ),\n",
    "#                     ),\n",
    "#                     (name + \"norm1\", nn.BatchNorm2d(num_features=features)),\n",
    "#                     (name + \"relu1\", nn.ReLU(inplace=True)),\n",
    "#                     (\n",
    "#                         name + \"conv2\",\n",
    "#                         nn.Conv2d(\n",
    "#                             in_channels=features,\n",
    "#                             out_channels=features,\n",
    "#                             kernel_size=3,\n",
    "#                             padding=1,\n",
    "#                             bias=False,\n",
    "#                         ),\n",
    "#                     ),\n",
    "#                     (name + \"norm2\", nn.BatchNorm2d(num_features=features)),\n",
    "#                     (name + \"relu2\", nn.ReLU(inplace=True)),\n",
    "#                 ]\n",
    "#             )\n",
    "#         )"
   ],
   "metadata": {
    "collapsed": false,
    "pycharm": {
     "name": "#%%\n"
    }
   }
  },
  {
   "cell_type": "code",
   "execution_count": 34,
   "outputs": [
    {
     "data": {
      "text/plain": "device(type='cuda')"
     },
     "execution_count": 34,
     "metadata": {},
     "output_type": "execute_result"
    }
   ],
   "source": [
    "torch.cuda.empty_cache()\n",
    "\n",
    "device = torch.device('cuda' if torch.cuda.is_available() else 'cpu')\n",
    "device"
   ],
   "metadata": {
    "collapsed": false,
    "pycharm": {
     "name": "#%%\n"
    }
   }
  },
  {
   "cell_type": "code",
   "execution_count": null,
   "outputs": [
    {
     "name": "stdout",
     "output_type": "stream",
     "text": [
      "Epoch 0 Processing Batch No: 1 / 881528\n",
      "Train Loss: 0.7192, Test Loss: 1.0918\n",
      "Epoch 0 Processing Batch No: 2 / 881528\n",
      "Train Loss: 0.7135, Test Loss: 1.0863\n",
      "Epoch 0 Processing Batch No: 3 / 881528\n",
      "Train Loss: 0.7139, Test Loss: 1.0809\n",
      "Epoch 0 Processing Batch No: 4 / 881528\n",
      "Train Loss: 0.7085, Test Loss: 1.0754\n",
      "Epoch 0 Processing Batch No: 5 / 881528\n",
      "Train Loss: 0.7085, Test Loss: 1.0695\n",
      "Epoch 0 Processing Batch No: 6 / 881528\n",
      "Train Loss: 0.7082, Test Loss: 1.0596\n",
      "Epoch 0 Processing Batch No: 7 / 881528\n",
      "Train Loss: 0.7010, Test Loss: 1.0404\n",
      "Epoch 0 Processing Batch No: 8 / 881528\n",
      "Train Loss: 0.6950, Test Loss: 1.0429\n",
      "Epoch 0 Processing Batch No: 9 / 881528\n",
      "Train Loss: 0.6942, Test Loss: 1.0422\n",
      "Epoch 0 Processing Batch No: 10 / 881528\n",
      "Train Loss: 0.6940, Test Loss: 1.0377\n",
      "Epoch 0 Processing Batch No: 11 / 881528\n",
      "Train Loss: 0.6924, Test Loss: 1.0305\n",
      "Epoch 0 Processing Batch No: 12 / 881528\n",
      "Train Loss: 0.6895, Test Loss: 1.0171\n",
      "Epoch 0 Processing Batch No: 13 / 881528\n",
      "Train Loss: 0.6842, Test Loss: 0.9862\n",
      "Epoch 0 Processing Batch No: 14 / 881528\n",
      "Train Loss: 0.6742, Test Loss: 1.0235\n",
      "Epoch 0 Processing Batch No: 15 / 881528\n",
      "Train Loss: 0.6883, Test Loss: 0.9704\n",
      "Epoch 0 Processing Batch No: 16 / 881528\n",
      "Train Loss: 0.6620, Test Loss: 0.9773\n",
      "Epoch 0 Processing Batch No: 17 / 881528\n",
      "Train Loss: 0.6688, Test Loss: 0.9828\n",
      "Epoch 0 Processing Batch No: 18 / 881528\n",
      "Train Loss: 0.6733, Test Loss: 0.9804\n",
      "Epoch 0 Processing Batch No: 19 / 881528\n",
      "Train Loss: 0.6671, Test Loss: 0.9700\n",
      "Epoch 0 Processing Batch No: 20 / 881528\n",
      "Train Loss: 0.6654, Test Loss: 0.9556\n",
      "Epoch 0 Processing Batch No: 21 / 881528\n",
      "Train Loss: 0.6586, Test Loss: 0.9449\n",
      "Epoch 0 Processing Batch No: 22 / 881528\n",
      "Train Loss: 0.6545, Test Loss: 0.9428\n",
      "Epoch 0 Processing Batch No: 23 / 881528\n",
      "Train Loss: 0.6503, Test Loss: 0.9449\n",
      "Epoch 0 Processing Batch No: 24 / 881528\n",
      "Train Loss: 0.6568, Test Loss: 0.9382\n",
      "Epoch 0 Processing Batch No: 25 / 881528\n",
      "Train Loss: 0.6496, Test Loss: 0.9276\n",
      "Epoch 0 Processing Batch No: 26 / 881528\n",
      "Train Loss: 0.6461, Test Loss: 0.9225\n",
      "Epoch 0 Processing Batch No: 27 / 881528\n",
      "Train Loss: 0.6409, Test Loss: 0.9182\n",
      "Epoch 0 Processing Batch No: 28 / 881528\n",
      "Train Loss: 0.6428, Test Loss: 0.9124\n",
      "Epoch 0 Processing Batch No: 29 / 881528\n",
      "Train Loss: 0.6415, Test Loss: 0.9037\n",
      "Epoch 0 Processing Batch No: 30 / 881528\n",
      "Train Loss: 0.6360, Test Loss: 0.8905\n",
      "Epoch 0 Processing Batch No: 31 / 881528\n",
      "Train Loss: 0.6330, Test Loss: 0.8694\n",
      "Epoch 0 Processing Batch No: 32 / 881528\n",
      "Train Loss: 0.6301, Test Loss: 0.8255\n",
      "Epoch 0 Processing Batch No: 33 / 881528\n",
      "Train Loss: 0.6018, Test Loss: 0.7103\n",
      "Epoch 0 Processing Batch No: 34 / 881528\n",
      "Train Loss: 0.5799, Test Loss: 0.4532\n",
      "Epoch 0 Processing Batch No: 35 / 881528\n",
      "Train Loss: 0.5812, Test Loss: 0.4289\n",
      "Epoch 0 Processing Batch No: 36 / 881528\n",
      "Train Loss: 0.4890, Test Loss: 0.3886\n",
      "Epoch 0 Processing Batch No: 37 / 881528\n",
      "Train Loss: 0.5158, Test Loss: 0.3804\n",
      "Epoch 0 Processing Batch No: 38 / 881528\n",
      "Train Loss: 0.5106, Test Loss: 0.3746\n",
      "Epoch 0 Processing Batch No: 39 / 881528\n",
      "Train Loss: 0.5078, Test Loss: 0.3521\n",
      "Epoch 0 Processing Batch No: 40 / 881528\n",
      "Train Loss: 0.5124, Test Loss: 0.3522\n",
      "Epoch 0 Processing Batch No: 41 / 881528\n",
      "Train Loss: 0.4887, Test Loss: 0.3048\n",
      "Epoch 0 Processing Batch No: 42 / 881528\n",
      "Train Loss: 0.5204, Test Loss: 0.3730\n",
      "Epoch 0 Processing Batch No: 43 / 881528\n",
      "Train Loss: 0.5185, Test Loss: 0.4075\n",
      "Epoch 0 Processing Batch No: 44 / 881528\n",
      "Train Loss: 0.4866, Test Loss: 0.2877\n",
      "Epoch 0 Processing Batch No: 45 / 881528\n",
      "Train Loss: 0.4828, Test Loss: 0.2195\n",
      "Epoch 0 Processing Batch No: 46 / 881528\n",
      "Train Loss: 0.5013, Test Loss: 0.3511\n",
      "Epoch 0 Processing Batch No: 47 / 881528\n",
      "Train Loss: 0.5524, Test Loss: 0.5279\n",
      "Epoch 0 Processing Batch No: 48 / 881528\n",
      "Train Loss: 0.4880, Test Loss: 0.4686\n",
      "Epoch 0 Processing Batch No: 49 / 881528\n",
      "Train Loss: 0.5653, Test Loss: 0.3642\n",
      "Epoch 0 Processing Batch No: 50 / 881528\n",
      "Train Loss: 0.4450, Test Loss: 0.1322\n",
      "Epoch 0 Processing Batch No: 51 / 881528\n",
      "Train Loss: 0.5287, Test Loss: 0.1834\n",
      "Epoch 0 Processing Batch No: 52 / 881528\n",
      "Train Loss: 0.5504, Test Loss: 0.3892\n",
      "Epoch 0 Processing Batch No: 53 / 881528\n",
      "Train Loss: 0.4910, Test Loss: 0.4321\n",
      "Epoch 0 Processing Batch No: 54 / 881528\n",
      "Train Loss: 0.5033, Test Loss: 0.3084\n",
      "Epoch 0 Processing Batch No: 55 / 881528\n",
      "Train Loss: 0.4902, Test Loss: 0.0718\n",
      "Epoch 0 Processing Batch No: 56 / 881528\n",
      "Train Loss: 0.5598, Test Loss: 0.1963\n",
      "Epoch 0 Processing Batch No: 57 / 881528\n",
      "Train Loss: 0.5462, Test Loss: 0.2965\n",
      "Epoch 0 Processing Batch No: 58 / 881528\n",
      "Train Loss: 0.4653, Test Loss: 0.2378\n",
      "Epoch 0 Processing Batch No: 59 / 881528\n",
      "Train Loss: 0.4279, Test Loss: 0.1038\n",
      "Epoch 0 Processing Batch No: 60 / 881528\n",
      "Train Loss: 0.4944, Test Loss: 0.0501\n",
      "Epoch 0 Processing Batch No: 61 / 881528\n",
      "Train Loss: 0.4244, Test Loss: 0.0383\n",
      "Epoch 0 Processing Batch No: 62 / 881528\n",
      "Train Loss: 0.4731, Test Loss: 0.0656\n",
      "Epoch 0 Processing Batch No: 63 / 881528\n",
      "Train Loss: 0.4442, Test Loss: 0.0923\n",
      "Epoch 0 Processing Batch No: 64 / 881528\n",
      "Train Loss: 0.4251, Test Loss: 0.0881\n",
      "Epoch 0 Processing Batch No: 65 / 881528\n",
      "Train Loss: 0.4457, Test Loss: 0.0691\n",
      "Epoch 0 Processing Batch No: 66 / 881528\n",
      "Train Loss: 0.4461, Test Loss: 0.0484\n",
      "Epoch 0 Processing Batch No: 67 / 881528\n",
      "Train Loss: 0.5126, Test Loss: 0.0479\n",
      "Epoch 0 Processing Batch No: 68 / 881528\n",
      "Train Loss: 0.4009, Test Loss: 0.0513\n",
      "Epoch 0 Processing Batch No: 69 / 881528\n",
      "Train Loss: 0.4479, Test Loss: 0.0610\n",
      "Epoch 0 Processing Batch No: 70 / 881528\n",
      "Train Loss: 0.4602, Test Loss: 0.0663\n",
      "Epoch 0 Processing Batch No: 71 / 881528\n",
      "Train Loss: 0.4654, Test Loss: 0.0652\n",
      "Epoch 0 Processing Batch No: 72 / 881528\n",
      "Train Loss: 0.4614, Test Loss: 0.0605\n",
      "Epoch 0 Processing Batch No: 73 / 881528\n",
      "Train Loss: 0.4334, Test Loss: 0.0475\n",
      "Epoch 0 Processing Batch No: 74 / 881528\n",
      "Train Loss: 0.4968, Test Loss: 0.0475\n",
      "Epoch 0 Processing Batch No: 75 / 881528\n",
      "Train Loss: 0.5633, Test Loss: 0.0729\n",
      "Epoch 0 Processing Batch No: 76 / 881528\n",
      "Train Loss: 0.4459, Test Loss: 0.0877\n",
      "Epoch 0 Processing Batch No: 77 / 881528\n",
      "Train Loss: 0.4167, Test Loss: 0.0774\n",
      "Epoch 0 Processing Batch No: 78 / 881528\n",
      "Train Loss: 0.4868, Test Loss: 0.0619\n",
      "Epoch 0 Processing Batch No: 79 / 881528\n",
      "Train Loss: 0.4530, Test Loss: 0.0510\n",
      "Epoch 0 Processing Batch No: 80 / 881528\n",
      "Train Loss: 0.4417, Test Loss: 0.0578\n",
      "Epoch 0 Processing Batch No: 81 / 881528\n",
      "Train Loss: 0.5837, Test Loss: 0.1102\n",
      "Epoch 0 Processing Batch No: 82 / 881528\n",
      "Train Loss: 0.4180, Test Loss: 0.1294\n",
      "Epoch 0 Processing Batch No: 83 / 881528\n",
      "Train Loss: 0.4538, Test Loss: 0.1127\n",
      "Epoch 0 Processing Batch No: 84 / 881528\n",
      "Train Loss: 0.4188, Test Loss: 0.0740\n",
      "Epoch 0 Processing Batch No: 85 / 881528\n",
      "Train Loss: 0.3831, Test Loss: 0.0324\n",
      "Epoch 0 Processing Batch No: 86 / 881528\n",
      "Train Loss: 0.5548, Test Loss: 0.0418\n",
      "Epoch 0 Processing Batch No: 87 / 881528\n",
      "Train Loss: 0.3955, Test Loss: 0.0581\n",
      "Epoch 0 Processing Batch No: 88 / 881528\n",
      "Train Loss: 0.5283, Test Loss: 0.0850\n",
      "Epoch 0 Processing Batch No: 89 / 881528\n",
      "Train Loss: 0.4567, Test Loss: 0.0999\n",
      "Epoch 0 Processing Batch No: 90 / 881528\n",
      "Train Loss: 0.4509, Test Loss: 0.1015\n",
      "Epoch 0 Processing Batch No: 91 / 881528\n",
      "Train Loss: 0.5164, Test Loss: 0.1009\n",
      "Epoch 0 Processing Batch No: 92 / 881528\n",
      "Train Loss: 0.4547, Test Loss: 0.0871\n",
      "Epoch 0 Processing Batch No: 93 / 881528\n",
      "Train Loss: 0.4726, Test Loss: 0.0637\n",
      "Epoch 0 Processing Batch No: 94 / 881528\n",
      "Train Loss: 0.4925, Test Loss: 0.0522\n",
      "Epoch 0 Processing Batch No: 95 / 881528\n",
      "Train Loss: 0.4594, Test Loss: 0.0484\n",
      "Epoch 0 Processing Batch No: 96 / 881528\n",
      "Train Loss: 0.4361, Test Loss: 0.0488\n",
      "Epoch 0 Processing Batch No: 97 / 881528\n",
      "Train Loss: 0.4095, Test Loss: 0.0534\n",
      "Epoch 0 Processing Batch No: 98 / 881528\n",
      "Train Loss: 0.5051, Test Loss: 0.0680\n",
      "Epoch 0 Processing Batch No: 99 / 881528\n",
      "Train Loss: 0.4821, Test Loss: 0.0888\n",
      "Epoch 0 Processing Batch No: 100 / 881528\n",
      "Train Loss: 0.5024, Test Loss: 0.1023\n",
      "Epoch 0 Processing Batch No: 101 / 881528\n",
      "Train Loss: 0.4931, Test Loss: 0.1085\n",
      "Epoch 0 Processing Batch No: 102 / 881528\n",
      "Train Loss: 0.4922, Test Loss: 0.0969\n",
      "Epoch 0 Processing Batch No: 103 / 881528\n",
      "Train Loss: 0.4529, Test Loss: 0.0746\n",
      "Epoch 0 Processing Batch No: 104 / 881528\n",
      "Train Loss: 0.4013, Test Loss: 0.0467\n",
      "Epoch 0 Processing Batch No: 105 / 881528\n",
      "Train Loss: 0.4622, Test Loss: 0.0377\n",
      "Epoch 0 Processing Batch No: 106 / 881528\n",
      "Train Loss: 0.4534, Test Loss: 0.0433\n",
      "Epoch 0 Processing Batch No: 107 / 881528\n",
      "Train Loss: 0.3786, Test Loss: 0.0500\n",
      "Epoch 0 Processing Batch No: 108 / 881528\n",
      "Train Loss: 0.5048, Test Loss: 0.0697\n",
      "Epoch 0 Processing Batch No: 109 / 881528\n",
      "Train Loss: 0.5022, Test Loss: 0.0921\n",
      "Epoch 0 Processing Batch No: 110 / 881528\n",
      "Train Loss: 0.4176, Test Loss: 0.1037\n",
      "Epoch 0 Processing Batch No: 111 / 881528\n",
      "Train Loss: 0.4815, Test Loss: 0.0961\n",
      "Epoch 0 Processing Batch No: 112 / 881528\n",
      "Train Loss: 0.4841, Test Loss: 0.0792\n",
      "Epoch 0 Processing Batch No: 113 / 881528\n",
      "Train Loss: 0.4759, Test Loss: 0.0651\n",
      "Epoch 0 Processing Batch No: 114 / 881528\n",
      "Train Loss: 0.4294, Test Loss: 0.0501\n",
      "Epoch 0 Processing Batch No: 115 / 881528\n",
      "Train Loss: 0.4475, Test Loss: 0.0475\n",
      "Epoch 0 Processing Batch No: 116 / 881528\n",
      "Train Loss: 0.4329, Test Loss: 0.0490\n",
      "Epoch 0 Processing Batch No: 117 / 881528\n",
      "Train Loss: 0.4050, Test Loss: 0.0572\n",
      "Epoch 0 Processing Batch No: 118 / 881528\n",
      "Train Loss: 0.4888, Test Loss: 0.0758\n",
      "Epoch 0 Processing Batch No: 119 / 881528\n",
      "Train Loss: 0.4938, Test Loss: 0.0914\n",
      "Epoch 0 Processing Batch No: 120 / 881528\n",
      "Train Loss: 0.3856, Test Loss: 0.0855\n",
      "Epoch 0 Processing Batch No: 121 / 881528\n",
      "Train Loss: 0.4970, Test Loss: 0.0756\n",
      "Epoch 0 Processing Batch No: 122 / 881528\n",
      "Train Loss: 0.3967, Test Loss: 0.0567\n"
     ]
    }
   ],
   "source": [
    "model = UNetWithoutSkipConnections(in_channels=48, out_channels=1)\n",
    "model = model.to(device)\n",
    "\n",
    "criterion = nn.BCELoss()  # Binary Cross-Entropy Loss\n",
    "optimizer = optim.Adam(model.parameters(), lr=0.001)\n",
    "\n",
    "num_epochs = 1\n",
    "batch_size = 32\n",
    "\n",
    "best_test_loss = float('inf')\n",
    "\n",
    "train_loader = DataLoader(train_dset, batch_size=batch_size, shuffle=True)\n",
    "val_loader = DataLoader(val_dset, batch_size=batch_size, shuffle=True)\n",
    "\n",
    "train_losses = []\n",
    "test_losses = []\n",
    "\n",
    "for epoch in range(num_epochs):\n",
    "\n",
    "    # Training\n",
    "    model.train()\n",
    "\n",
    "    batch_no = 1\n",
    "\n",
    "    for batch in train_loader:\n",
    "\n",
    "        train_loss = 0.0\n",
    "        test_loss = 0.0\n",
    "\n",
    "        print('Epoch',epoch,'Processing Batch No:', batch_no, '/',len(train_loader))\n",
    "\n",
    "        images, labels= batch[0].to(device), batch[1].to(device)\n",
    "\n",
    "        # Forward pass\n",
    "        reconstructions = model(images)\n",
    "        loss = criterion(reconstructions, labels.float())\n",
    "\n",
    "        # Backward pass and optimization\n",
    "        optimizer.zero_grad()\n",
    "        loss.backward()\n",
    "        optimizer.step()\n",
    "\n",
    "        train_loss += loss.item() * images.size(0)\n",
    "\n",
    "        batch_no = batch_no + 1\n",
    "\n",
    "        if batch_no%100==0:\n",
    "            torch.save(model, '../models/temp_ink_detection_simple_u_net_middle_layer_epoch_new_dataset_impl_'+str(num_epochs)+'_batch_'+str(batch_size)+'.pt')\n",
    "\n",
    "        train_loss /= batch_size\n",
    "\n",
    "\n",
    "\n",
    "\n",
    "        # Evaluation\n",
    "        model.eval()\n",
    "        with torch.no_grad():\n",
    "            num_batches_to_load = 1\n",
    "            for batch_idx, batch in enumerate(val_dset):\n",
    "                if batch_idx == num_batches_to_load:\n",
    "                    break\n",
    "\n",
    "                images, labels = batch[0].to(device), batch[1].to(device)\n",
    "\n",
    "                reconstructions = model(images)\n",
    "                loss = criterion(reconstructions, labels.float())\n",
    "\n",
    "                test_loss += loss.item() * images.size(0)\n",
    "\n",
    "            test_loss /= batch_size\n",
    "\n",
    "            print(f\"Train Loss: {train_loss:.4f}, Test Loss: {test_loss:.4f}\")"
   ],
   "metadata": {
    "collapsed": false,
    "pycharm": {
     "name": "#%%\n",
     "is_executing": true
    }
   }
  },
  {
   "cell_type": "code",
   "execution_count": 32,
   "outputs": [],
   "source": [
    "test_loader = DataLoader(Subset(val_dset, range(17560000, 17560100)), batch_size=1, shuffle=True)"
   ],
   "metadata": {
    "collapsed": false,
    "pycharm": {
     "name": "#%%\n"
    }
   }
  },
  {
   "cell_type": "code",
   "execution_count": 35,
   "outputs": [
    {
     "name": "stdout",
     "output_type": "stream",
     "text": [
      "Generate results 1\n",
      "Generate results 2\n",
      "Generate results 3\n",
      "Generate results 4\n",
      "Generate results 5\n",
      "Generate results 6\n",
      "Generate results 7\n",
      "Generate results 8\n",
      "Generate results 9\n",
      "Generate results 10\n",
      "Generate results 11\n",
      "Generate results 12\n",
      "Generate results 13\n",
      "Generate results 14\n",
      "Generate results 15\n",
      "Generate results 16\n",
      "Generate results 17\n",
      "Generate results 18\n",
      "Generate results 19\n",
      "Generate results 20\n",
      "Generate results 21\n",
      "Generate results 22\n",
      "Generate results 23\n",
      "Generate results 24\n",
      "Generate results 25\n",
      "Generate results 26\n",
      "Generate results 27\n",
      "Generate results 28\n",
      "Generate results 29\n",
      "Generate results 30\n",
      "Generate results 31\n",
      "Generate results 32\n",
      "Generate results 33\n",
      "Generate results 34\n",
      "Generate results 35\n",
      "Generate results 36\n",
      "Generate results 37\n",
      "Generate results 38\n",
      "Generate results 39\n",
      "Generate results 40\n",
      "Generate results 41\n",
      "Generate results 42\n",
      "Generate results 43\n",
      "Generate results 44\n",
      "Generate results 45\n",
      "Generate results 46\n",
      "Generate results 47\n",
      "Generate results 48\n",
      "Generate results 49\n",
      "Generate results 50\n",
      "Generate results 51\n",
      "Generate results 52\n",
      "Generate results 53\n",
      "Generate results 54\n",
      "Generate results 55\n",
      "Generate results 56\n",
      "Generate results 57\n",
      "Generate results 58\n",
      "Generate results 59\n",
      "Generate results 60\n",
      "Generate results 61\n",
      "Generate results 62\n",
      "Generate results 63\n",
      "Generate results 64\n",
      "Generate results 65\n",
      "Generate results 66\n",
      "Generate results 67\n",
      "Generate results 68\n",
      "Generate results 69\n",
      "Generate results 70\n",
      "Generate results 71\n",
      "Generate results 72\n",
      "Generate results 73\n",
      "Generate results 74\n",
      "Generate results 75\n",
      "Generate results 76\n",
      "Generate results 77\n",
      "Generate results 78\n",
      "Generate results 79\n",
      "Generate results 80\n",
      "Generate results 81\n",
      "Generate results 82\n",
      "Generate results 83\n",
      "Generate results 84\n",
      "Generate results 85\n",
      "Generate results 86\n",
      "Generate results 87\n",
      "Generate results 88\n",
      "Generate results 89\n",
      "Generate results 90\n",
      "Generate results 91\n",
      "Generate results 92\n",
      "Generate results 93\n",
      "Generate results 94\n",
      "Generate results 95\n",
      "Generate results 96\n",
      "Generate results 97\n",
      "Generate results 98\n",
      "Generate results 99\n",
      "Generate results 100\n"
     ]
    }
   ],
   "source": [
    "model = torch.load('../models/temp_ink_detection_simple_u_net_middle_layer_epoch_new_dataset_impl_1_batch_16.pt')\n",
    "\n",
    "model.eval()  # Set the model to evaluation mode\n",
    "\n",
    "results_test = []\n",
    "\n",
    "with torch.no_grad():\n",
    "    count=1\n",
    "    for data in test_loader:\n",
    "        # Move the batch to the GPU if available\n",
    "        print(\"Generate results\", count)\n",
    "        vol = data[0].to(device).to(torch.float32) if torch.cuda.is_available() else data[0].to(torch.float32)\n",
    "\n",
    "        # Perform inference\n",
    "        outputs = model(vol)\n",
    "        results_test.append(outputs)\n",
    "\n",
    "        if count==100:\n",
    "            break\n",
    "\n",
    "        count= count+1"
   ],
   "metadata": {
    "collapsed": false,
    "pycharm": {
     "name": "#%%\n"
    }
   }
  },
  {
   "cell_type": "code",
   "execution_count": 37,
   "outputs": [],
   "source": [
    "# outputs_np = []\n",
    "# for result in results_test:\n",
    "#     # Convert the PyTorch tensor to a NumPy array\n",
    "#     outputs_np.append(result.cpu().numpy())\n",
    "#\n",
    "# # Iterate over the outputs\n",
    "# for i in range(len(outputs_np)):\n",
    "#     output = outputs_np[i][0][0]\n",
    "#\n",
    "#     # Display the output as an image\n",
    "#     plt.imshow(output, cmap='gray')  # Assuming grayscale images\n",
    "#     plt.axis('off')\n",
    "#     plt.show()"
   ],
   "metadata": {
    "collapsed": false,
    "pycharm": {
     "name": "#%%\n"
    }
   }
  },
  {
   "cell_type": "code",
   "execution_count": null,
   "outputs": [],
   "source": [],
   "metadata": {
    "collapsed": false,
    "pycharm": {
     "name": "#%%\n"
    }
   }
  }
 ],
 "metadata": {
  "kernelspec": {
   "display_name": "Python 3",
   "language": "python",
   "name": "python3"
  },
  "language_info": {
   "codemirror_mode": {
    "name": "ipython",
    "version": 2
   },
   "file_extension": ".py",
   "mimetype": "text/x-python",
   "name": "python",
   "nbconvert_exporter": "python",
   "pygments_lexer": "ipython2",
   "version": "2.7.6"
  }
 },
 "nbformat": 4,
 "nbformat_minor": 0
}