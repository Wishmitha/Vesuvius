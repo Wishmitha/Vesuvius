{
 "cells": [
  {
   "cell_type": "code",
   "execution_count": 89,
   "metadata": {
    "collapsed": true
   },
   "outputs": [
    {
     "name": "stdout",
     "output_type": "stream",
     "text": [
      "The autoreload extension is already loaded. To reload it, use:\n",
      "  %reload_ext autoreload\n"
     ]
    }
   ],
   "source": [
    "import numpy as np\n",
    "import matplotlib.pyplot as plt\n",
    "import copy\n",
    "import os\n",
    "\n",
    "from ink_detection_utils import load_dataset\n",
    "from ink_detection_utils import get_crop_numer_list\n",
    "from ink_detection_utils import stitch_crops\n",
    "from ink_detection_utils import load_volumes\n",
    "\n",
    "from PIL import Image\n",
    "from typing import Dict, List, Optional, Tuple\n",
    "from pathlib import Path\n",
    "\n",
    "%matplotlib inline\n",
    "\n",
    "%load_ext autoreload\n",
    "%autoreload 2"
   ]
  },
  {
   "cell_type": "code",
   "execution_count": 90,
   "outputs": [],
   "source": [
    "#UNet Implementation\n",
    "\n",
    "import torch\n",
    "import torch.nn as nn\n",
    "import torch.optim as optim\n",
    "import torch.nn.functional as func\n",
    "\n",
    "import random\n",
    "\n",
    "from torch.utils.data import DataLoader, Dataset\n",
    "from torchvision import transforms"
   ],
   "metadata": {
    "collapsed": false,
    "pycharm": {
     "name": "#%%\n"
    }
   }
  },
  {
   "cell_type": "code",
   "execution_count": 111,
   "outputs": [],
   "source": [
    "# test_img_1 = '../../Datasets/vesuvius-challenge-ink-detection/train/1/inkLabels.png'\n",
    "# test_img_2 = '../../Datasets/vesuvius-challenge-ink-detection/train/1/ir.png'\n",
    "#\n",
    "# image_1 = Image.open(test_img_1)\n",
    "# image_2 = Image.open(test_img_2)"
   ],
   "metadata": {
    "collapsed": false,
    "pycharm": {
     "name": "#%%\n"
    }
   }
  },
  {
   "cell_type": "code",
   "execution_count": 112,
   "outputs": [],
   "source": [
    "# transform = transforms.Compose([\n",
    "#     transforms.RandomCrop(4000),\n",
    "#     transforms.RandomHorizontalFlip(),\n",
    "#     transforms.RandomVerticalFlip(),\n",
    "# ])"
   ],
   "metadata": {
    "collapsed": false,
    "pycharm": {
     "name": "#%%\n"
    }
   }
  },
  {
   "cell_type": "code",
   "execution_count": 113,
   "outputs": [],
   "source": [
    "# seed = np.random.randint(2147483647) # make a seed with numpy generator\n",
    "# random.seed(seed) # apply this seed to img tranfsorms\n",
    "# torch.manual_seed(seed) # needed for torchvision 0.7\n",
    "#\n",
    "# transformed_image_1 = transform(image_1)"
   ],
   "metadata": {
    "collapsed": false,
    "pycharm": {
     "name": "#%%\n"
    }
   }
  },
  {
   "cell_type": "code",
   "execution_count": 114,
   "outputs": [],
   "source": [
    "# random.seed(seed) # apply this seed to target tranfsorms\n",
    "# torch.manual_seed(seed) # needed for torchvision 0.7\n",
    "#\n",
    "# transformed_image_2 = transform(image_2)"
   ],
   "metadata": {
    "collapsed": false,
    "pycharm": {
     "name": "#%%\n"
    }
   }
  },
  {
   "cell_type": "code",
   "execution_count": 115,
   "outputs": [],
   "source": [
    "# plt.imshow(transformed_image_1, cmap=\"gray\") #last [] is the layer\n",
    "# plt.axis(\"off\")\n",
    "# plt.show()"
   ],
   "metadata": {
    "collapsed": false,
    "pycharm": {
     "name": "#%%\n"
    }
   }
  },
  {
   "cell_type": "code",
   "execution_count": 116,
   "outputs": [],
   "source": [
    "# plt.imshow(transformed_image_2, cmap=\"gray\") #last [] is the layer\n",
    "# plt.axis(\"off\")\n",
    "# plt.show()"
   ],
   "metadata": {
    "collapsed": false,
    "pycharm": {
     "name": "#%%\n"
    }
   }
  },
  {
   "cell_type": "code",
   "execution_count": 85,
   "outputs": [],
   "source": [
    "VESUVIUS_DATA_PATH = '../../Datasets/vesuvius-challenge-ink-detection/train/'"
   ],
   "metadata": {
    "collapsed": false,
    "pycharm": {
     "name": "#%%\n"
    }
   }
  },
  {
   "cell_type": "code",
   "execution_count": 86,
   "outputs": [],
   "source": [
    "volume_paths = [VESUVIUS_DATA_PATH+'1/surface_volume/',VESUVIUS_DATA_PATH+'2/surface_volume/',VESUVIUS_DATA_PATH+'3/surface_volume/']\n",
    "seg_paths = [VESUVIUS_DATA_PATH+'1/inkLabels.png',VESUVIUS_DATA_PATH+'2/inkLabels.png',VESUVIUS_DATA_PATH+'3/inkLabels.png']\n",
    "mask_paths = [VESUVIUS_DATA_PATH+'1/mask.png',VESUVIUS_DATA_PATH+'2/mask.png',VESUVIUS_DATA_PATH+'3/mask.png']"
   ],
   "metadata": {
    "collapsed": false,
    "pycharm": {
     "name": "#%%\n"
    }
   }
  },
  {
   "cell_type": "code",
   "execution_count": 87,
   "outputs": [
    {
     "data": {
      "text/plain": "device(type='cuda')"
     },
     "execution_count": 87,
     "metadata": {},
     "output_type": "execute_result"
    }
   ],
   "source": [
    "torch.cuda.empty_cache()\n",
    "\n",
    "device = torch.device('cuda' if torch.cuda.is_available() else 'cpu')\n",
    "device"
   ],
   "metadata": {
    "collapsed": false,
    "pycharm": {
     "name": "#%%\n"
    }
   }
  },
  {
   "cell_type": "code",
   "execution_count": 99,
   "outputs": [],
   "source": [
    "class SubvolumeDataset(Dataset):\n",
    "    def __init__(\n",
    "        self,\n",
    "        fragments: List[Path],\n",
    "        voxel_shape: Tuple[int, int, int],\n",
    "        load_inklabels: bool = True,\n",
    "        filter_edge_pixels: bool = False,\n",
    "    ):\n",
    "        self.fragments = sorted(map(lambda path: path.resolve(), fragments))\n",
    "        self.voxel_shape = voxel_shape\n",
    "        self.load_inklabels = load_inklabels\n",
    "        self.filter_edge_pixels = filter_edge_pixels\n",
    "\n",
    "        # Load sequentially\n",
    "        labels = []\n",
    "        image_stacks = []\n",
    "        valid_pixels = []\n",
    "        for fragment_id, fragment_path in enumerate(self.fragments):\n",
    "            fragment_path = fragment_path.resolve()  # absolute path\n",
    "            mask = np.array(Image.open(str(fragment_path / \"mask.png\")).convert(\"1\"))\n",
    "\n",
    "            surface_volume_paths = sorted(\n",
    "                (fragment_path / \"surface_volume\").rglob(\"*.tif\")\n",
    "            )\n",
    "            z_dim, y_dim, x_dim = voxel_shape\n",
    "\n",
    "            z_mid = len(surface_volume_paths) // 2\n",
    "            z_start, z_end = z_mid - z_dim // 2, z_mid + z_dim // 2\n",
    "\n",
    "            # we don't convert to torch since it doesn't support uint16\n",
    "            images = [\n",
    "                np.array(Image.open(fn)) for fn in surface_volume_paths[z_start:z_end]\n",
    "            ]\n",
    "            image_stack = np.stack(images, axis=0)\n",
    "            image_stacks.append(image_stack)\n",
    "\n",
    "            pixels = np.stack(np.where(mask == 1), axis=1).astype(np.uint16)\n",
    "            if filter_edge_pixels:\n",
    "                height, width = mask.shape\n",
    "                mask_y = np.logical_or(\n",
    "                    pixels[:, 0] < y_dim // 2, pixels[:, 0] >= height - y_dim // 2\n",
    "                )\n",
    "                mask_x = np.logical_or(\n",
    "                    pixels[:, 1] < x_dim // 2, pixels[:, 1] >= width - x_dim // 2\n",
    "                )\n",
    "                pixel_mask = np.logical_or(mask_y, mask_x)\n",
    "                pixels = pixels[~pixel_mask]\n",
    "            # encode fragment ID\n",
    "            fragment_ids = np.full_like(pixels[:, 0:1], fragment_id)\n",
    "            pixels = np.concatenate((pixels, fragment_ids), axis=1)\n",
    "            valid_pixels.append(pixels)\n",
    "\n",
    "            if load_inklabels:\n",
    "                # binary mask can be stored as np.bool\n",
    "                inklabels = np.array(Image.open(str(fragment_path / \"inklabels.png\")))\n",
    "                labels.append(inklabels)\n",
    "\n",
    "            print(f\"Loaded fragment {fragment_path} on {os.getpid()}\")\n",
    "\n",
    "        self.labels = labels\n",
    "        self.image_stacks = image_stacks\n",
    "        self.pixels = np.concatenate(valid_pixels).reshape(\n",
    "            -1, valid_pixels[0].shape[-1]\n",
    "        )\n",
    "\n",
    "    def __len__(self):\n",
    "        return len(self.pixels)\n",
    "\n",
    "    def __getitem__(self, index):\n",
    "        center_y, center_x, fragment_id = self.pixels[index]\n",
    "        z_dim, y_dim, x_dim = self.voxel_shape\n",
    "        image_stack = self.image_stacks[fragment_id]\n",
    "        _, height, width = image_stack.shape\n",
    "        labels = self.labels[fragment_id]\n",
    "\n",
    "        # pad with zeros if necessary\n",
    "        if (\n",
    "            center_y < y_dim // 2\n",
    "            or center_x < x_dim // 2\n",
    "            or center_y + y_dim // 2 >= height\n",
    "            or center_x + x_dim // 2 >= width\n",
    "        ):\n",
    "            # calculate the upper-left corner of the sub-volume\n",
    "            y_start = max(center_y - y_dim // 2, 0)\n",
    "            x_start = max(center_x - x_dim // 2, 0)\n",
    "\n",
    "            # calculate the lower-right corner of the sub-volume\n",
    "            y_end = min(center_y + y_dim // 2, height)\n",
    "            x_end = min(center_x + x_dim // 2, width)\n",
    "\n",
    "            subvolume = np.zeros(self.voxel_shape, dtype=np.float32)\n",
    "            inklabel = np.zeros(self.voxel_shape, dtype=np.float32)\n",
    "\n",
    "            pad_y_start = max(y_dim // 2 - center_y, 0)\n",
    "            pad_x_start = max(x_dim // 2 - center_x, 0)\n",
    "\n",
    "            pad_y_end = min(height + y_dim // 2 - center_y, y_dim)\n",
    "            pad_x_end = min(width + x_dim // 2 - center_x, x_dim)\n",
    "\n",
    "            subvolume[:, pad_y_start:pad_y_end, pad_x_start:pad_x_end] = (\n",
    "                image_stack[:, y_start:y_end, x_start:x_end].astype(np.float32) / 65535\n",
    "            )\n",
    "\n",
    "            if self.load_inklabels:\n",
    "                inklabel[:, pad_y_start:pad_y_end, pad_x_start:pad_x_end] = (\n",
    "                    labels[y_start:y_end, x_start:x_end].astype(np.float32)\n",
    "                )\n",
    "            else:\n",
    "                inklabel = np.ones(self.voxel_shape, dtype=np.float32)*-1\n",
    "\n",
    "        else:\n",
    "            subvolume = (\n",
    "                image_stack[\n",
    "                    :,\n",
    "                    center_y - y_dim // 2 : center_y + y_dim // 2,\n",
    "                    center_x - x_dim // 2 : center_x + x_dim // 2,\n",
    "                ]\n",
    "            ).astype(np.float32) / 65535\n",
    "\n",
    "            if self.load_inklabels:\n",
    "                inklabel = (\n",
    "                    labels[\n",
    "                        center_y - y_dim // 2 : center_y + y_dim // 2,\n",
    "                        center_x - x_dim // 2 : center_x + x_dim // 2,\n",
    "                    ]\n",
    "                ).astype(np.float32)\n",
    "            else:\n",
    "                inklabel = np.ones(self.voxel_shape, dtype=np.float32)*-1\n",
    "\n",
    "        # if self.load_inklabels:\n",
    "        #     inklabel = self.labels[fragment_id]\n",
    "        # else:\n",
    "        #     inklabel = -1.0\n",
    "\n",
    "        return torch.from_numpy(subvolume).unsqueeze(0), torch.FloatTensor(inklabel)\n",
    "\n",
    "    def plot_label(self, index, **kwargs):\n",
    "        pixel = self.pixels[index]\n",
    "        label = self.labels[pixel[-1]]\n",
    "\n",
    "        print(\"Index:\", index)\n",
    "        print(\"Pixel:\", pixel)\n",
    "        print(\"Label:\", int(label[pixel[0], pixel[1]]))\n",
    "\n",
    "        if isinstance(label, torch.Tensor):\n",
    "            label = label.numpy()\n",
    "\n",
    "        fig, ax = plt.subplots(**kwargs)\n",
    "        ax.imshow(label, cmap=\"gray\")\n",
    "\n",
    "        y, x, _ = pixel\n",
    "        _, y_dim, x_dim = self.voxel_shape\n",
    "        x_min = x - (x_dim // 2)\n",
    "        x_max = x + (x_dim // 2)\n",
    "        y_min = y - (y_dim // 2)\n",
    "        y_max = y + (y_dim // 2)\n",
    "\n",
    "        rect = plt.Rectangle(\n",
    "            (x_min, y_min), x_dim, y_dim, linewidth=2, edgecolor=\"y\", facecolor=\"none\"\n",
    "        )\n",
    "        ax.add_patch(rect)\n",
    "        plt.show()"
   ],
   "metadata": {
    "collapsed": false,
    "pycharm": {
     "name": "#%%\n"
    }
   }
  },
  {
   "cell_type": "code",
   "execution_count": 100,
   "outputs": [
    {
     "name": "stdout",
     "output_type": "stream",
     "text": [
      "All fragments: ['1', '2', '3']\n"
     ]
    },
    {
     "data": {
      "text/plain": "[WindowsPath('../../Datasets/vesuvius-challenge-ink-detection/train/1')]"
     },
     "execution_count": 100,
     "metadata": {},
     "output_type": "execute_result"
    }
   ],
   "source": [
    "base_path = Path(\"../../Datasets/vesuvius-challenge-ink-detection/\")\n",
    "train_path = base_path / \"train\"\n",
    "all_fragments = sorted([f.name for f in train_path.iterdir()])\n",
    "print(\"All fragments:\", all_fragments)\n",
    "# Due to limited memory on Kaggle, we can only load 1 full fragment\n",
    "train_fragments = [train_path / fragment_name for fragment_name in [\"1\"]]\n",
    "train_fragments"
   ],
   "metadata": {
    "collapsed": false,
    "pycharm": {
     "name": "#%%\n"
    }
   }
  },
  {
   "cell_type": "code",
   "execution_count": 101,
   "outputs": [
    {
     "name": "stdout",
     "output_type": "stream",
     "text": [
      "Loaded fragment D:\\MSc - Birmingham\\MSc Project\\Datasets\\vesuvius-challenge-ink-detection\\train\\1 on 31300\n",
      "Num items (pixels) 25957496\n",
      "Wall time: 15.8 s\n"
     ]
    }
   ],
   "source": [
    "%%time\n",
    "train_dset = SubvolumeDataset(fragments=train_fragments, voxel_shape=(48, 1024, 1024), filter_edge_pixels=True)\n",
    "print(\"Num items (pixels)\", len(train_dset))"
   ],
   "metadata": {
    "collapsed": false,
    "pycharm": {
     "name": "#%%\n"
    }
   }
  },
  {
   "cell_type": "code",
   "execution_count": 102,
   "outputs": [
    {
     "name": "stdout",
     "output_type": "stream",
     "text": [
      "Index: 20\n",
      "Pixel: [ 512 2787    0]\n",
      "Label: 0\n"
     ]
    },
    {
     "data": {
      "text/plain": "<Figure size 1600x1000 with 1 Axes>",
      "image/png": "[encoded data removed]"
     },
     "metadata": {},
     "output_type": "display_data"
    }
   ],
   "source": [
    "idx = 20\n",
    "train_dset.plot_label(idx, figsize=(16, 10))"
   ],
   "metadata": {
    "collapsed": false,
    "pycharm": {
     "name": "#%%\n"
    }
   }
  },
  {
   "cell_type": "code",
   "execution_count": 103,
   "outputs": [
    {
     "name": "stdout",
     "output_type": "stream",
     "text": [
      "Volume shape: torch.Size([1, 48, 1024, 1024])\n",
      "Segment shape: torch.Size([1024, 1024])\n"
     ]
    }
   ],
   "source": [
    "# Get an item from the dataset\n",
    "volume, label = train_dset[idx]\n",
    "\n",
    "# Print the shapes\n",
    "print(\"Volume shape:\", volume.shape)\n",
    "print(\"Segment shape:\", label.shape)"
   ],
   "metadata": {
    "collapsed": false,
    "pycharm": {
     "name": "#%%\n"
    }
   }
  },
  {
   "cell_type": "code",
   "execution_count": 104,
   "outputs": [
    {
     "data": {
      "text/plain": "<Figure size 640x480 with 1 Axes>",
      "image/png": "[encoded data removed]"
     },
     "metadata": {},
     "output_type": "display_data"
    }
   ],
   "source": [
    "plt.imshow(label, cmap=\"gray\") #last [] is the layer\n",
    "plt.axis(\"off\")\n",
    "plt.show()"
   ],
   "metadata": {
    "collapsed": false,
    "pycharm": {
     "name": "#%%\n"
    }
   }
  },
  {
   "cell_type": "code",
   "execution_count": 110,
   "outputs": [],
   "source": [
    "# class FragmentDataset(Dataset):\n",
    "#     def __init__(self, volume_paths, seg_paths, mask_paths, transform=None):\n",
    "#         self.volume_paths = volume_paths\n",
    "#         self.seg_paths = seg_paths\n",
    "#         self.mask_paths = mask_paths\n",
    "#         self.transform = transform\n",
    "#\n",
    "#     def __len__(self):\n",
    "#         return len(self.volume_paths)\n",
    "#\n",
    "#     def __getitem__(self, idx):\n",
    "#         volume_path = self.volume_paths[idx]\n",
    "#         seg_path = self.seg_paths[idx]\n",
    "#         mask_path = self.mask_paths[idx]\n",
    "#\n",
    "#         image_paths = [os.path.join(volume_path, file) for file in os.listdir(volume_path) if file.endswith('.tif')]\n",
    "#\n",
    "#         volume = []\n",
    "#\n",
    "#         seed = np.random.randint(2147483647) # make a seed with numpy generator\n",
    "#\n",
    "#         for image_path in image_paths:\n",
    "#             image = Image.open(image_path)\n",
    "#             if self.transform is not None:\n",
    "#\n",
    "#                 random.seed(seed)\n",
    "#                 torch.manual_seed(seed)\n",
    "#\n",
    "#                 image = self.transform(image)\n",
    "#             image_array = np.array(image)\n",
    "#             volume.append(image_array)\n",
    "#\n",
    "#         volume = np.stack(volume)\n",
    "#\n",
    "#         volume = torch.from_numpy(volume.reshape(volume.shape[0],volume.shape[2],volume.shape[3]))\n",
    "#\n",
    "#\n",
    "#\n",
    "#         seg = np.array(Image.open(seg_path))\n",
    "#         if self.transform is not None:\n",
    "#\n",
    "#             random.seed(seed)\n",
    "#             torch.manual_seed(seed)\n",
    "#\n",
    "#             seg = self.transform(seg)\n",
    "#\n",
    "#         mask = np.array(Image.open(mask_path))\n",
    "#         if self.transform is not None:\n",
    "#\n",
    "#             random.seed(seed)\n",
    "#             torch.manual_seed(seed)\n",
    "#\n",
    "#             mask = self.transform(mask)\n",
    "#\n",
    "#\n",
    "#         return volume ,seg, mask"
   ],
   "metadata": {
    "collapsed": false,
    "pycharm": {
     "name": "#%%\n"
    }
   }
  },
  {
   "cell_type": "code",
   "execution_count": 105,
   "outputs": [],
   "source": [
    "# transform = transforms.Compose([\n",
    "#     transforms.ToTensor(),\n",
    "#     transforms.RandomCrop(70),\n",
    "#     transforms.RandomHorizontalFlip(),\n",
    "#     transforms.RandomVerticalFlip(),\n",
    "# ])\n",
    "#\n",
    "# # Create an instance of the FragmentDataset with the transformations\n",
    "# frag_data = FragmentDataset(volume_paths, seg_paths, mask_paths, transform=transform)"
   ],
   "metadata": {
    "collapsed": false,
    "pycharm": {
     "name": "#%%\n"
    }
   }
  },
  {
   "cell_type": "code",
   "execution_count": 106,
   "outputs": [],
   "source": [
    "# # Get an item from the dataset\n",
    "# idx = 0\n",
    "# volume, seg, mask = frag_data[idx]\n",
    "#\n",
    "# # Print the shapes\n",
    "# print(\"Volume shape:\", volume.shape)\n",
    "# print(\"Segment shape:\", seg.shape)\n",
    "# print(\"Mask shape:\", mask.shape)"
   ],
   "metadata": {
    "collapsed": false,
    "pycharm": {
     "name": "#%%\n"
    }
   }
  },
  {
   "cell_type": "code",
   "execution_count": 107,
   "outputs": [],
   "source": [
    "# plt.imshow(volume[0], cmap=\"gray\") #last [] is the layer\n",
    "# plt.axis(\"off\")\n",
    "# plt.show()"
   ],
   "metadata": {
    "collapsed": false,
    "pycharm": {
     "name": "#%%\n"
    }
   }
  },
  {
   "cell_type": "code",
   "execution_count": 108,
   "outputs": [],
   "source": [
    "# plt.imshow(seg[0], cmap=\"gray\")\n",
    "# plt.axis(\"off\")\n",
    "# plt.show()"
   ],
   "metadata": {
    "collapsed": false,
    "pycharm": {
     "name": "#%%\n"
    }
   }
  },
  {
   "cell_type": "code",
   "execution_count": 109,
   "outputs": [],
   "source": [
    "# plt.imshow(mask[0], cmap=\"gray\")\n",
    "# plt.axis(\"off\")\n",
    "# plt.show()"
   ],
   "metadata": {
    "collapsed": false,
    "pycharm": {
     "name": "#%%\n"
    }
   }
  },
  {
   "cell_type": "code",
   "execution_count": 69,
   "outputs": [],
   "source": [
    "# #Simple UNet Model without skip connections\n",
    "#\n",
    "# class UNetWithoutSkipConnections(nn.Module):\n",
    "#     def __init__(self, in_channels, out_channels):\n",
    "#         super(UNetWithoutSkipConnections, self).__init__()\n",
    "#\n",
    "#         # Encoder\n",
    "#         self.encoder = nn.Sequential(\n",
    "#             nn.Conv2d(in_channels, 16, kernel_size=3, stride=1),  # 68x68x16\n",
    "#             nn.ReLU(),\n",
    "#             nn.MaxPool2d(kernel_size=2, stride=2),  # 34x34x16\n",
    "#\n",
    "#             nn.Conv2d(16, 32, kernel_size=3, stride=1),  # 32x32x32\n",
    "#             nn.ReLU(),\n",
    "#             nn.MaxPool2d(kernel_size=2, stride=2),  # 16x16x32\n",
    "#\n",
    "#             nn.Conv2d(32, 64, kernel_size=3, stride=1, padding=1),  # 16x16x64\n",
    "#             nn.ReLU(),\n",
    "#             nn.MaxPool2d(kernel_size=2, stride=2),  # 8x8x64\n",
    "#\n",
    "#             nn.Conv2d(64, 128, kernel_size=3, stride=1, padding=1),  # 8x8x128\n",
    "#             nn.ReLU(),\n",
    "#             nn.MaxPool2d(kernel_size=2, stride=2)  # 4x4x128\n",
    "#         )\n",
    "#\n",
    "#         # Decoder\n",
    "#         self.decoder = nn.Sequential(\n",
    "#             nn.ConvTranspose2d(128, 64, kernel_size=3, stride=2),\n",
    "#             nn.ReLU(),\n",
    "#             nn.ConvTranspose2d(64, 32, kernel_size=3, stride=2),\n",
    "#             nn.ReLU(),\n",
    "#             nn.ConvTranspose2d(32, 16, kernel_size=3, stride=2, padding=1),\n",
    "#             nn.ReLU(),\n",
    "#             nn.ConvTranspose2d(16, out_channels, kernel_size=2, stride=2, padding=2),\n",
    "#             nn.Sigmoid()\n",
    "#         )\n",
    "#\n",
    "#     def forward(self, x):\n",
    "#         x = self.encoder(x)\n",
    "#         x = self.decoder(x)\n",
    "#         return x"
   ],
   "metadata": {
    "collapsed": false,
    "pycharm": {
     "name": "#%%\n"
    }
   }
  },
  {
   "cell_type": "code",
   "execution_count": null,
   "outputs": [],
   "source": [],
   "metadata": {
    "collapsed": false,
    "pycharm": {
     "name": "#%%\n"
    }
   }
  },
  {
   "cell_type": "code",
   "execution_count": 70,
   "outputs": [],
   "source": [
    "train_data = FragmentDataset(volume_paths, seg_paths, mask_paths, transform=transform)\n",
    "val_data = FragmentDataset(volume_paths, seg_paths, mask_paths, transform=transform)\n",
    "test_data = FragmentDataset(volume_paths, seg_paths, mask_paths, transform=transform)"
   ],
   "metadata": {
    "collapsed": false,
    "pycharm": {
     "name": "#%%\n"
    }
   }
  },
  {
   "cell_type": "code",
   "execution_count": 71,
   "outputs": [
    {
     "name": "stdout",
     "output_type": "stream",
     "text": [
      "Epoch 0 Processing Batch No: 1\n",
      "Epoch [1/10], Train Loss: 14.2791, Test Loss: 7.7336\n",
      "Epoch 1 Processing Batch No: 1\n",
      "Epoch [2/10], Train Loss: 14.8593, Test Loss: 0.5932\n",
      "Epoch 2 Processing Batch No: 1\n",
      "Epoch [3/10], Train Loss: 2.1058, Test Loss: 0.8172\n",
      "Epoch 3 Processing Batch No: 1\n",
      "Epoch [4/10], Train Loss: 0.7158, Test Loss: 0.5526\n",
      "Epoch 4 Processing Batch No: 1\n",
      "Epoch [5/10], Train Loss: 0.5553, Test Loss: 0.4154\n",
      "Epoch 5 Processing Batch No: 1\n",
      "Epoch [6/10], Train Loss: 0.4979, Test Loss: 0.4761\n",
      "Epoch 6 Processing Batch No: 1\n",
      "Epoch [7/10], Train Loss: 0.4807, Test Loss: 0.3390\n",
      "Epoch 7 Processing Batch No: 1\n",
      "Epoch [8/10], Train Loss: 0.4657, Test Loss: 0.4349\n",
      "Epoch 8 Processing Batch No: 1\n",
      "Epoch [9/10], Train Loss: 0.3088, Test Loss: 0.4263\n",
      "Epoch 9 Processing Batch No: 1\n",
      "Epoch [10/10], Train Loss: 0.4381, Test Loss: 0.2393\n"
     ]
    },
    {
     "data": {
      "text/plain": "<Figure size 640x480 with 1 Axes>",
      "image/png": "[encoded data removed]"
     },
     "metadata": {},
     "output_type": "display_data"
    }
   ],
   "source": [
    "model = UNetWithoutSkipConnections(in_channels=65, out_channels=1)\n",
    "model = model.to(device)\n",
    "\n",
    "criterion = nn.BCELoss()  # Binary Cross-Entropy Loss\n",
    "optimizer = optim.Adam(model.parameters(), lr=0.001)\n",
    "\n",
    "num_epochs = 10\n",
    "batch_size = 128\n",
    "\n",
    "best_test_loss = float('inf')\n",
    "\n",
    "train_loader = DataLoader(frag_data, batch_size=batch_size, shuffle=True)\n",
    "val_loader = DataLoader(val_data, batch_size=batch_size, shuffle=True)\n",
    "\n",
    "train_losses = []\n",
    "test_losses = []\n",
    "\n",
    "for epoch in range(num_epochs):\n",
    "    train_loss = 0.0\n",
    "    test_loss = 0.0\n",
    "\n",
    "    # Training\n",
    "    model.train()\n",
    "\n",
    "    batch_no = 1\n",
    "\n",
    "    for batch in train_loader:\n",
    "\n",
    "        print('Epoch',epoch,'Processing Batch No:', batch_no)\n",
    "\n",
    "        images, labels, masks = batch[0].to(device), batch[1].to(device),batch[2].to(device)\n",
    "\n",
    "        # Forward pass\n",
    "        reconstructions = model(images)\n",
    "        loss = criterion(reconstructions, labels.float())\n",
    "\n",
    "        # Backward pass and optimization\n",
    "        optimizer.zero_grad()\n",
    "        loss.backward()\n",
    "        optimizer.step()\n",
    "\n",
    "        train_loss += loss.item() * images.size(0)\n",
    "\n",
    "        batch_no = batch_no + 1\n",
    "\n",
    "    train_loss /= len(train_loader.dataset)\n",
    "    train_losses.append(train_loss)\n",
    "\n",
    "    # Evaluation\n",
    "    model.eval()\n",
    "    with torch.no_grad():\n",
    "        for batch in val_loader:\n",
    "            images, labels, masks = batch[0].to(device), batch[1].to(device),batch[2].to(device)\n",
    "\n",
    "            # Forward pass\n",
    "            reconstructions = model(images)\n",
    "            loss = criterion(reconstructions, labels.float())\n",
    "\n",
    "            test_loss += loss.item() * images.size(0)\n",
    "\n",
    "        test_loss /= len(val_loader.dataset)\n",
    "        test_losses.append(test_loss)\n",
    "\n",
    "        # Check if current model has the lowest test loss so far\n",
    "        if test_loss < best_test_loss:\n",
    "            best_test_loss = test_loss\n",
    "            best_model_state = model.state_dict().copy()\n",
    "\n",
    "    print(f\"Epoch [{epoch+1}/{num_epochs}], Train Loss: {train_loss:.4f}, Test Loss: {test_loss:.4f}\")\n",
    "\n",
    "# Plotting train and test loss\n",
    "plt.plot(range(1, num_epochs+1), train_losses, label='Train Loss')\n",
    "plt.plot(range(1, num_epochs+1), test_losses, label='Validation Loss')\n",
    "plt.xlabel('Epoch')\n",
    "plt.ylabel('Loss')\n",
    "plt.legend()\n",
    "plt.show()\n",
    "\n",
    "# Load the best model state (lowest test loss)\n",
    "model.load_state_dict(best_model_state)\n",
    "torch.save(model, '../models/ink_detection_simple_u_net_middle_layer_epoch_'+str(num_epochs)+'_batch_'+str(batch_size)+'.pt')"
   ],
   "metadata": {
    "collapsed": false,
    "pycharm": {
     "name": "#%%\n"
    }
   }
  },
  {
   "cell_type": "code",
   "execution_count": 80,
   "outputs": [],
   "source": [
    "test_loader = DataLoader(test_data, batch_size=60, shuffle=True)"
   ],
   "metadata": {
    "collapsed": false,
    "pycharm": {
     "name": "#%%\n"
    }
   }
  },
  {
   "cell_type": "code",
   "execution_count": 81,
   "outputs": [],
   "source": [
    "model = torch.load('../models/ink_detection_simple_u_net_middle_layer_epoch_10_batch_128.pt')\n",
    "\n",
    "model.eval()  # Set the model to evaluation mode\n",
    "\n",
    "results_test = []\n",
    "\n",
    "with torch.no_grad():\n",
    "    for data in test_loader:\n",
    "        # Move the batch to the GPU if available\n",
    "        vol = data[0].to(device).to(torch.float32) if torch.cuda.is_available() else data[0].to(torch.float32)\n",
    "\n",
    "        # Perform inference\n",
    "        outputs = model(vol)\n",
    "        results_test.append(outputs)"
   ],
   "metadata": {
    "collapsed": false,
    "pycharm": {
     "name": "#%%\n"
    }
   }
  },
  {
   "cell_type": "code",
   "execution_count": 82,
   "outputs": [
    {
     "data": {
      "text/plain": "<Figure size 640x480 with 1 Axes>",
      "image/png": "[encoded data removed]"
     },
     "metadata": {},
     "output_type": "display_data"
    }
   ],
   "source": [
    "outputs_np = []\n",
    "for result in results_test:\n",
    "    # Convert the PyTorch tensor to a NumPy array\n",
    "    outputs_np.append(result.cpu().numpy())\n",
    "\n",
    "# Iterate over the outputs\n",
    "for i in range(len(outputs_np)):\n",
    "    output = outputs_np[i][0][0]\n",
    "\n",
    "    # Display the output as an image\n",
    "    plt.imshow(output, cmap='gray')  # Assuming grayscale images\n",
    "    plt.axis('off')\n",
    "    plt.show()"
   ],
   "metadata": {
    "collapsed": false,
    "pycharm": {
     "name": "#%%\n"
    }
   }
  },
  {
   "cell_type": "code",
   "execution_count": null,
   "outputs": [],
   "source": [],
   "metadata": {
    "collapsed": false,
    "pycharm": {
     "name": "#%%\n"
    }
   }
  }
 ],
 "metadata": {
  "kernelspec": {
   "display_name": "Python 3",
   "language": "python",
   "name": "python3"
  },
  "language_info": {
   "codemirror_mode": {
    "name": "ipython",
    "version": 2
   },
   "file_extension": ".py",
   "mimetype": "text/x-python",
   "name": "python",
   "nbconvert_exporter": "python",
   "pygments_lexer": "ipython2",
   "version": "2.7.6"
  }
 },
 "nbformat": 4,
 "nbformat_minor": 0
}