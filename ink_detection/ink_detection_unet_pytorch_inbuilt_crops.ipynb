{
 "cells": [
  {
   "cell_type": "code",
   "execution_count": 1,
   "metadata": {
    "collapsed": true
   },
   "outputs": [],
   "source": [
    "import numpy as np\n",
    "import matplotlib.pyplot as plt\n",
    "import copy\n",
    "import os\n",
    "\n",
    "from ink_detection_utils import load_dataset\n",
    "from ink_detection_utils import get_crop_numer_list\n",
    "from ink_detection_utils import stitch_crops\n",
    "from ink_detection_utils import load_volumes\n",
    "\n",
    "from PIL import Image\n",
    "from typing import Dict, List, Optional, Tuple\n",
    "from pathlib import Path\n",
    "from collections import OrderedDict\n",
    "\n",
    "%matplotlib inline\n",
    "\n",
    "%load_ext autoreload\n",
    "%autoreload 2"
   ]
  },
  {
   "cell_type": "code",
   "execution_count": 2,
   "outputs": [],
   "source": [
    "#UNet Implementation\n",
    "\n",
    "import torch\n",
    "import torch.nn as nn\n",
    "import torch.optim as optim\n",
    "import torch.nn.functional as func\n",
    "\n",
    "import random\n",
    "\n",
    "from torch.utils.data import DataLoader, Dataset, Subset\n",
    "from torchvision import transforms"
   ],
   "metadata": {
    "collapsed": false,
    "pycharm": {
     "name": "#%%\n"
    }
   }
  },
  {
   "cell_type": "code",
   "execution_count": 3,
   "outputs": [],
   "source": [
    "# test_img_1 = '../../Datasets/vesuvius-challenge-ink-detection/train/1/inkLabels.png'\n",
    "# test_img_2 = '../../Datasets/vesuvius-challenge-ink-detection/train/1/ir.png'\n",
    "#\n",
    "# image_1 = Image.open(test_img_1)\n",
    "# image_2 = Image.open(test_img_2)"
   ],
   "metadata": {
    "collapsed": false,
    "pycharm": {
     "name": "#%%\n"
    }
   }
  },
  {
   "cell_type": "code",
   "execution_count": 4,
   "outputs": [],
   "source": [
    "# transform = transforms.Compose([\n",
    "#     transforms.RandomCrop(4000),\n",
    "#     transforms.RandomHorizontalFlip(),\n",
    "#     transforms.RandomVerticalFlip(),\n",
    "# ])"
   ],
   "metadata": {
    "collapsed": false,
    "pycharm": {
     "name": "#%%\n"
    }
   }
  },
  {
   "cell_type": "code",
   "execution_count": 5,
   "outputs": [],
   "source": [
    "# seed = np.random.randint(2147483647) # make a seed with numpy generator\n",
    "# random.seed(seed) # apply this seed to img tranfsorms\n",
    "# torch.manual_seed(seed) # needed for torchvision 0.7\n",
    "#\n",
    "# transformed_image_1 = transform(image_1)"
   ],
   "metadata": {
    "collapsed": false,
    "pycharm": {
     "name": "#%%\n"
    }
   }
  },
  {
   "cell_type": "code",
   "execution_count": 6,
   "outputs": [],
   "source": [
    "# random.seed(seed) # apply this seed to target tranfsorms\n",
    "# torch.manual_seed(seed) # needed for torchvision 0.7\n",
    "#\n",
    "# transformed_image_2 = transform(image_2)"
   ],
   "metadata": {
    "collapsed": false,
    "pycharm": {
     "name": "#%%\n"
    }
   }
  },
  {
   "cell_type": "code",
   "execution_count": 7,
   "outputs": [],
   "source": [
    "# plt.imshow(transformed_image_1, cmap=\"gray\") #last [] is the layer\n",
    "# plt.axis(\"off\")\n",
    "# plt.show()"
   ],
   "metadata": {
    "collapsed": false,
    "pycharm": {
     "name": "#%%\n"
    }
   }
  },
  {
   "cell_type": "code",
   "execution_count": 8,
   "outputs": [],
   "source": [
    "# plt.imshow(transformed_image_2, cmap=\"gray\") #last [] is the layer\n",
    "# plt.axis(\"off\")\n",
    "# plt.show()"
   ],
   "metadata": {
    "collapsed": false,
    "pycharm": {
     "name": "#%%\n"
    }
   }
  },
  {
   "cell_type": "code",
   "execution_count": 9,
   "outputs": [],
   "source": [
    "VESUVIUS_DATA_PATH = '../../Datasets/vesuvius-challenge-ink-detection/train/'"
   ],
   "metadata": {
    "collapsed": false,
    "pycharm": {
     "name": "#%%\n"
    }
   }
  },
  {
   "cell_type": "code",
   "execution_count": 16,
   "outputs": [],
   "source": [
    "volume_paths = [VESUVIUS_DATA_PATH+'1/surface_volume/',VESUVIUS_DATA_PATH+'2/surface_volume/',VESUVIUS_DATA_PATH+'3/surface_volume/']\n",
    "seg_paths = [VESUVIUS_DATA_PATH+'1/inkLabels.png',VESUVIUS_DATA_PATH+'2/inkLabels.png',VESUVIUS_DATA_PATH+'3/inkLabels.png']\n",
    "mask_paths = [VESUVIUS_DATA_PATH+'1/mask.png',VESUVIUS_DATA_PATH+'2/mask.png',VESUVIUS_DATA_PATH+'3/mask.png']\n",
    "\n",
    "voxel_size = (2, 1024, 1024)"
   ],
   "metadata": {
    "collapsed": false,
    "pycharm": {
     "name": "#%%\n"
    }
   }
  },
  {
   "cell_type": "code",
   "execution_count": 17,
   "outputs": [],
   "source": [
    "class FragmentDataset(Dataset):\n",
    "    def __init__(self, fragments: List[Path], voxel_shape: Tuple[int, int, int],load_inklabels: bool = True,filter_edge_pixels: bool = False,):\n",
    "\n",
    "        self.fragments = sorted(map(lambda path: path.resolve(), fragments))\n",
    "        self.voxel_shape = voxel_shape\n",
    "        self.load_inklabels = load_inklabels\n",
    "        self.filter_edge_pixels = filter_edge_pixels\n",
    "\n",
    "        # Load sequentially\n",
    "        labels = []\n",
    "        image_stacks = []\n",
    "        valid_pixels = []\n",
    "        for fragment_id, fragment_path in enumerate(self.fragments):\n",
    "            fragment_path = fragment_path.resolve()  # absolute path\n",
    "            mask = np.array(Image.open(str(fragment_path / \"mask.png\")).convert(\"1\"))\n",
    "\n",
    "            surface_volume_paths = sorted(\n",
    "                (fragment_path / \"surface_volume\").rglob(\"*.tif\")\n",
    "            )\n",
    "            z_dim, y_dim, x_dim = voxel_shape\n",
    "\n",
    "            z_mid = len(surface_volume_paths) // 2\n",
    "            z_start, z_end = z_mid - z_dim // 2, z_mid + z_dim // 2\n",
    "\n",
    "            # we don't convert to torch since it doesn't support uint16\n",
    "            images = [\n",
    "                np.array(Image.open(fn)) for fn in surface_volume_paths[z_start:z_end]\n",
    "            ]\n",
    "            image_stack = np.stack(images, axis=0)\n",
    "            image_stacks.append(image_stack)\n",
    "\n",
    "            pixels = np.stack(np.where(mask == 1), axis=1).astype(np.uint16)\n",
    "            if filter_edge_pixels:\n",
    "                height, width = mask.shape\n",
    "                mask_y = np.logical_or(\n",
    "                    pixels[:, 0] < y_dim // 2, pixels[:, 0] >= height - y_dim // 2\n",
    "                )\n",
    "                mask_x = np.logical_or(\n",
    "                    pixels[:, 1] < x_dim // 2, pixels[:, 1] >= width - x_dim // 2\n",
    "                )\n",
    "                pixel_mask = np.logical_or(mask_y, mask_x)\n",
    "                pixels = pixels[~pixel_mask]\n",
    "            # encode fragment ID\n",
    "            fragment_ids = np.full_like(pixels[:, 0:1], fragment_id)\n",
    "            pixels = np.concatenate((pixels, fragment_ids), axis=1)\n",
    "            valid_pixels.append(pixels)\n",
    "\n",
    "            if load_inklabels:\n",
    "                # binary mask can be stored as np.bool\n",
    "                inklabels = np.array(Image.open(str(fragment_path / \"inklabels.png\")))\n",
    "                labels.append(inklabels)\n",
    "\n",
    "            print(f\"Loaded fragment {fragment_path} on {os.getpid()}\")\n",
    "\n",
    "        self.labels = labels\n",
    "        self.image_stacks = image_stacks\n",
    "        self.pixels = np.concatenate(valid_pixels).reshape(\n",
    "            -1, valid_pixels[0].shape[-1]\n",
    "        )\n",
    "\n",
    "    def __len__(self):\n",
    "        return len(self.pixels)\n",
    "\n",
    "    def __getitem__(self, index):\n",
    "        center_y, center_x, fragment_id = self.pixels[index]\n",
    "        z_dim, y_dim, x_dim = self.voxel_shape\n",
    "        image_stack = self.image_stacks[fragment_id]\n",
    "        _, height, width = image_stack.shape\n",
    "        labels = self.labels[fragment_id]\n",
    "\n",
    "        # pad with zeros if necessary\n",
    "        if (\n",
    "            center_y < y_dim // 2\n",
    "            or center_x < x_dim // 2\n",
    "            or center_y + y_dim // 2 >= height\n",
    "            or center_x + x_dim // 2 >= width\n",
    "        ):\n",
    "            # calculate the upper-left corner of the sub-volume\n",
    "            y_start = max(center_y - y_dim // 2, 0)\n",
    "            x_start = max(center_x - x_dim // 2, 0)\n",
    "\n",
    "            # calculate the lower-right corner of the sub-volume\n",
    "            y_end = min(center_y + y_dim // 2, height)\n",
    "            x_end = min(center_x + x_dim // 2, width)\n",
    "\n",
    "            subvolume = np.zeros(self.voxel_shape, dtype=np.float32)\n",
    "            inklabel = np.zeros(self.voxel_shape, dtype=np.float32)\n",
    "\n",
    "            pad_y_start = max(y_dim // 2 - center_y, 0)\n",
    "            pad_x_start = max(x_dim // 2 - center_x, 0)\n",
    "\n",
    "            pad_y_end = min(height + y_dim // 2 - center_y, y_dim)\n",
    "            pad_x_end = min(width + x_dim // 2 - center_x, x_dim)\n",
    "\n",
    "            subvolume[:, pad_y_start:pad_y_end, pad_x_start:pad_x_end] = (\n",
    "                image_stack[:, y_start:y_end, x_start:x_end].astype(np.float32) / 65535\n",
    "            )\n",
    "\n",
    "            if self.load_inklabels:\n",
    "                inklabel[:, pad_y_start:pad_y_end, pad_x_start:pad_x_end] = (\n",
    "                    labels[y_start:y_end, x_start:x_end].astype(np.float32)\n",
    "                )\n",
    "            else:\n",
    "                inklabel = np.ones(self.voxel_shape, dtype=np.float32)*-1\n",
    "\n",
    "        else:\n",
    "            subvolume = (\n",
    "                image_stack[\n",
    "                    :,\n",
    "                    center_y - y_dim // 2 : center_y + y_dim // 2,\n",
    "                    center_x - x_dim // 2 : center_x + x_dim // 2,\n",
    "                ]\n",
    "            ).astype(np.float32) / 65535\n",
    "\n",
    "            if self.load_inklabels:\n",
    "                inklabel = (\n",
    "                    labels[\n",
    "                        center_y - y_dim // 2 : center_y + y_dim // 2,\n",
    "                        center_x - x_dim // 2 : center_x + x_dim // 2,\n",
    "                    ]\n",
    "                ).astype(np.float32)\n",
    "            else:\n",
    "                inklabel = np.ones(self.voxel_shape, dtype=np.float32)*-1\n",
    "\n",
    "\n",
    "        return torch.from_numpy(subvolume), torch.FloatTensor(inklabel).unsqueeze(0)\n",
    "\n",
    "    def plot_label(self, index, **kwargs):\n",
    "        pixel = self.pixels[index]\n",
    "        label = self.labels[pixel[-1]]\n",
    "\n",
    "        print(\"Index:\", index)\n",
    "        print(\"Pixel:\", pixel)\n",
    "\n",
    "        if isinstance(label, torch.Tensor):\n",
    "            label = label.numpy()\n",
    "\n",
    "        fig, ax = plt.subplots(**kwargs)\n",
    "        ax.imshow(label, cmap=\"gray\")\n",
    "\n",
    "        y, x, _ = pixel\n",
    "        _, y_dim, x_dim = self.voxel_shape\n",
    "        x_min = x - (x_dim // 2)\n",
    "        x_max = x + (x_dim // 2)\n",
    "        y_min = y - (y_dim // 2)\n",
    "        y_max = y + (y_dim // 2)\n",
    "\n",
    "        rect = plt.Rectangle(\n",
    "            (x_min, y_min), x_dim, y_dim, linewidth=2, edgecolor=\"y\", facecolor=\"none\"\n",
    "        )\n",
    "        ax.add_patch(rect)\n",
    "        plt.show()"
   ],
   "metadata": {
    "collapsed": false,
    "pycharm": {
     "name": "#%%\n"
    }
   }
  },
  {
   "cell_type": "code",
   "execution_count": 18,
   "outputs": [
    {
     "name": "stdout",
     "output_type": "stream",
     "text": [
      "All fragments: ['1', '2', '3', '4']\n"
     ]
    },
    {
     "data": {
      "text/plain": "[WindowsPath('../../Datasets/vesuvius-challenge-ink-detection/train/1')]"
     },
     "execution_count": 18,
     "metadata": {},
     "output_type": "execute_result"
    }
   ],
   "source": [
    "base_path = Path(\"../../Datasets/vesuvius-challenge-ink-detection/\")\n",
    "train_path = base_path / \"train\"\n",
    "all_fragments = sorted([f.name for f in train_path.iterdir()])\n",
    "print(\"All fragments:\", all_fragments)\n",
    "# Due to limited memory on Kaggle, we can only load 1 full fragment\n",
    "train_fragments = [train_path / fragment_name for fragment_name in ['1']]\n",
    "train_fragments"
   ],
   "metadata": {
    "collapsed": false,
    "pycharm": {
     "name": "#%%\n"
    }
   }
  },
  {
   "cell_type": "code",
   "execution_count": 19,
   "outputs": [
    {
     "name": "stdout",
     "output_type": "stream",
     "text": [
      "Loaded fragment D:\\MSc - Birmingham\\MSc Project\\Datasets\\vesuvius-challenge-ink-detection\\train\\1 on 37656\n",
      "Num items (pixels) 25957496\n",
      "Wall time: 2.69 s\n"
     ]
    }
   ],
   "source": [
    "%%time\n",
    "train_dset = FragmentDataset(fragments=train_fragments, voxel_shape=voxel_size, filter_edge_pixels=True)\n",
    "print(\"Num items (pixels)\", len(train_dset))"
   ],
   "metadata": {
    "collapsed": false,
    "pycharm": {
     "name": "#%%\n"
    }
   }
  },
  {
   "cell_type": "code",
   "execution_count": 24,
   "outputs": [
    {
     "name": "stdout",
     "output_type": "stream",
     "text": [
      "Index: 13432800\n",
      "Pixel: [3959 1571    0]\n"
     ]
    },
    {
     "data": {
      "text/plain": "<Figure size 1600x1000 with 1 Axes>",
      "image/png": "[encoded data removed]"
     },
     "metadata": {},
     "output_type": "display_data"
    }
   ],
   "source": [
    "idx = int(28208880/2.1)\n",
    "train_dset.plot_label(idx, figsize=(16, 10))"
   ],
   "metadata": {
    "collapsed": false,
    "pycharm": {
     "name": "#%%\n"
    }
   }
  },
  {
   "cell_type": "code",
   "execution_count": 176,
   "outputs": [
    {
     "name": "stdout",
     "output_type": "stream",
     "text": [
      "Volume shape: torch.Size([24, 512, 512])\n",
      "Segment shape: torch.Size([1, 512, 512])\n"
     ]
    }
   ],
   "source": [
    "# Get an item from the dataset\n",
    "volume, label = train_dset[idx]\n",
    "\n",
    "# Print the shapes\n",
    "print(\"Volume shape:\", volume.shape)\n",
    "print(\"Segment shape:\", label.shape)"
   ],
   "metadata": {
    "collapsed": false,
    "pycharm": {
     "name": "#%%\n"
    }
   }
  },
  {
   "cell_type": "code",
   "execution_count": 177,
   "outputs": [
    {
     "data": {
      "text/plain": "tensor([[0.6743, 0.6939, 0.7021,  ..., 0.1436, 0.1329, 0.1280],\n        [0.5255, 0.5349, 0.5245,  ..., 0.3035, 0.3037, 0.3034],\n        [0.3625, 0.3479, 0.3627,  ..., 0.4517, 0.4608, 0.4517],\n        ...,\n        [0.6082, 0.5892, 0.5671,  ..., 0.5454, 0.4937, 0.4494],\n        [0.6047, 0.6090, 0.6061,  ..., 0.4876, 0.4505, 0.4309],\n        [0.6461, 0.6442, 0.6517,  ..., 0.4798, 0.4602, 0.4420]])"
     },
     "execution_count": 177,
     "metadata": {},
     "output_type": "execute_result"
    }
   ],
   "source": [
    "volume[0]"
   ],
   "metadata": {
    "collapsed": false,
    "pycharm": {
     "name": "#%%\n"
    }
   }
  },
  {
   "cell_type": "code",
   "execution_count": 178,
   "outputs": [
    {
     "name": "stdout",
     "output_type": "stream",
     "text": [
      "Loaded fragment D:\\MSc - Birmingham\\MSc Project\\Datasets\\vesuvius-challenge-ink-detection\\train\\3 on 26620\n"
     ]
    }
   ],
   "source": [
    "val_fragments = [train_path / fragment_name for fragment_name in ['3']]\n",
    "val_dset = FragmentDataset(fragments=val_fragments, voxel_shape=voxel_size, filter_edge_pixels=True)"
   ],
   "metadata": {
    "collapsed": false,
    "pycharm": {
     "name": "#%%\n"
    }
   }
  },
  {
   "cell_type": "code",
   "execution_count": 179,
   "outputs": [
    {
     "name": "stdout",
     "output_type": "stream",
     "text": [
      "Index: 17560000\n",
      "Pixel: [5213 1972    0]\n"
     ]
    },
    {
     "data": {
      "text/plain": "<Figure size 1600x1000 with 1 Axes>",
      "image/png": "[encoded data removed]"
     },
     "metadata": {},
     "output_type": "display_data"
    }
   ],
   "source": [
    "idx = 17560000\n",
    "val_dset.plot_label(idx, figsize=(16, 10))"
   ],
   "metadata": {
    "collapsed": false,
    "pycharm": {
     "name": "#%%\n"
    }
   }
  },
  {
   "cell_type": "code",
   "execution_count": 180,
   "outputs": [],
   "source": [
    "# test_path = base_path / \"test\"\n",
    "# all_fragments = sorted([f.name for f in test_path.iterdir()])\n",
    "# print(\"All fragments:\", all_fragments)\n",
    "# # Due to limited memory on Kaggle, we can only load 1 full fragment\n",
    "# test_fragments = [test_path / fragment_name for fragment_name in ['a']]\n",
    "# test_dset = FragmentDataset(fragments=val_fragments, voxel_shape=voxel_size, filter_edge_pixels=True, load_inklabels=False)"
   ],
   "metadata": {
    "collapsed": false,
    "pycharm": {
     "name": "#%%\n"
    }
   }
  },
  {
   "cell_type": "code",
   "execution_count": 110,
   "outputs": [],
   "source": [
    "# class FragmentDataset(Dataset):\n",
    "#     def __init__(self, volume_paths, seg_paths, mask_paths, transform=None):\n",
    "#         self.volume_paths = volume_paths\n",
    "#         self.seg_paths = seg_paths\n",
    "#         self.mask_paths = mask_paths\n",
    "#         self.transform = transform\n",
    "#\n",
    "#     def __len__(self):\n",
    "#         return len(self.volume_paths)\n",
    "#\n",
    "#     def __getitem__(self, idx):\n",
    "#         volume_path = self.volume_paths[idx]\n",
    "#         seg_path = self.seg_paths[idx]\n",
    "#         mask_path = self.mask_paths[idx]\n",
    "#\n",
    "#         image_paths = [os.path.join(volume_path, file) for file in os.listdir(volume_path) if file.endswith('.tif')]\n",
    "#\n",
    "#         volume = []\n",
    "#\n",
    "#         seed = np.random.randint(2147483647) # make a seed with numpy generator\n",
    "#\n",
    "#         for image_path in image_paths:\n",
    "#             image = Image.open(image_path)\n",
    "#             if self.transform is not None:\n",
    "#\n",
    "#                 random.seed(seed)\n",
    "#                 torch.manual_seed(seed)\n",
    "#\n",
    "#                 image = self.transform(image)\n",
    "#             image_array = np.array(image)\n",
    "#             volume.append(image_array)\n",
    "#\n",
    "#         volume = np.stack(volume)\n",
    "#\n",
    "#         volume = torch.from_numpy(volume.reshape(volume.shape[0],volume.shape[2],volume.shape[3]))\n",
    "#\n",
    "#\n",
    "#\n",
    "#         seg = np.array(Image.open(seg_path))\n",
    "#         if self.transform is not None:\n",
    "#\n",
    "#             random.seed(seed)\n",
    "#             torch.manual_seed(seed)\n",
    "#\n",
    "#             seg = self.transform(seg)\n",
    "#\n",
    "#         mask = np.array(Image.open(mask_path))\n",
    "#         if self.transform is not None:\n",
    "#\n",
    "#             random.seed(seed)\n",
    "#             torch.manual_seed(seed)\n",
    "#\n",
    "#             mask = self.transform(mask)\n",
    "#\n",
    "#\n",
    "#         return volume ,seg, mask"
   ],
   "metadata": {
    "collapsed": false,
    "pycharm": {
     "name": "#%%\n"
    }
   }
  },
  {
   "cell_type": "code",
   "execution_count": 105,
   "outputs": [],
   "source": [
    "# transform = transforms.Compose([\n",
    "#     transforms.ToTensor(),\n",
    "#     transforms.RandomCrop(70),\n",
    "#     transforms.RandomHorizontalFlip(),\n",
    "#     transforms.RandomVerticalFlip(),\n",
    "# ])\n",
    "#\n",
    "# # Create an instance of the FragmentDataset with the transformations\n",
    "# frag_data = FragmentDataset(volume_paths, seg_paths, mask_paths, transform=transform)"
   ],
   "metadata": {
    "collapsed": false,
    "pycharm": {
     "name": "#%%\n"
    }
   }
  },
  {
   "cell_type": "code",
   "execution_count": 106,
   "outputs": [],
   "source": [
    "# # Get an item from the dataset\n",
    "# idx = 0\n",
    "# volume, seg, mask = frag_data[idx]\n",
    "#\n",
    "# # Print the shapes\n",
    "# print(\"Volume shape:\", volume.shape)\n",
    "# print(\"Segment shape:\", seg.shape)\n",
    "# print(\"Mask shape:\", mask.shape)"
   ],
   "metadata": {
    "collapsed": false,
    "pycharm": {
     "name": "#%%\n"
    }
   }
  },
  {
   "cell_type": "code",
   "execution_count": 107,
   "outputs": [],
   "source": [
    "# plt.imshow(volume[0], cmap=\"gray\") #last [] is the layer\n",
    "# plt.axis(\"off\")\n",
    "# plt.show()"
   ],
   "metadata": {
    "collapsed": false,
    "pycharm": {
     "name": "#%%\n"
    }
   }
  },
  {
   "cell_type": "code",
   "execution_count": 108,
   "outputs": [],
   "source": [
    "# plt.imshow(seg[0], cmap=\"gray\")\n",
    "# plt.axis(\"off\")\n",
    "# plt.show()"
   ],
   "metadata": {
    "collapsed": false,
    "pycharm": {
     "name": "#%%\n"
    }
   }
  },
  {
   "cell_type": "code",
   "execution_count": 109,
   "outputs": [],
   "source": [
    "# plt.imshow(mask[0], cmap=\"gray\")\n",
    "# plt.axis(\"off\")\n",
    "# plt.show()"
   ],
   "metadata": {
    "collapsed": false,
    "pycharm": {
     "name": "#%%\n"
    }
   }
  },
  {
   "cell_type": "code",
   "execution_count": 184,
   "outputs": [],
   "source": [
    "#Simple UNet Model without skip connections. Works with 512x512 image size\n",
    "\n",
    "class UNetWithoutSkipConnections(nn.Module):\n",
    "    def __init__(self, in_channels, out_channels, dropout_prob):\n",
    "        super(UNetWithoutSkipConnections, self).__init__()\n",
    "\n",
    "        # Encoder\n",
    "        self.encoder = nn.Sequential(\n",
    "            nn.Conv2d(in_channels, 16, kernel_size=3, stride=1, padding=1),#512x512x16\n",
    "            nn.ReLU(),\n",
    "            nn.Conv2d(16, 16, kernel_size=3, stride=1, padding=1), #512x512x16\n",
    "            nn.BatchNorm2d(16),\n",
    "            nn.ReLU(),\n",
    "            nn.MaxPool2d(kernel_size=2, stride=2),  #256x256x16\n",
    "\n",
    "            nn.Conv2d(16, 32, kernel_size=3, stride=1, padding=1),#256x256x32\n",
    "            nn.ReLU(),\n",
    "            nn.Conv2d(32, 32, kernel_size=3, stride=1, padding=1), #256x256x32\n",
    "            nn.BatchNorm2d(32),\n",
    "            nn.ReLU(),\n",
    "            nn.MaxPool2d(kernel_size=2, stride=2),  #128x128x32\n",
    "\n",
    "            nn.Conv2d(32, 64, kernel_size=3, stride=1, padding=1),#128x128x64\n",
    "            nn.ReLU(),\n",
    "            nn.Conv2d(64, 64, kernel_size=3, stride=1, padding=1), #128x128x64\n",
    "            nn.BatchNorm2d(64),\n",
    "            nn.ReLU(),\n",
    "            nn.MaxPool2d(kernel_size=2, stride=2),  #64x64x64\n",
    "\n",
    "            nn.Conv2d(64, 128, kernel_size=3, stride=1, padding=1),#64x64x128\n",
    "            nn.ReLU(),\n",
    "            nn.Conv2d(128, 128, kernel_size=3, stride=1, padding=1), #64x64x128\n",
    "            nn.BatchNorm2d(128),\n",
    "            nn.ReLU(),\n",
    "            nn.MaxPool2d(kernel_size=2, stride=2),  #32x32x128\n",
    "\n",
    "            nn.Conv2d(128, 256, kernel_size=3, stride=1, padding=1),#32x32x256\n",
    "            nn.ReLU(),\n",
    "            nn.Conv2d(256, 256, kernel_size=3, stride=1, padding=1), #32x32x256\n",
    "            nn.BatchNorm2d(256),\n",
    "            nn.ReLU(),\n",
    "            nn.MaxPool2d(kernel_size=2, stride=2),  #16x16x256\n",
    "\n",
    "            nn.Conv2d(256, 512, kernel_size=3, stride=1, padding=1),#16x16x512\n",
    "            nn.ReLU(),\n",
    "            nn.Conv2d(512, 512, kernel_size=3, stride=1, padding=1), #16x16x512\n",
    "            nn.BatchNorm2d(512),\n",
    "            nn.ReLU(),\n",
    "            nn.MaxPool2d(kernel_size=2, stride=2),  #8x8x512\n",
    "\n",
    "            nn.Conv2d(512, 1024, kernel_size=3, stride=1, padding=1),#8x8x1024\n",
    "            nn.ReLU(),\n",
    "            nn.Conv2d(1024, 1024, kernel_size=3, stride=1, padding=1), #8x8x1024\n",
    "            nn.BatchNorm2d(1024),\n",
    "            nn.ReLU(),\n",
    "            nn.MaxPool2d(kernel_size=2, stride=2),  #4x4x1024\n",
    "        )\n",
    "\n",
    "        # Decoder\n",
    "        self.decoder = nn.Sequential(\n",
    "\n",
    "            nn.Conv2d(1024, 1024, kernel_size=3, stride=1, padding=1), #4x4x1024\n",
    "            nn.ConvTranspose2d(1024, 1024, kernel_size=2, stride=2),#8x8x1024\n",
    "            nn.ReLU(),\n",
    "            nn.Dropout2d(p=dropout_prob),\n",
    "\n",
    "            nn.Conv2d(1024, 512, kernel_size=3, stride=1, padding=1), #8x8x512\n",
    "            nn.ConvTranspose2d(512, 512, kernel_size=2, stride=2),#16x16x512\n",
    "            nn.ReLU(),\n",
    "            nn.Dropout2d(p=dropout_prob),\n",
    "\n",
    "            nn.Conv2d(512, 256, kernel_size=3, stride=1, padding=1), #16x16x256\n",
    "            nn.ConvTranspose2d(256, 256, kernel_size=2, stride=2),#32x32x256\n",
    "            nn.ReLU(),\n",
    "            nn.Dropout2d(p=dropout_prob),\n",
    "\n",
    "            nn.Conv2d(256, 128, kernel_size=3, stride=1, padding=1),#32x32x128\n",
    "            nn.ConvTranspose2d(128, 128, kernel_size=2, stride=2),#64x64x128\n",
    "            nn.ReLU(),\n",
    "            nn.Dropout2d(p=dropout_prob),\n",
    "\n",
    "            nn.Conv2d(128, 64, kernel_size=3, stride=1, padding=1),#64x64x64\n",
    "            nn.ConvTranspose2d(64, 64, kernel_size=2, stride=2), #128x128x64\n",
    "            nn.ReLU(),\n",
    "            nn.Dropout2d(p=dropout_prob),\n",
    "\n",
    "            nn.Conv2d(64, 32, kernel_size=3, stride=1, padding=1),#128x128x32\n",
    "            nn.ConvTranspose2d(32, 32, kernel_size=2, stride=2), #256x256x32\n",
    "            nn.ReLU(),\n",
    "            nn.Dropout2d(p=dropout_prob),\n",
    "\n",
    "            nn.Conv2d(32, 16, kernel_size=3, stride=1, padding=1),#256x256x16\n",
    "            nn.ConvTranspose2d(16, 16, kernel_size=2, stride=2), #512x512x16\n",
    "            nn.ReLU(),\n",
    "            nn.Dropout2d(p=dropout_prob),\n",
    "\n",
    "            nn.Conv2d(16, out_channels, kernel_size=3, stride=1, padding=1), #512x512x1\n",
    "            nn.Sigmoid()\n",
    "        )\n",
    "\n",
    "    def forward(self, x):\n",
    "        #print(x.shape)\n",
    "        x = self.encoder(x)\n",
    "        #print(x.shape)\n",
    "        x = self.decoder(x)\n",
    "        #print(x.shape)\n",
    "        return x"
   ],
   "metadata": {
    "collapsed": false,
    "pycharm": {
     "name": "#%%\n"
    }
   }
  },
  {
   "cell_type": "code",
   "execution_count": 109,
   "outputs": [],
   "source": [
    "# class UNet(nn.Module):\n",
    "#\n",
    "#     def __init__(self, in_channels=3, out_channels=1, init_features=32):\n",
    "#         super(UNet, self).__init__()\n",
    "#\n",
    "#         features = init_features\n",
    "#         self.encoder1 = UNet._block(in_channels, features, name=\"enc1\")\n",
    "#         self.pool1 = nn.MaxPool2d(kernel_size=2, stride=2)\n",
    "#         self.encoder2 = UNet._block(features, features * 2, name=\"enc2\")\n",
    "#         self.pool2 = nn.MaxPool2d(kernel_size=2, stride=2)\n",
    "#         self.encoder3 = UNet._block(features * 2, features * 4, name=\"enc3\")\n",
    "#         self.pool3 = nn.MaxPool2d(kernel_size=2, stride=2)\n",
    "#         self.encoder4 = UNet._block(features * 4, features * 8, name=\"enc4\")\n",
    "#         self.pool4 = nn.MaxPool2d(kernel_size=2, stride=2)\n",
    "#\n",
    "#         self.bottleneck = UNet._block(features * 8, features * 16, name=\"bottleneck\")\n",
    "#\n",
    "#         self.upconv4 = nn.ConvTranspose2d(\n",
    "#             features * 16, features * 8, kernel_size=2, stride=2\n",
    "#         )\n",
    "#         self.decoder4 = UNet._block((features * 8) * 2, features * 8, name=\"dec4\")\n",
    "#         self.upconv3 = nn.ConvTranspose2d(\n",
    "#             features * 8, features * 4, kernel_size=2, stride=2\n",
    "#         )\n",
    "#         self.decoder3 = UNet._block((features * 4) * 2, features * 4, name=\"dec3\")\n",
    "#         self.upconv2 = nn.ConvTranspose2d(\n",
    "#             features * 4, features * 2, kernel_size=2, stride=2\n",
    "#         )\n",
    "#         self.decoder2 = UNet._block((features * 2) * 2, features * 2, name=\"dec2\")\n",
    "#         self.upconv1 = nn.ConvTranspose2d(\n",
    "#             features * 2, features, kernel_size=2, stride=2\n",
    "#         )\n",
    "#         self.decoder1 = UNet._block(features * 2, features, name=\"dec1\")\n",
    "#\n",
    "#         self.conv = nn.Conv2d(\n",
    "#             in_channels=features, out_channels=out_channels, kernel_size=1\n",
    "#         )\n",
    "#\n",
    "#     def forward(self, x):\n",
    "#         enc1 = self.encoder1(x)\n",
    "#         print(enc1.shape)\n",
    "#         enc2 = self.encoder2(self.pool1(enc1))\n",
    "#         print(enc2.shape)\n",
    "#         enc3 = self.encoder3(self.pool2(enc2))\n",
    "#         print(enc3.shape)\n",
    "#         enc4 = self.encoder4(self.pool3(enc3))\n",
    "#         print(enc4.shape)\n",
    "#\n",
    "#         #bottleneck = self.bottleneck(self.pool4(enc4))\n",
    "#         #print(bottleneck.shape)\n",
    "#\n",
    "#         #dec4 = self.upconv4(bottleneck)\n",
    "#         #dec4 = torch.cat((dec4, enc4), dim=1)\n",
    "#         #dec4 = self.decoder4(dec4)\n",
    "#         dec3 = self.upconv3(enc4)\n",
    "#         #dec3 = torch.cat((dec3, enc3), dim=1)\n",
    "#         dec3 = self.decoder3(dec3)\n",
    "#         dec2 = self.upconv2(dec3)\n",
    "#         #dec2 = torch.cat((dec2, enc2), dim=1)\n",
    "#         dec2 = self.decoder2(dec2)\n",
    "#         dec1 = self.upconv1(dec2)\n",
    "#         #dec1 = torch.cat((dec1, enc1), dim=1)\n",
    "#         dec1 = self.decoder1(dec1)\n",
    "#         return torch.sigmoid(self.conv(dec1))\n",
    "#\n",
    "#     @staticmethod\n",
    "#     def _block(in_channels, features, name):\n",
    "#         return nn.Sequential(\n",
    "#             OrderedDict(\n",
    "#                 [\n",
    "#                     (\n",
    "#                         name + \"conv1\",\n",
    "#                         nn.Conv2d(\n",
    "#                             in_channels=in_channels,\n",
    "#                             out_channels=features,\n",
    "#                             kernel_size=3,\n",
    "#                             padding=1,\n",
    "#                             bias=False,\n",
    "#                         ),\n",
    "#                     ),\n",
    "#                     (name + \"norm1\", nn.BatchNorm2d(num_features=features)),\n",
    "#                     (name + \"relu1\", nn.ReLU(inplace=True)),\n",
    "#                     (\n",
    "#                         name + \"conv2\",\n",
    "#                         nn.Conv2d(\n",
    "#                             in_channels=features,\n",
    "#                             out_channels=features,\n",
    "#                             kernel_size=3,\n",
    "#                             padding=1,\n",
    "#                             bias=False,\n",
    "#                         ),\n",
    "#                     ),\n",
    "#                     (name + \"norm2\", nn.BatchNorm2d(num_features=features)),\n",
    "#                     (name + \"relu2\", nn.ReLU(inplace=True)),\n",
    "#                 ]\n",
    "#             )\n",
    "#         )"
   ],
   "metadata": {
    "collapsed": false,
    "pycharm": {
     "name": "#%%\n"
    }
   }
  },
  {
   "cell_type": "code",
   "execution_count": 185,
   "outputs": [
    {
     "data": {
      "text/plain": "device(type='cuda')"
     },
     "execution_count": 185,
     "metadata": {},
     "output_type": "execute_result"
    }
   ],
   "source": [
    "torch.cuda.empty_cache()\n",
    "\n",
    "device = torch.device('cuda' if torch.cuda.is_available() else 'cpu')\n",
    "device"
   ],
   "metadata": {
    "collapsed": false,
    "pycharm": {
     "name": "#%%\n"
    }
   }
  },
  {
   "cell_type": "code",
   "execution_count": 186,
   "outputs": [
    {
     "name": "stdout",
     "output_type": "stream",
     "text": [
      "Epoch 0 Processing Batch No: 1 / 881528\n",
      "Train Loss: 0.6903, Test Loss: 0.0000\n",
      "Epoch 0 Processing Batch No: 2 / 881528\n",
      "Train Loss: 0.6874, Test Loss: 0.0000\n",
      "Epoch 0 Processing Batch No: 3 / 881528\n"
     ]
    },
    {
     "ename": "KeyboardInterrupt",
     "evalue": "",
     "output_type": "error",
     "traceback": [
      "\u001B[1;31m---------------------------------------------------------------------------\u001B[0m",
      "\u001B[1;31mKeyboardInterrupt\u001B[0m                         Traceback (most recent call last)",
      "\u001B[1;32m~\\AppData\\Local\\Temp\\ipykernel_26620\\1821340772.py\u001B[0m in \u001B[0;36m<module>\u001B[1;34m\u001B[0m\n\u001B[0;32m     42\u001B[0m         \u001B[0moptimizer\u001B[0m\u001B[1;33m.\u001B[0m\u001B[0mstep\u001B[0m\u001B[1;33m(\u001B[0m\u001B[1;33m)\u001B[0m\u001B[1;33m\u001B[0m\u001B[1;33m\u001B[0m\u001B[0m\n\u001B[0;32m     43\u001B[0m \u001B[1;33m\u001B[0m\u001B[0m\n\u001B[1;32m---> 44\u001B[1;33m         \u001B[0mtrain_loss\u001B[0m \u001B[1;33m+=\u001B[0m \u001B[0mloss\u001B[0m\u001B[1;33m.\u001B[0m\u001B[0mitem\u001B[0m\u001B[1;33m(\u001B[0m\u001B[1;33m)\u001B[0m \u001B[1;33m*\u001B[0m \u001B[0mimages\u001B[0m\u001B[1;33m.\u001B[0m\u001B[0msize\u001B[0m\u001B[1;33m(\u001B[0m\u001B[1;36m0\u001B[0m\u001B[1;33m)\u001B[0m\u001B[1;33m\u001B[0m\u001B[1;33m\u001B[0m\u001B[0m\n\u001B[0m\u001B[0;32m     45\u001B[0m \u001B[1;33m\u001B[0m\u001B[0m\n\u001B[0;32m     46\u001B[0m         \u001B[0mbatch_no\u001B[0m \u001B[1;33m=\u001B[0m \u001B[0mbatch_no\u001B[0m \u001B[1;33m+\u001B[0m \u001B[1;36m1\u001B[0m\u001B[1;33m\u001B[0m\u001B[1;33m\u001B[0m\u001B[0m\n",
      "\u001B[1;31mKeyboardInterrupt\u001B[0m: "
     ]
    }
   ],
   "source": [
    "model = UNetWithoutSkipConnections(in_channels=voxel_size[0], out_channels=1, dropout_prob=0.1)\n",
    "model = model.to(device)\n",
    "\n",
    "criterion = nn.BCELoss()  # Binary Cross-Entropy Loss\n",
    "optimizer = optim.Adam(model.parameters(), lr=0.001)\n",
    "\n",
    "num_epochs = 1\n",
    "batch_size = 32\n",
    "\n",
    "best_test_loss = float('inf')\n",
    "\n",
    "train_loader = DataLoader(train_dset, batch_size=batch_size, shuffle=True)\n",
    "val_loader = DataLoader(val_dset, batch_size=batch_size, shuffle=True)\n",
    "\n",
    "train_losses = []\n",
    "test_losses = []\n",
    "\n",
    "for epoch in range(num_epochs):\n",
    "\n",
    "    # Training\n",
    "    model.train()\n",
    "\n",
    "    batch_no = 1\n",
    "\n",
    "    test_loss = 0.0\n",
    "\n",
    "    for batch in train_loader:\n",
    "\n",
    "        train_loss = 0.0\n",
    "\n",
    "        print('Epoch',epoch,'Processing Batch No:', batch_no, '/',len(train_loader))\n",
    "\n",
    "        images, labels= batch[0].to(device), batch[1].to(device)\n",
    "\n",
    "        # Forward pass\n",
    "        reconstructions = model(images)\n",
    "        loss = criterion(reconstructions, labels.float())\n",
    "\n",
    "        # Backward pass and optimization\n",
    "        optimizer.zero_grad()\n",
    "        loss.backward()\n",
    "        optimizer.step()\n",
    "\n",
    "        train_loss += loss.item() * images.size(0)\n",
    "\n",
    "        batch_no = batch_no + 1\n",
    "\n",
    "        if batch_no%100==0:\n",
    "            torch.save(model, '../models/temp_ink_detection_simple_u_net_middle_layer_epoch_new_dataset_impl_'+str(num_epochs)+'_batch_'+str(batch_size)+'.pt')\n",
    "\n",
    "        train_loss /= batch_size\n",
    "\n",
    "        if batch_no%10==0:\n",
    "\n",
    "            test_loss = 0.0\n",
    "\n",
    "            # Evaluation\n",
    "            model.eval()\n",
    "            with torch.no_grad():\n",
    "                val_batch_no = 0\n",
    "\n",
    "                for batch in val_loader:\n",
    "\n",
    "                    if val_batch_no == 1:\n",
    "                        break\n",
    "\n",
    "                    images, labels = batch[0].to(device), batch[1].to(device)\n",
    "\n",
    "\n",
    "                    reconstructions = model(images)\n",
    "                    loss = criterion(reconstructions, labels.float())\n",
    "\n",
    "                    test_loss += loss.item() * images.size(0)\n",
    "\n",
    "                    val_batch_no += 1\n",
    "\n",
    "\n",
    "                test_loss /= batch_size\n",
    "\n",
    "        print(f\"Train Loss: {train_loss:.4f}, Test Loss: {test_loss:.4f}\")"
   ],
   "metadata": {
    "collapsed": false,
    "pycharm": {
     "name": "#%%\n"
    }
   }
  },
  {
   "cell_type": "code",
   "execution_count": 158,
   "outputs": [],
   "source": [
    "test_loader = DataLoader(Subset(val_dset, range(17560000,17560100)), batch_size=1)\n",
    "#test_loader = DataLoader(Subset(train_dset, range(28208880//2,28208880//2+100)), batch_size=1)"
   ],
   "metadata": {
    "collapsed": false,
    "pycharm": {
     "name": "#%%\n"
    }
   }
  },
  {
   "cell_type": "code",
   "execution_count": 164,
   "outputs": [
    {
     "name": "stdout",
     "output_type": "stream",
     "text": [
      "Generate results 1\n",
      "Generate results 2\n",
      "Generate results 3\n",
      "Generate results 4\n",
      "Generate results 5\n",
      "Generate results 6\n",
      "Generate results 7\n",
      "Generate results 8\n",
      "Generate results 9\n",
      "Generate results 10\n",
      "Generate results 11\n",
      "Generate results 12\n",
      "Generate results 13\n",
      "Generate results 14\n",
      "Generate results 15\n",
      "Generate results 16\n",
      "Generate results 17\n",
      "Generate results 18\n",
      "Generate results 19\n",
      "Generate results 20\n",
      "Generate results 21\n",
      "Generate results 22\n",
      "Generate results 23\n",
      "Generate results 24\n",
      "Generate results 25\n",
      "Generate results 26\n",
      "Generate results 27\n",
      "Generate results 28\n",
      "Generate results 29\n",
      "Generate results 30\n",
      "Generate results 31\n",
      "Generate results 32\n",
      "Generate results 33\n",
      "Generate results 34\n",
      "Generate results 35\n",
      "Generate results 36\n",
      "Generate results 37\n",
      "Generate results 38\n",
      "Generate results 39\n",
      "Generate results 40\n",
      "Generate results 41\n",
      "Generate results 42\n",
      "Generate results 43\n",
      "Generate results 44\n",
      "Generate results 45\n",
      "Generate results 46\n",
      "Generate results 47\n",
      "Generate results 48\n",
      "Generate results 49\n",
      "Generate results 50\n",
      "Generate results 51\n",
      "Generate results 52\n",
      "Generate results 53\n",
      "Generate results 54\n",
      "Generate results 55\n",
      "Generate results 56\n",
      "Generate results 57\n",
      "Generate results 58\n",
      "Generate results 59\n",
      "Generate results 60\n",
      "Generate results 61\n",
      "Generate results 62\n",
      "Generate results 63\n",
      "Generate results 64\n",
      "Generate results 65\n",
      "Generate results 66\n",
      "Generate results 67\n",
      "Generate results 68\n",
      "Generate results 69\n",
      "Generate results 70\n",
      "Generate results 71\n",
      "Generate results 72\n",
      "Generate results 73\n",
      "Generate results 74\n",
      "Generate results 75\n",
      "Generate results 76\n",
      "Generate results 77\n",
      "Generate results 78\n",
      "Generate results 79\n",
      "Generate results 80\n",
      "Generate results 81\n",
      "Generate results 82\n",
      "Generate results 83\n",
      "Generate results 84\n",
      "Generate results 85\n",
      "Generate results 86\n",
      "Generate results 87\n",
      "Generate results 88\n",
      "Generate results 89\n",
      "Generate results 90\n",
      "Generate results 91\n",
      "Generate results 92\n",
      "Generate results 93\n",
      "Generate results 94\n",
      "Generate results 95\n",
      "Generate results 96\n",
      "Generate results 97\n",
      "Generate results 98\n",
      "Generate results 99\n",
      "Generate results 100\n"
     ]
    }
   ],
   "source": [
    "model = torch.load('../models/temp_model (2).pt')\n",
    "\n",
    "model.eval()  # Set the model to evaluation mode\n",
    "\n",
    "results_test = []\n",
    "\n",
    "with torch.no_grad():\n",
    "    count=1\n",
    "    for data in test_loader:\n",
    "        # Move the batch to the GPU if available\n",
    "        print(\"Generate results\", count)\n",
    "        vol = data[0].to(device).to(torch.float32) if torch.cuda.is_available() else data[0].to(torch.float32)\n",
    "\n",
    "        # Perform inference\n",
    "        outputs = model(vol)\n",
    "        results_test.append(outputs)\n",
    "\n",
    "        if count==100:\n",
    "            break\n",
    "\n",
    "        count= count+1"
   ],
   "metadata": {
    "collapsed": false,
    "pycharm": {
     "name": "#%%\n"
    }
   }
  },
  {
   "cell_type": "code",
   "execution_count": 167,
   "outputs": [],
   "source": [
    "# outputs_np = []\n",
    "# for result in results_test:\n",
    "#     # Convert the PyTorch tensor to a NumPy array\n",
    "#     outputs_np.append(result.cpu().numpy())\n",
    "#\n",
    "# # Iterate over the outputs\n",
    "# for i in range(len(outputs_np)):\n",
    "#     output = outputs_np[i][0][0]\n",
    "#\n",
    "#     # Display the output as an image\n",
    "#     plt.imshow(output, cmap='gray')  # Assuming grayscale images\n",
    "#     plt.axis('off')\n",
    "#     plt.show()"
   ],
   "metadata": {
    "collapsed": false,
    "pycharm": {
     "name": "#%%\n"
    }
   }
  },
  {
   "cell_type": "code",
   "execution_count": 166,
   "outputs": [
    {
     "data": {
      "text/plain": "array([[0.21014182, 0.20969914, 0.21044375, ..., 0.20961547, 0.2086934 ,\n        0.20978254],\n       [0.21066178, 0.21084279, 0.21051136, ..., 0.20893787, 0.20781426,\n        0.2086077 ],\n       [0.21041754, 0.21074642, 0.20991862, ..., 0.2086433 , 0.20830223,\n        0.20811075],\n       ...,\n       [0.20795928, 0.20980479, 0.2100488 , ..., 0.20926687, 0.20846686,\n        0.20932484],\n       [0.21050544, 0.2101873 , 0.20906423, ..., 0.20903355, 0.20878592,\n        0.20991915],\n       [0.20954983, 0.20931451, 0.20836918, ..., 0.20861298, 0.20871674,\n        0.20843035]], dtype=float32)"
     },
     "execution_count": 166,
     "metadata": {},
     "output_type": "execute_result"
    }
   ],
   "source": [
    "outputs_np[0][0][0]"
   ],
   "metadata": {
    "collapsed": false,
    "pycharm": {
     "name": "#%%\n"
    }
   }
  },
  {
   "cell_type": "code",
   "execution_count": null,
   "outputs": [],
   "source": [],
   "metadata": {
    "collapsed": false,
    "pycharm": {
     "name": "#%%\n"
    }
   }
  }
 ],
 "metadata": {
  "kernelspec": {
   "display_name": "Python 3",
   "language": "python",
   "name": "python3"
  },
  "language_info": {
   "codemirror_mode": {
    "name": "ipython",
    "version": 2
   },
   "file_extension": ".py",
   "mimetype": "text/x-python",
   "name": "python",
   "nbconvert_exporter": "python",
   "pygments_lexer": "ipython2",
   "version": "2.7.6"
  }
 },
 "nbformat": 4,
 "nbformat_minor": 0
}