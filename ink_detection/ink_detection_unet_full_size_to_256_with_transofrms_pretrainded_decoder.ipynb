{
 "cells": [
  {
   "cell_type": "code",
   "execution_count": 2,
   "metadata": {
    "collapsed": true
   },
   "outputs": [],
   "source": [
    "#Implement a Dataloader read directly from the image folders\n",
    "\n",
    "import os\n",
    "import torch\n",
    "import random\n",
    "\n",
    "import matplotlib.pyplot as plt\n",
    "import numpy as np\n",
    "import torch.nn.functional as F\n",
    "\n",
    "from PIL import Image\n",
    "from torch.utils.data import Dataset, DataLoader\n",
    "from torchvision import transforms"
   ]
  },
  {
   "cell_type": "code",
   "execution_count": 3,
   "outputs": [],
   "source": [
    "layer_depth = 32"
   ],
   "metadata": {
    "collapsed": false,
    "pycharm": {
     "name": "#%%\n"
    }
   }
  },
  {
   "cell_type": "code",
   "execution_count": 4,
   "outputs": [],
   "source": [
    "class LazyLoadDataset(Dataset):\n",
    "    def __init__(self, samples, transform=None, crop_size=1024):\n",
    "        self.samples = samples\n",
    "        self.transform = transform\n",
    "        self.crop_size = crop_size\n",
    "\n",
    "    def __len__(self):\n",
    "        return len(self.samples)\n",
    "\n",
    "    def __getitem__(self, idx):\n",
    "        surface_volume_paths, ink_label_path, mask_path = self.samples[idx]\n",
    "\n",
    "        surface_volume_paths = surface_volume_paths[18:18+layer_depth]\n",
    "\n",
    "        # Generate a random crop location\n",
    "        image_width, image_height = Image.open(surface_volume_paths[0]).size\n",
    "\n",
    "        x,y = 0,0\n",
    "\n",
    "        mask_image = Image.open(mask_path)\n",
    "\n",
    "        while mask_image.getpixel((x, y)) == 0:\n",
    "            x = random.randint(0, image_width - self.crop_size)\n",
    "            y = random.randint(0, image_height - self.crop_size)\n",
    "\n",
    "        surface_volume_images = torch.stack([\n",
    "            self.apply_crop_and_transform(path, x, y)\n",
    "            for path in surface_volume_paths\n",
    "        ])\n",
    "\n",
    "        ink_label_image = self.apply_crop_and_transform_label(ink_label_path, x, y)\n",
    "\n",
    "        return surface_volume_images, ink_label_image\n",
    "\n",
    "    def apply_crop_and_transform(self, image_path, x, y):\n",
    "        image = Image.open(image_path).crop((x, y, x + self.crop_size, y + self.crop_size))\n",
    "\n",
    "        if self.transform:\n",
    "            image = self.transform(image)\n",
    "\n",
    "        image = image.view(self.crop_size, self.crop_size)\n",
    "        image = image.float()\n",
    "\n",
    "        # Normalize pixel values between 0 and 255\n",
    "\n",
    "        image = 255.0 * (image - image.min()) / (image.max() - image.min())\n",
    "\n",
    "        #normalize = transforms.Normalize(mean=[image.mean()], std=[image.std()])\n",
    "        #image = normalize(image)\n",
    "\n",
    "        return image\n",
    "\n",
    "    def apply_crop_and_transform_label(self, image_path, x, y):\n",
    "        image = Image.open(image_path).crop((x, y, x + self.crop_size, y + self.crop_size))\n",
    "        image = image.resize((int(self.crop_size/4), int(self.crop_size/4)))\n",
    "\n",
    "        if self.transform:\n",
    "            image = self.transform(image)\n",
    "\n",
    "        return image"
   ],
   "metadata": {
    "collapsed": false,
    "pycharm": {
     "name": "#%%\n"
    }
   }
  },
  {
   "cell_type": "code",
   "execution_count": 5,
   "outputs": [],
   "source": [
    "class CustomDataset(Dataset):\n",
    "    def __init__(self, root_dir, transform=None):\n",
    "        self.root_dir = root_dir\n",
    "        self.transform = transform\n",
    "        self.samples = []  # To store tuples of (surface_volume_paths, ink_label_path)\n",
    "\n",
    "        for class_name in os.listdir(root_dir):\n",
    "            class_dir = os.path.join(root_dir, class_name)\n",
    "            if os.path.isdir(class_dir):\n",
    "                surface_volume_dir = os.path.join(class_dir, \"surface_volume\")\n",
    "                ink_label_path = os.path.join(class_dir, \"inklabels.png\")\n",
    "                mask_path = os.path.join(class_dir, \"mask.png\")\n",
    "                surface_volume_paths = [os.path.join(surface_volume_dir, filename) for filename in os.listdir(surface_volume_dir)]\n",
    "                self.samples.append((surface_volume_paths, ink_label_path, mask_path))\n",
    "\n",
    "    def __len__(self):\n",
    "        return len(self.samples)\n",
    "\n",
    "    def __getitem__(self, idx):\n",
    "        surface_volume_paths, ink_label_path, mask_path = self.samples[idx]\n",
    "\n",
    "        return surface_volume_paths, ink_label_path, mask_path"
   ],
   "metadata": {
    "collapsed": false,
    "pycharm": {
     "name": "#%%\n"
    }
   }
  },
  {
   "cell_type": "code",
   "execution_count": 6,
   "outputs": [],
   "source": [
    "# Define the root directory of your dataset\n",
    "root_dir = '../../Datasets/vesuvius-challenge-ink-detection/train_frag_split/'"
   ],
   "metadata": {
    "collapsed": false,
    "pycharm": {
     "name": "#%%\n"
    }
   }
  },
  {
   "cell_type": "code",
   "execution_count": 7,
   "outputs": [],
   "source": [
    "# Define transformations\n",
    "transform = transforms.Compose([\n",
    "    transforms.ToTensor(),\n",
    "])\n",
    "\n",
    "# Create the CustomDataset\n",
    "dataset = CustomDataset(root_dir)\n",
    "lazy_dataset = LazyLoadDataset(dataset.samples, transform=transform, crop_size=1024)\n",
    "\n",
    "# Create DataLoader\n",
    "batch_size = 4\n",
    "train_loader = DataLoader(lazy_dataset, batch_size=batch_size, shuffle=True)"
   ],
   "metadata": {
    "collapsed": false,
    "pycharm": {
     "name": "#%%\n"
    }
   }
  },
  {
   "cell_type": "code",
   "execution_count": 8,
   "outputs": [],
   "source": [
    "# Get a batch of data from the DataLoader\n",
    "batch = next(iter(train_loader))\n",
    "surface_volume_images, ink_label_images = batch"
   ],
   "metadata": {
    "collapsed": false,
    "pycharm": {
     "name": "#%%\n"
    }
   }
  },
  {
   "cell_type": "code",
   "execution_count": 9,
   "outputs": [
    {
     "data": {
      "text/plain": "torch.Size([4, 32, 1024, 1024])"
     },
     "execution_count": 9,
     "metadata": {},
     "output_type": "execute_result"
    }
   ],
   "source": [
    "surface_volume_images.shape"
   ],
   "metadata": {
    "collapsed": false,
    "pycharm": {
     "name": "#%%\n"
    }
   }
  },
  {
   "cell_type": "code",
   "execution_count": 10,
   "outputs": [
    {
     "data": {
      "text/plain": "torch.Size([4, 1, 256, 256])"
     },
     "execution_count": 10,
     "metadata": {},
     "output_type": "execute_result"
    }
   ],
   "source": [
    "ink_label_images.shape"
   ],
   "metadata": {
    "collapsed": false,
    "pycharm": {
     "name": "#%%\n"
    }
   }
  },
  {
   "cell_type": "code",
   "execution_count": 11,
   "outputs": [
    {
     "data": {
      "text/plain": "<Figure size 640x480 with 1 Axes>",
      "image/png": "[encoded data removed]"
     },
     "metadata": {},
     "output_type": "display_data"
    }
   ],
   "source": [
    "# Display the grayscale image\n",
    "plt.imshow(ink_label_images[0][0], cmap=\"gray\") #[batch][in_channel][width][hieght]\n",
    "plt.axis(\"off\")\n",
    "plt.show()"
   ],
   "metadata": {
    "collapsed": false,
    "pycharm": {
     "name": "#%%\n"
    }
   }
  },
  {
   "cell_type": "code",
   "execution_count": 12,
   "outputs": [
    {
     "data": {
      "text/plain": "<Figure size 640x480 with 1 Axes>",
      "image/png": "[encoded data removed]"
     },
     "metadata": {},
     "output_type": "display_data"
    }
   ],
   "source": [
    "# Display the grayscale image\n",
    "plt.imshow(surface_volume_images[0][0], cmap=\"gray\") #[batch][layer][in_channel][width][hieght]\n",
    "plt.axis(\"off\")\n",
    "plt.show()"
   ],
   "metadata": {
    "collapsed": false,
    "pycharm": {
     "name": "#%%\n"
    }
   }
  },
  {
   "cell_type": "code",
   "execution_count": 13,
   "outputs": [],
   "source": [
    "#Create a fixed validation list\n",
    "val_loader = DataLoader(lazy_dataset, batch_size=1, shuffle=True)\n",
    "val_dataset = []\n",
    "\n",
    "for i in range(25):\n",
    "    batch = next(iter(val_loader))\n",
    "    surface_volumes, ink_label = batch\n",
    "    val_dataset.append([surface_volumes,ink_label])"
   ],
   "metadata": {
    "collapsed": false,
    "pycharm": {
     "name": "#%%\n"
    }
   }
  },
  {
   "cell_type": "code",
   "execution_count": 14,
   "outputs": [
    {
     "data": {
      "text/plain": "tensor([[[[202.0623, 196.6693, 193.9844,  ..., 211.7315, 222.6070, 230.1401],\n          [209.6537, 206.5020, 207.1245,  ..., 216.3774, 229.4280, 238.5058],\n          [211.3813, 210.8210, 216.1362,  ..., 228.0350, 237.7315, 244.2802],\n          ...,\n          [210.8794, 208.3502, 208.5253,  ..., 188.8560, 197.4280, 209.0272],\n          [207.5914, 206.7043, 210.7160,  ..., 184.3541, 193.2257, 208.6615],\n          [203.8055, 206.0117, 213.8288,  ..., 189.0739, 201.9455, 219.0039]],\n\n         [[211.6770, 201.5292, 193.8949,  ..., 217.4942, 231.0623, 238.5525],\n          [218.4980, 209.9261, 206.1868,  ..., 221.7043, 236.4397, 244.8249],\n          [218.8249, 212.1362, 213.4514,  ..., 230.6537, 239.7860, 244.6576],\n          ...,\n          [223.4008, 221.8288, 222.5253,  ..., 200.4163, 208.7626, 220.5097],\n          [219.9222, 219.4475, 223.2685,  ..., 191.5370, 202.3580, 218.3346],\n          [214.3735, 215.7626, 223.3074,  ..., 193.9650, 209.4864, 229.2257]],\n\n         [[221.2296, 206.6693, 194.0973,  ..., 221.5681, 234.7276, 241.4942],\n          [227.1323, 214.3152, 205.9805,  ..., 222.1362, 236.3658, 243.5292],\n          [229.1323, 216.8093, 213.4591,  ..., 230.2802, 233.9883, 237.7821],\n          ...,\n          [238.2918, 238.7782, 240.9572,  ..., 208.4669, 218.7004, 225.1206],\n          [233.2374, 233.6187, 237.7237,  ..., 197.6342, 211.2218, 226.7082],\n          [226.2218, 226.4319, 232.9339,  ..., 200.5564, 218.1984, 239.5214]],\n\n         ...,\n\n         [[209.5525, 208.9494, 210.1323,  ..., 215.7665, 216.7860, 222.2802],\n          [210.1517, 209.4786, 209.4280,  ..., 218.8327, 222.6304, 224.9183],\n          [214.1479, 214.9222, 212.7704,  ..., 217.3735, 220.2140, 221.9377],\n          ...,\n          [218.3580, 220.5097, 223.3152,  ..., 221.8132, 221.7471, 221.3463],\n          [219.7082, 221.2802, 223.5798,  ..., 219.9416, 221.0817, 220.6187],\n          [224.7938, 224.8055, 224.8949,  ..., 217.7821, 219.6265, 220.5292]],\n\n         [[213.0700, 214.3230, 215.8794,  ..., 216.8483, 219.1206, 224.6031],\n          [211.8677, 212.3113, 213.5331,  ..., 219.9572, 223.7471, 226.9339],\n          [216.3813, 216.7899, 216.7743,  ..., 221.5409, 222.4591, 224.0778],\n          ...,\n          [221.0895, 222.6070, 224.3580,  ..., 220.7899, 219.8210, 219.3774],\n          [221.2918, 222.7160, 224.7549,  ..., 218.3969, 218.8132, 218.3385],\n          [226.6537, 226.9572, 227.1751,  ..., 216.2607, 217.4903, 218.4552]],\n\n         [[217.3463, 218.2918, 219.1245,  ..., 217.9728, 219.8366, 224.2568],\n          [215.5876, 214.5798, 215.7160,  ..., 221.5759, 224.3463, 227.3385],\n          [218.3074, 217.5914, 217.7354,  ..., 225.9728, 225.5642, 225.8132],\n          ...,\n          [224.7977, 225.3230, 225.4319,  ..., 222.2957, 220.5331, 219.3735],\n          [225.1051, 225.5837, 226.1479,  ..., 219.0973, 219.6226, 218.1634],\n          [229.2685, 228.7860, 228.5331,  ..., 218.5642, 219.4552, 219.8988]]]])"
     },
     "execution_count": 14,
     "metadata": {},
     "output_type": "execute_result"
    }
   ],
   "source": [
    "val_dataset[0][0]"
   ],
   "metadata": {
    "collapsed": false,
    "pycharm": {
     "name": "#%%\n"
    }
   }
  },
  {
   "cell_type": "code",
   "execution_count": 15,
   "outputs": [],
   "source": [
    "#UNet Implementation\n",
    "\n",
    "import torch\n",
    "import torch.nn as nn\n",
    "import torch.optim as optim\n",
    "import torch.nn.functional as func\n",
    "\n",
    "from torch.utils.data import DataLoader, Dataset, Subset"
   ],
   "metadata": {
    "collapsed": false,
    "pycharm": {
     "name": "#%%\n"
    }
   }
  },
  {
   "cell_type": "code",
   "execution_count": 16,
   "outputs": [],
   "source": [
    "torch.cuda.empty_cache()"
   ],
   "metadata": {
    "collapsed": false,
    "pycharm": {
     "name": "#%%\n"
    }
   }
  },
  {
   "cell_type": "code",
   "execution_count": 17,
   "outputs": [
    {
     "data": {
      "text/plain": "device(type='cuda')"
     },
     "execution_count": 17,
     "metadata": {},
     "output_type": "execute_result"
    }
   ],
   "source": [
    "# Define the device\n",
    "device = torch.device('cuda' if torch.cuda.is_available() else 'cpu')\n",
    "device"
   ],
   "metadata": {
    "collapsed": false,
    "pycharm": {
     "name": "#%%\n"
    }
   }
  },
  {
   "cell_type": "code",
   "execution_count": 26,
   "outputs": [],
   "source": [
    "#Simple UNet Model without skip connections. Works with 1024x0124 input to output 256x256\n",
    "\n",
    "class UNetWithoutSkipConnections(nn.Module):\n",
    "    def __init__(self, in_channels, out_channels, dropout_prob):\n",
    "        super(UNetWithoutSkipConnections, self).__init__()\n",
    "\n",
    "        # Encoder\n",
    "        self.encoder = nn.Sequential(\n",
    "\n",
    "            nn.Conv2d(in_channels, 4, kernel_size=3, stride=1, padding=1),#1024x1024x4\n",
    "            nn.ReLU(),\n",
    "            nn.Conv2d(4, 4, kernel_size=3, stride=1, padding=1), #1024x1024x4\n",
    "            nn.BatchNorm2d(4),\n",
    "            nn.ReLU(),\n",
    "            nn.MaxPool2d(kernel_size=2, stride=2),  #512x512x4\n",
    "\n",
    "            nn.Conv2d(4, 8, kernel_size=3, stride=1, padding=1),#512x512x8\n",
    "            nn.ReLU(),\n",
    "            nn.Conv2d(8, 8, kernel_size=3, stride=1, padding=1), #512x512x8\n",
    "            nn.BatchNorm2d(8),\n",
    "            nn.ReLU(),\n",
    "            nn.MaxPool2d(kernel_size=2, stride=2),  #256x256x8\n",
    "\n",
    "            nn.Conv2d(8, 16, kernel_size=3, stride=1, padding=1),#256x256x16\n",
    "            nn.ReLU(),\n",
    "            nn.Conv2d(16, 16, kernel_size=3, stride=1, padding=1), #256x256x16\n",
    "            nn.BatchNorm2d(16),\n",
    "            nn.ReLU(),\n",
    "            nn.MaxPool2d(kernel_size=2, stride=2),  #128x128x16\n",
    "\n",
    "            nn.Conv2d(16, 32, kernel_size=3, stride=1, padding=1),#128x128x32\n",
    "            nn.ReLU(),\n",
    "            nn.Conv2d(32, 32, kernel_size=3, stride=1, padding=1), #128x128x32\n",
    "            nn.BatchNorm2d(32),\n",
    "            nn.ReLU(),\n",
    "            nn.MaxPool2d(kernel_size=2, stride=2),  #64x64x32\n",
    "\n",
    "            nn.Conv2d(32, 64, kernel_size=3, stride=1, padding=1),#64x64x64\n",
    "            nn.ReLU(),\n",
    "            nn.Conv2d(64, 64, kernel_size=3, stride=1, padding=1), #64x64x64\n",
    "            nn.BatchNorm2d(64),\n",
    "            nn.ReLU(),\n",
    "            nn.MaxPool2d(kernel_size=2, stride=2),  #32x32x64\n",
    "\n",
    "            nn.Conv2d(64, 128, kernel_size=3, stride=1, padding=1),#32x32x128\n",
    "            nn.ReLU(),\n",
    "            nn.Conv2d(128, 128, kernel_size=3, stride=1, padding=1), #32x32x128\n",
    "            nn.BatchNorm2d(128),\n",
    "            nn.ReLU(),\n",
    "            nn.MaxPool2d(kernel_size=2, stride=2),  #16x16x128\n",
    "\n",
    "            nn.Conv2d(128, 256, kernel_size=3, stride=1, padding=1),#16x16x256\n",
    "            nn.ReLU(),\n",
    "            nn.Conv2d(256, 256, kernel_size=3, stride=1, padding=1), #16x16x256\n",
    "            nn.BatchNorm2d(256),\n",
    "            nn.ReLU(),\n",
    "            nn.MaxPool2d(kernel_size=2, stride=2),  #8x8x256\n",
    "\n",
    "            nn.Conv2d(256, 512, kernel_size=3, stride=1, padding=1),#8x8x512\n",
    "            nn.ReLU(),\n",
    "            nn.Conv2d(512, 512, kernel_size=3, stride=1, padding=1), #8x8x512\n",
    "            nn.BatchNorm2d(512),\n",
    "            nn.ReLU(),\n",
    "            nn.MaxPool2d(kernel_size=2, stride=2),  #4x4x512\n",
    "        )\n",
    "\n",
    "        # Decoder\n",
    "        self.decoder = nn.Sequential(\n",
    "\n",
    "            nn.Conv2d(512, 512, kernel_size=3, stride=1, padding=1), #4x4x512\n",
    "            nn.Upsample(scale_factor=2),#8x8x512\n",
    "            nn.ReLU(),\n",
    "            nn.Dropout2d(p=dropout_prob),\n",
    "\n",
    "            nn.Conv2d(512, 256, kernel_size=3, stride=1, padding=1), #8x8x256\n",
    "            nn.Upsample(scale_factor=2),#16x16x256\n",
    "            nn.ReLU(),\n",
    "            nn.Dropout2d(p=dropout_prob),\n",
    "\n",
    "            nn.Conv2d(256, 128, kernel_size=3, stride=1, padding=1),#16x16x128\n",
    "            nn.Upsample(scale_factor=2),#32x32x128\n",
    "            nn.ReLU(),\n",
    "            nn.Dropout2d(p=dropout_prob),\n",
    "\n",
    "            nn.Conv2d(128, 64, kernel_size=3, stride=1, padding=1),#32x32x64\n",
    "            nn.Upsample(scale_factor=2), #64x64x64\n",
    "            nn.ReLU(),\n",
    "            nn.Dropout2d(p=dropout_prob),\n",
    "\n",
    "            nn.Conv2d(64, 32, kernel_size=3, stride=1, padding=1),#64x64x32\n",
    "            nn.Upsample(scale_factor=2), #128x128x32\n",
    "            nn.ReLU(),\n",
    "            nn.Dropout2d(p=dropout_prob),\n",
    "\n",
    "            nn.Conv2d(32, 16, kernel_size=3, stride=1, padding=1),#128x128x16\n",
    "            nn.Upsample(scale_factor=2), #256x256x16\n",
    "            nn.ReLU(),\n",
    "            nn.Dropout2d(p=dropout_prob),\n",
    "\n",
    "            nn.Conv2d(16, out_channels, kernel_size=3, stride=1, padding=1), #256x256x1\n",
    "            nn.Sigmoid()\n",
    "        )\n",
    "\n",
    "    def forward(self, x):\n",
    "        x = self.encoder(x)\n",
    "        x = self.decoder(x)\n",
    "        return x"
   ],
   "metadata": {
    "collapsed": false,
    "pycharm": {
     "name": "#%%\n"
    }
   }
  },
  {
   "cell_type": "code",
   "execution_count": 27,
   "outputs": [],
   "source": [
    "#Using pretrained ALPUB UNet to train a model\n",
    "\n",
    "model = UNetWithoutSkipConnections(in_channels=layer_depth, out_channels=1, dropout_prob=0.1)  # Create an instance of the model\n",
    "\n",
    "# # Load the saved model weights\n",
    "# saved_model_path = '../models/papyri_autoencoder_256_upsample_u_net_greyscale_epoch_30_batch_16.pt'\n",
    "#\n",
    "# # Load the state dictionary of the saved model\n",
    "# saved_model_dict = torch.load(saved_model_path).state_dict()\n",
    "# model_dict = model.state_dict()"
   ],
   "metadata": {
    "collapsed": false,
    "pycharm": {
     "name": "#%%\n"
    }
   }
  },
  {
   "cell_type": "code",
   "execution_count": 28,
   "outputs": [],
   "source": [
    "# model_dict['decoder.0.weight'] = saved_model_dict['decoder.0.weight']\n",
    "# model_dict['decoder.0.bias'] = saved_model_dict['decoder.0.bias']\n",
    "# model_dict['decoder.4.weight'] = saved_model_dict['decoder.4.weight']\n",
    "# model_dict['decoder.4.bias'] = saved_model_dict['decoder.4.bias']\n",
    "# model_dict['decoder.8.weight'] = saved_model_dict['decoder.8.weight']\n",
    "# model_dict['decoder.8.bias'] = saved_model_dict['decoder.8.bias']\n",
    "# model_dict['decoder.12.weight'] = saved_model_dict['decoder.12.weight']\n",
    "# model_dict['decoder.12.bias'] = saved_model_dict['decoder.12.bias']\n",
    "# model_dict['decoder.16.weight'] = saved_model_dict['decoder.16.weight']\n",
    "# model_dict['decoder.16.bias'] = saved_model_dict['decoder.16.bias']\n",
    "# model_dict['decoder.20.weight'] = saved_model_dict['decoder.20.weight']\n",
    "# model_dict['decoder.20.bias'] = saved_model_dict['decoder.20.bias']\n",
    "# model_dict['decoder.24.weight'] = saved_model_dict['decoder.24.weight']\n",
    "# model_dict['decoder.24.bias'] = saved_model_dict['decoder.24.bias']"
   ],
   "metadata": {
    "collapsed": false,
    "pycharm": {
     "name": "#%%\n"
    }
   }
  },
  {
   "cell_type": "code",
   "execution_count": 36,
   "outputs": [
    {
     "name": "stdout",
     "output_type": "stream",
     "text": [
      "Epoch 0 Processing Batch No: 1\n",
      "Epoch 0 Processing Batch No: 2\n",
      "Epoch [1/100], Train Loss: 0.3464, Test Loss: 1.6613\n",
      "Epoch 1 Processing Batch No: 1\n",
      "Epoch 1 Processing Batch No: 2\n",
      "Epoch [2/100], Train Loss: 0.4628, Test Loss: 1.6666\n",
      "Epoch 2 Processing Batch No: 1\n",
      "Epoch 2 Processing Batch No: 2\n",
      "Epoch [3/100], Train Loss: 0.2845, Test Loss: 1.6651\n",
      "Epoch 3 Processing Batch No: 1\n",
      "Epoch 3 Processing Batch No: 2\n",
      "Epoch [4/100], Train Loss: 0.2896, Test Loss: 1.6663\n",
      "Epoch 4 Processing Batch No: 1\n",
      "Epoch 4 Processing Batch No: 2\n",
      "Epoch [5/100], Train Loss: 0.3105, Test Loss: 1.6650\n",
      "Epoch 5 Processing Batch No: 1\n",
      "Epoch 5 Processing Batch No: 2\n",
      "Epoch [6/100], Train Loss: 0.2870, Test Loss: 1.6624\n",
      "Epoch 6 Processing Batch No: 1\n",
      "Epoch 6 Processing Batch No: 2\n",
      "Epoch [7/100], Train Loss: 0.4617, Test Loss: 1.6620\n",
      "Epoch 7 Processing Batch No: 1\n",
      "Epoch 7 Processing Batch No: 2\n",
      "Epoch [8/100], Train Loss: 0.4375, Test Loss: 1.6590\n",
      "Epoch 8 Processing Batch No: 1\n",
      "Epoch 8 Processing Batch No: 2\n",
      "Epoch [9/100], Train Loss: 0.4096, Test Loss: 1.6567\n",
      "Epoch 9 Processing Batch No: 1\n",
      "Epoch 9 Processing Batch No: 2\n",
      "Epoch [10/100], Train Loss: 0.3411, Test Loss: 1.6556\n",
      "Epoch 10 Processing Batch No: 1\n",
      "Epoch 10 Processing Batch No: 2\n",
      "Epoch [11/100], Train Loss: 0.2829, Test Loss: 1.6549\n",
      "Epoch 11 Processing Batch No: 1\n",
      "Epoch 11 Processing Batch No: 2\n",
      "Epoch [12/100], Train Loss: 0.3723, Test Loss: 1.6559\n",
      "Epoch 12 Processing Batch No: 1\n",
      "Epoch 12 Processing Batch No: 2\n",
      "Epoch [13/100], Train Loss: 0.3003, Test Loss: 1.6562\n",
      "Epoch 13 Processing Batch No: 1\n",
      "Epoch 13 Processing Batch No: 2\n",
      "Epoch [14/100], Train Loss: 0.3581, Test Loss: 1.6569\n",
      "Epoch 14 Processing Batch No: 1\n",
      "Epoch 14 Processing Batch No: 2\n",
      "Epoch [15/100], Train Loss: 0.3136, Test Loss: 1.6639\n",
      "Epoch 15 Processing Batch No: 1\n",
      "Epoch 15 Processing Batch No: 2\n",
      "Epoch [16/100], Train Loss: 0.2709, Test Loss: 1.6717\n",
      "Epoch 16 Processing Batch No: 1\n",
      "Epoch 16 Processing Batch No: 2\n",
      "Epoch [17/100], Train Loss: 0.2326, Test Loss: 1.6973\n",
      "Epoch 17 Processing Batch No: 1\n",
      "Epoch 17 Processing Batch No: 2\n",
      "Epoch [18/100], Train Loss: 0.3523, Test Loss: 1.7054\n",
      "Epoch 18 Processing Batch No: 1\n",
      "Epoch 18 Processing Batch No: 2\n",
      "Epoch [19/100], Train Loss: 0.3702, Test Loss: 1.7080\n",
      "Epoch 19 Processing Batch No: 1\n",
      "Epoch 19 Processing Batch No: 2\n",
      "Epoch [20/100], Train Loss: 0.2605, Test Loss: 1.7064\n",
      "Epoch 20 Processing Batch No: 1\n",
      "Epoch 20 Processing Batch No: 2\n",
      "Epoch [21/100], Train Loss: 0.3272, Test Loss: 1.7322\n",
      "Epoch 21 Processing Batch No: 1\n",
      "Epoch 21 Processing Batch No: 2\n",
      "Epoch [22/100], Train Loss: 0.4078, Test Loss: 1.7438\n",
      "Epoch 22 Processing Batch No: 1\n",
      "Epoch 22 Processing Batch No: 2\n",
      "Epoch [23/100], Train Loss: 0.2571, Test Loss: 1.7761\n",
      "Epoch 23 Processing Batch No: 1\n",
      "Epoch 23 Processing Batch No: 2\n",
      "Epoch [24/100], Train Loss: 0.3412, Test Loss: 1.8377\n",
      "Epoch 24 Processing Batch No: 1\n",
      "Epoch 24 Processing Batch No: 2\n",
      "Epoch [25/100], Train Loss: 0.4256, Test Loss: 1.8193\n",
      "Epoch 25 Processing Batch No: 1\n",
      "Epoch 25 Processing Batch No: 2\n",
      "Epoch [26/100], Train Loss: 0.2076, Test Loss: 1.9596\n",
      "Epoch 26 Processing Batch No: 1\n",
      "Epoch 26 Processing Batch No: 2\n",
      "Epoch [27/100], Train Loss: 0.3370, Test Loss: 1.9443\n",
      "Epoch 27 Processing Batch No: 1\n",
      "Epoch 27 Processing Batch No: 2\n",
      "Epoch [28/100], Train Loss: 0.3537, Test Loss: 1.9425\n",
      "Epoch 28 Processing Batch No: 1\n",
      "Epoch 28 Processing Batch No: 2\n",
      "Epoch [29/100], Train Loss: 0.3534, Test Loss: 1.8593\n",
      "Epoch 29 Processing Batch No: 1\n",
      "Epoch 29 Processing Batch No: 2\n",
      "Epoch [30/100], Train Loss: 0.3234, Test Loss: 1.7238\n",
      "Epoch 30 Processing Batch No: 1\n",
      "Epoch 30 Processing Batch No: 2\n",
      "Epoch [31/100], Train Loss: 0.2912, Test Loss: 1.6699\n",
      "Epoch 31 Processing Batch No: 1\n",
      "Epoch 31 Processing Batch No: 2\n",
      "Epoch [32/100], Train Loss: 0.2456, Test Loss: 1.6590\n",
      "Epoch 32 Processing Batch No: 1\n",
      "Epoch 32 Processing Batch No: 2\n",
      "Epoch [33/100], Train Loss: 0.2594, Test Loss: 1.6547\n",
      "Epoch 33 Processing Batch No: 1\n",
      "Epoch 33 Processing Batch No: 2\n",
      "Epoch [34/100], Train Loss: 0.2190, Test Loss: 1.6533\n",
      "Epoch 34 Processing Batch No: 1\n",
      "Epoch 34 Processing Batch No: 2\n",
      "Epoch [35/100], Train Loss: 0.3098, Test Loss: 1.6537\n",
      "Epoch 35 Processing Batch No: 1\n",
      "Epoch 35 Processing Batch No: 2\n",
      "Epoch [36/100], Train Loss: 0.2565, Test Loss: 1.6568\n",
      "Epoch 36 Processing Batch No: 1\n",
      "Epoch 36 Processing Batch No: 2\n",
      "Epoch [37/100], Train Loss: 0.3724, Test Loss: 1.6583\n",
      "Epoch 37 Processing Batch No: 1\n",
      "Epoch 37 Processing Batch No: 2\n",
      "Epoch [38/100], Train Loss: 0.2201, Test Loss: 1.6578\n",
      "Epoch 38 Processing Batch No: 1\n",
      "Epoch 38 Processing Batch No: 2\n",
      "Epoch [39/100], Train Loss: 0.3802, Test Loss: 1.6549\n",
      "Epoch 39 Processing Batch No: 1\n",
      "Epoch 39 Processing Batch No: 2\n",
      "Epoch [40/100], Train Loss: 0.3083, Test Loss: 1.6516\n",
      "Epoch 40 Processing Batch No: 1\n",
      "Epoch 40 Processing Batch No: 2\n",
      "Epoch [41/100], Train Loss: 0.2404, Test Loss: 1.6528\n",
      "Epoch 41 Processing Batch No: 1\n",
      "Epoch 41 Processing Batch No: 2\n",
      "Epoch [42/100], Train Loss: 0.3075, Test Loss: 1.6519\n",
      "Epoch 42 Processing Batch No: 1\n",
      "Epoch 42 Processing Batch No: 2\n",
      "Epoch [43/100], Train Loss: 0.2060, Test Loss: 1.6517\n",
      "Epoch 43 Processing Batch No: 1\n",
      "Epoch 43 Processing Batch No: 2\n",
      "Epoch [44/100], Train Loss: 0.2762, Test Loss: 1.6514\n",
      "Epoch 44 Processing Batch No: 1\n",
      "Epoch 44 Processing Batch No: 2\n",
      "Epoch [45/100], Train Loss: 0.3601, Test Loss: 1.6512\n",
      "Epoch 45 Processing Batch No: 1\n",
      "Epoch 45 Processing Batch No: 2\n",
      "Epoch [46/100], Train Loss: 0.3177, Test Loss: 1.6477\n",
      "Epoch 46 Processing Batch No: 1\n",
      "Epoch 46 Processing Batch No: 2\n",
      "Epoch [47/100], Train Loss: 0.3186, Test Loss: 1.6459\n",
      "Epoch 47 Processing Batch No: 1\n",
      "Epoch 47 Processing Batch No: 2\n",
      "Epoch [48/100], Train Loss: 0.3848, Test Loss: 1.6535\n",
      "Epoch 48 Processing Batch No: 1\n",
      "Epoch 48 Processing Batch No: 2\n",
      "Epoch [49/100], Train Loss: 0.3973, Test Loss: 1.6546\n",
      "Epoch 49 Processing Batch No: 1\n",
      "Epoch 49 Processing Batch No: 2\n",
      "Epoch [50/100], Train Loss: 0.3084, Test Loss: 1.6569\n",
      "Epoch 50 Processing Batch No: 1\n",
      "Epoch 50 Processing Batch No: 2\n",
      "Epoch [51/100], Train Loss: 0.3616, Test Loss: 1.6574\n",
      "Epoch 51 Processing Batch No: 1\n",
      "Epoch 51 Processing Batch No: 2\n",
      "Epoch [52/100], Train Loss: 0.2376, Test Loss: 1.6577\n",
      "Epoch 52 Processing Batch No: 1\n",
      "Epoch 52 Processing Batch No: 2\n",
      "Epoch [53/100], Train Loss: 0.3825, Test Loss: 1.6544\n",
      "Epoch 53 Processing Batch No: 1\n",
      "Epoch 53 Processing Batch No: 2\n",
      "Epoch [54/100], Train Loss: 0.2846, Test Loss: 1.6543\n",
      "Epoch 54 Processing Batch No: 1\n",
      "Epoch 54 Processing Batch No: 2\n",
      "Epoch [55/100], Train Loss: 0.2360, Test Loss: 1.6608\n",
      "Epoch 55 Processing Batch No: 1\n",
      "Epoch 55 Processing Batch No: 2\n",
      "Epoch [56/100], Train Loss: 0.2113, Test Loss: 1.6835\n",
      "Epoch 56 Processing Batch No: 1\n",
      "Epoch 56 Processing Batch No: 2\n",
      "Epoch [57/100], Train Loss: 0.2668, Test Loss: 1.7516\n",
      "Epoch 57 Processing Batch No: 1\n",
      "Epoch 57 Processing Batch No: 2\n",
      "Epoch [58/100], Train Loss: 0.3771, Test Loss: 1.6913\n",
      "Epoch 58 Processing Batch No: 1\n",
      "Epoch 58 Processing Batch No: 2\n",
      "Epoch [59/100], Train Loss: 0.3013, Test Loss: 1.6578\n",
      "Epoch 59 Processing Batch No: 1\n",
      "Epoch 59 Processing Batch No: 2\n",
      "Epoch [60/100], Train Loss: 0.3118, Test Loss: 1.6608\n",
      "Epoch 60 Processing Batch No: 1\n",
      "Epoch 60 Processing Batch No: 2\n",
      "Epoch [61/100], Train Loss: 0.2389, Test Loss: 1.6650\n",
      "Epoch 61 Processing Batch No: 1\n",
      "Epoch 61 Processing Batch No: 2\n",
      "Epoch [62/100], Train Loss: 0.2889, Test Loss: 1.6737\n",
      "Epoch 62 Processing Batch No: 1\n",
      "Epoch 62 Processing Batch No: 2\n",
      "Epoch [63/100], Train Loss: 0.4020, Test Loss: 1.6858\n",
      "Epoch 63 Processing Batch No: 1\n",
      "Epoch 63 Processing Batch No: 2\n",
      "Epoch [64/100], Train Loss: 0.2458, Test Loss: 1.7547\n",
      "Epoch 64 Processing Batch No: 1\n",
      "Epoch 64 Processing Batch No: 2\n",
      "Epoch [65/100], Train Loss: 0.2177, Test Loss: 1.8485\n",
      "Epoch 65 Processing Batch No: 1\n",
      "Epoch 65 Processing Batch No: 2\n",
      "Epoch [66/100], Train Loss: 0.2717, Test Loss: 2.8159\n",
      "Epoch 66 Processing Batch No: 1\n",
      "Epoch 66 Processing Batch No: 2\n",
      "Epoch [67/100], Train Loss: 0.9969, Test Loss: 2.9708\n",
      "Epoch 67 Processing Batch No: 1\n",
      "Epoch 67 Processing Batch No: 2\n",
      "Epoch [68/100], Train Loss: 0.3057, Test Loss: 3.9668\n",
      "Epoch 68 Processing Batch No: 1\n",
      "Epoch 68 Processing Batch No: 2\n",
      "Epoch [69/100], Train Loss: 0.3806, Test Loss: 2.2699\n",
      "Epoch 69 Processing Batch No: 1\n",
      "Epoch 69 Processing Batch No: 2\n",
      "Epoch [70/100], Train Loss: 0.4308, Test Loss: 2.0243\n",
      "Epoch 70 Processing Batch No: 1\n",
      "Epoch 70 Processing Batch No: 2\n",
      "Epoch [71/100], Train Loss: 0.2987, Test Loss: 1.9071\n",
      "Epoch 71 Processing Batch No: 1\n",
      "Epoch 71 Processing Batch No: 2\n",
      "Epoch [72/100], Train Loss: 0.2346, Test Loss: 1.8033\n",
      "Epoch 72 Processing Batch No: 1\n",
      "Epoch 72 Processing Batch No: 2\n",
      "Epoch [73/100], Train Loss: 0.2532, Test Loss: 1.7532\n",
      "Epoch 73 Processing Batch No: 1\n",
      "Epoch 73 Processing Batch No: 2\n",
      "Epoch [74/100], Train Loss: 0.2874, Test Loss: 1.7091\n",
      "Epoch 74 Processing Batch No: 1\n",
      "Epoch 74 Processing Batch No: 2\n",
      "Epoch [75/100], Train Loss: 0.3075, Test Loss: 1.6932\n",
      "Epoch 75 Processing Batch No: 1\n",
      "Epoch 75 Processing Batch No: 2\n",
      "Epoch [76/100], Train Loss: 0.2882, Test Loss: 1.6812\n",
      "Epoch 76 Processing Batch No: 1\n",
      "Epoch 76 Processing Batch No: 2\n",
      "Epoch [77/100], Train Loss: 0.2758, Test Loss: 1.6739\n",
      "Epoch 77 Processing Batch No: 1\n",
      "Epoch 77 Processing Batch No: 2\n",
      "Epoch [78/100], Train Loss: 0.3004, Test Loss: 1.6726\n",
      "Epoch 78 Processing Batch No: 1\n",
      "Epoch 78 Processing Batch No: 2\n",
      "Epoch [79/100], Train Loss: 0.2482, Test Loss: 1.6717\n",
      "Epoch 79 Processing Batch No: 1\n",
      "Epoch 79 Processing Batch No: 2\n",
      "Epoch [80/100], Train Loss: 0.2711, Test Loss: 1.6741\n",
      "Epoch 80 Processing Batch No: 1\n",
      "Epoch 80 Processing Batch No: 2\n",
      "Epoch [81/100], Train Loss: 0.2750, Test Loss: 1.6740\n",
      "Epoch 81 Processing Batch No: 1\n",
      "Epoch 81 Processing Batch No: 2\n",
      "Epoch [82/100], Train Loss: 0.2406, Test Loss: 1.6773\n",
      "Epoch 82 Processing Batch No: 1\n",
      "Epoch 82 Processing Batch No: 2\n",
      "Epoch [83/100], Train Loss: 0.2911, Test Loss: 1.6865\n",
      "Epoch 83 Processing Batch No: 1\n",
      "Epoch 83 Processing Batch No: 2\n",
      "Epoch [84/100], Train Loss: 0.2925, Test Loss: 1.7037\n",
      "Epoch 84 Processing Batch No: 1\n",
      "Epoch 84 Processing Batch No: 2\n",
      "Epoch [85/100], Train Loss: 0.2703, Test Loss: 1.7275\n",
      "Epoch 85 Processing Batch No: 1\n",
      "Epoch 85 Processing Batch No: 2\n",
      "Epoch [86/100], Train Loss: 0.2500, Test Loss: 1.7540\n",
      "Epoch 86 Processing Batch No: 1\n",
      "Epoch 86 Processing Batch No: 2\n",
      "Epoch [87/100], Train Loss: 0.3350, Test Loss: 1.7688\n",
      "Epoch 87 Processing Batch No: 1\n",
      "Epoch 87 Processing Batch No: 2\n",
      "Epoch [88/100], Train Loss: 0.2748, Test Loss: 1.7997\n",
      "Epoch 88 Processing Batch No: 1\n",
      "Epoch 88 Processing Batch No: 2\n",
      "Epoch [89/100], Train Loss: 0.3530, Test Loss: 1.8334\n",
      "Epoch 89 Processing Batch No: 1\n",
      "Epoch 89 Processing Batch No: 2\n",
      "Epoch [90/100], Train Loss: 0.3860, Test Loss: 1.8521\n",
      "Epoch 90 Processing Batch No: 1\n",
      "Epoch 90 Processing Batch No: 2\n",
      "Epoch [91/100], Train Loss: 0.3881, Test Loss: 1.8667\n",
      "Epoch 91 Processing Batch No: 1\n",
      "Epoch 91 Processing Batch No: 2\n",
      "Epoch [92/100], Train Loss: 0.3151, Test Loss: 1.8518\n",
      "Epoch 92 Processing Batch No: 1\n",
      "Epoch 92 Processing Batch No: 2\n",
      "Epoch [93/100], Train Loss: 0.2591, Test Loss: 1.8151\n",
      "Epoch 93 Processing Batch No: 1\n",
      "Epoch 93 Processing Batch No: 2\n",
      "Epoch [94/100], Train Loss: 0.4531, Test Loss: 1.7461\n",
      "Epoch 94 Processing Batch No: 1\n",
      "Epoch 94 Processing Batch No: 2\n",
      "Epoch [95/100], Train Loss: 0.2797, Test Loss: 1.7106\n",
      "Epoch 95 Processing Batch No: 1\n",
      "Epoch 95 Processing Batch No: 2\n",
      "Epoch [96/100], Train Loss: 0.3303, Test Loss: 1.6885\n",
      "Epoch 96 Processing Batch No: 1\n",
      "Epoch 96 Processing Batch No: 2\n",
      "Epoch [97/100], Train Loss: 0.2835, Test Loss: 1.6785\n",
      "Epoch 97 Processing Batch No: 1\n",
      "Epoch 97 Processing Batch No: 2\n",
      "Epoch [98/100], Train Loss: 0.3906, Test Loss: 1.6892\n",
      "Epoch 98 Processing Batch No: 1\n",
      "Epoch 98 Processing Batch No: 2\n",
      "Epoch [99/100], Train Loss: 0.3057, Test Loss: 1.6935\n",
      "Epoch 99 Processing Batch No: 1\n",
      "Epoch 99 Processing Batch No: 2\n",
      "Epoch [100/100], Train Loss: 0.2159, Test Loss: 3.3147\n"
     ]
    },
    {
     "data": {
      "text/plain": "<Figure size 640x480 with 1 Axes>",
      "image/png": "[encoded data removed]"
     },
     "metadata": {},
     "output_type": "display_data"
    }
   ],
   "source": [
    "model = model.to(device)\n",
    "\n",
    "criterion = nn.BCELoss()  # Binary Cross-Entropy Loss\n",
    "optimizer = optim.Adam(model.parameters(), lr=0.001)\n",
    "\n",
    "num_epochs = 100\n",
    "batch_size = 4\n",
    "\n",
    "best_test_loss = float('inf')\n",
    "best_model_state = None\n",
    "\n",
    "train_losses = []\n",
    "test_losses = []\n",
    "\n",
    "for epoch in range(num_epochs):\n",
    "    train_loss = 0.0\n",
    "    test_loss = 0.0\n",
    "\n",
    "    # Training\n",
    "    model.train()\n",
    "\n",
    "    batch_no = 1\n",
    "\n",
    "    for batch in train_loader:\n",
    "\n",
    "        print('Epoch',epoch,'Processing Batch No:', batch_no)\n",
    "\n",
    "        images, labels = batch\n",
    "\n",
    "        images = images.to(device)\n",
    "        labels = labels.to(device)\n",
    "\n",
    "        # Forward pass\n",
    "        reconstructions = model(images)\n",
    "        loss = criterion(reconstructions, labels.float())\n",
    "\n",
    "        # Backward pass and optimization\n",
    "        optimizer.zero_grad()\n",
    "        loss.backward()\n",
    "        optimizer.step()\n",
    "\n",
    "        train_loss += loss.item() * images.size(0)\n",
    "\n",
    "        batch_no = batch_no + 1\n",
    "\n",
    "    train_loss /= len(train_loader.dataset)\n",
    "    train_losses.append(train_loss)\n",
    "\n",
    "    # Evaluation\n",
    "    model.eval()\n",
    "    with torch.no_grad():\n",
    "        for batch in val_dataset:\n",
    "            images, labels = batch\n",
    "\n",
    "            images = images.to(device)\n",
    "            labels = labels.to(device)\n",
    "\n",
    "            # Forward pass\n",
    "            reconstructions = model(images)\n",
    "            loss = criterion(reconstructions, labels.float())\n",
    "\n",
    "            test_loss += loss.item() * images.size(0)\n",
    "\n",
    "        test_loss /= len(val_loader.dataset)\n",
    "        test_losses.append(test_loss)\n",
    "\n",
    "        # Check if current model has the lowest test loss so far\n",
    "        # if test_loss < best_test_loss:\n",
    "        #     best_test_loss = test_loss\n",
    "        #     best_model_state = model.state_dict().copy()\n",
    "\n",
    "\n",
    "\n",
    "    print(f\"Epoch [{epoch+1}/{num_epochs}], Train Loss: {train_loss:.4f}, Test Loss: {test_loss:.4f}\")\n",
    "\n",
    "    if epoch % 50 == 0:\n",
    "        torch.save(model, '../models/ink_detection_pretrained_papyri_1024_256_upsample_u_net_middle_layer_'+str(layer_depth)+'epoch_'+str(num_epochs)+'_batch_'+str(batch_size)+'.pt')\n",
    "\n",
    "# Plotting train and test loss\n",
    "plt.plot(range(1, num_epochs+1), train_losses, label='Train Loss')\n",
    "plt.plot(range(1, num_epochs+1), test_losses, label='Validation Loss')\n",
    "plt.xlabel('Epoch')\n",
    "plt.ylabel('Loss')\n",
    "plt.legend()\n",
    "plt.show()"
   ],
   "metadata": {
    "collapsed": false,
    "pycharm": {
     "name": "#%%\n"
    }
   }
  },
  {
   "cell_type": "code",
   "execution_count": 37,
   "outputs": [],
   "source": [
    "model = torch.load('../models/ink_detection_pretrained_papyri_1024_256_upsample_u_net_middle_layer_32epoch_100_batch_4.pt')\n",
    "\n",
    "model.eval()  # Set the model to evaluation mode\n",
    "\n",
    "results_test = []\n",
    "\n",
    "with torch.no_grad():\n",
    "    for batch in train_loader:\n",
    "        # Move the batch to the GPU if available\n",
    "        image, label = batch\n",
    "\n",
    "        # Perform inference\n",
    "        outputs = model(image.to(device))\n",
    "        results_test.append(label)\n",
    "        results_test.append(outputs)"
   ],
   "metadata": {
    "collapsed": false,
    "pycharm": {
     "name": "#%%\n"
    }
   }
  },
  {
   "cell_type": "code",
   "execution_count": 38,
   "outputs": [
    {
     "data": {
      "text/plain": "<Figure size 640x480 with 1 Axes>",
      "image/png": "[encoded data removed]"
     },
     "metadata": {},
     "output_type": "display_data"
    },
    {
     "data": {
      "text/plain": "<Figure size 640x480 with 1 Axes>",
      "image/png": "[encoded data removed]"
     },
     "metadata": {},
     "output_type": "display_data"
    },
    {
     "data": {
      "text/plain": "<Figure size 640x480 with 1 Axes>",
      "image/png": "[encoded data removed]"
     },
     "metadata": {},
     "output_type": "display_data"
    },
    {
     "data": {
      "text/plain": "<Figure size 640x480 with 1 Axes>",
      "image/png": "[encoded data removed]"
     },
     "metadata": {},
     "output_type": "display_data"
    }
   ],
   "source": [
    "outputs_np = []\n",
    "for result in results_test:\n",
    "    # Convert the PyTorch tensor to a NumPy array\n",
    "    outputs_np.append(result.cpu().numpy())\n",
    "\n",
    "# Iterate over the outputs\n",
    "for i in range(len(outputs_np)):\n",
    "    output = outputs_np[i][0][0]\n",
    "\n",
    "    # Display the output as an image\n",
    "    plt.imshow(output, cmap='gray')  # Assuming grayscale images\n",
    "    plt.axis('off')\n",
    "    plt.show()"
   ],
   "metadata": {
    "collapsed": false,
    "pycharm": {
     "name": "#%%\n"
    }
   }
  },
  {
   "cell_type": "code",
   "execution_count": null,
   "outputs": [],
   "source": [],
   "metadata": {
    "collapsed": false,
    "pycharm": {
     "name": "#%%\n"
    }
   }
  }
 ],
 "metadata": {
  "kernelspec": {
   "display_name": "Python 3",
   "language": "python",
   "name": "python3"
  },
  "language_info": {
   "codemirror_mode": {
    "name": "ipython",
    "version": 2
   },
   "file_extension": ".py",
   "mimetype": "text/x-python",
   "name": "python",
   "nbconvert_exporter": "python",
   "pygments_lexer": "ipython2",
   "version": "2.7.6"
  }
 },
 "nbformat": 4,
 "nbformat_minor": 0
}